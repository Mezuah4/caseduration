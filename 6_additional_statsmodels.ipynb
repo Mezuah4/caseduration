{
 "cells": [
  {
   "cell_type": "markdown",
   "metadata": {},
   "source": [
    "# Additional Improvements to ANN"
   ]
  },
  {
   "cell_type": "markdown",
   "metadata": {},
   "source": [
    "## Import Relevant Libraries"
   ]
  },
  {
   "cell_type": "code",
   "execution_count": 1,
   "metadata": {
    "collapsed": true
   },
   "outputs": [],
   "source": [
    "# Basic\n",
    "import numpy as np\n",
    "import pandas as pd\n",
    "import patsy\n",
    "\n",
    "# Data Operations\n",
    "from sklearn.model_selection import train_test_split\n",
    "from sklearn.preprocessing import MinMaxScaler\n",
    "\n",
    "# Data Visualisation\n",
    "import matplotlib.pyplot as plt\n",
    "\n",
    "# Models\n",
    "from statsmodels.genmod.families import Poisson, NegativeBinomial\n",
    "from statsmodels.genmod.generalized_linear_model import GLM\n",
    "\n",
    "# Evaluation\n",
    "from sklearn.metrics import r2_score"
   ]
  },
  {
   "cell_type": "markdown",
   "metadata": {},
   "source": [
    "## Set Random Seed"
   ]
  },
  {
   "cell_type": "code",
   "execution_count": 170,
   "metadata": {
    "pycharm": {
     "name": "#%%\n"
    }
   },
   "outputs": [],
   "source": [
    "SEED = 1212"
   ]
  },
  {
   "cell_type": "markdown",
   "metadata": {},
   "source": [
    "## Import Data"
   ]
  },
  {
   "cell_type": "code",
   "execution_count": 171,
   "metadata": {
    "pycharm": {
     "name": "#%%\n"
    }
   },
   "outputs": [
    {
     "data": {
      "text/html": [
       "<div>\n",
       "<style scoped>\n",
       "    .dataframe tbody tr th:only-of-type {\n",
       "        vertical-align: middle;\n",
       "    }\n",
       "\n",
       "    .dataframe tbody tr th {\n",
       "        vertical-align: top;\n",
       "    }\n",
       "\n",
       "    .dataframe thead th {\n",
       "        text-align: right;\n",
       "    }\n",
       "</style>\n",
       "<table border=\"1\" class=\"dataframe\">\n",
       "  <thead>\n",
       "    <tr style=\"text-align: right;\">\n",
       "      <th></th>\n",
       "      <th>DIVISION_CODE</th>\n",
       "      <th>COUNCIL_AREA_CODE</th>\n",
       "      <th>GROUP</th>\n",
       "      <th>OCCUR_RANGE</th>\n",
       "      <th>REPORT_DELAY</th>\n",
       "      <th>INVESTIGATION_DURATION</th>\n",
       "    </tr>\n",
       "  </thead>\n",
       "  <tbody>\n",
       "    <tr>\n",
       "      <th>0</th>\n",
       "      <td>1</td>\n",
       "      <td>Aberdeen City</td>\n",
       "      <td>1.0</td>\n",
       "      <td>0</td>\n",
       "      <td>0</td>\n",
       "      <td>0</td>\n",
       "    </tr>\n",
       "    <tr>\n",
       "      <th>1</th>\n",
       "      <td>1</td>\n",
       "      <td>Aberdeen City</td>\n",
       "      <td>1.0</td>\n",
       "      <td>0</td>\n",
       "      <td>0</td>\n",
       "      <td>0</td>\n",
       "    </tr>\n",
       "    <tr>\n",
       "      <th>2</th>\n",
       "      <td>1</td>\n",
       "      <td>Aberdeen City</td>\n",
       "      <td>1.0</td>\n",
       "      <td>0</td>\n",
       "      <td>0</td>\n",
       "      <td>1</td>\n",
       "    </tr>\n",
       "    <tr>\n",
       "      <th>3</th>\n",
       "      <td>1</td>\n",
       "      <td>Aberdeenshire</td>\n",
       "      <td>3.0</td>\n",
       "      <td>0</td>\n",
       "      <td>0</td>\n",
       "      <td>0</td>\n",
       "    </tr>\n",
       "    <tr>\n",
       "      <th>4</th>\n",
       "      <td>1</td>\n",
       "      <td>Aberdeen City</td>\n",
       "      <td>3.0</td>\n",
       "      <td>0</td>\n",
       "      <td>0</td>\n",
       "      <td>0</td>\n",
       "    </tr>\n",
       "    <tr>\n",
       "      <th>...</th>\n",
       "      <td>...</td>\n",
       "      <td>...</td>\n",
       "      <td>...</td>\n",
       "      <td>...</td>\n",
       "      <td>...</td>\n",
       "      <td>...</td>\n",
       "    </tr>\n",
       "    <tr>\n",
       "      <th>2625959</th>\n",
       "      <td>10</td>\n",
       "      <td>South Lanarkshire</td>\n",
       "      <td>7.0</td>\n",
       "      <td>0</td>\n",
       "      <td>0</td>\n",
       "      <td>0</td>\n",
       "    </tr>\n",
       "    <tr>\n",
       "      <th>2625960</th>\n",
       "      <td>5</td>\n",
       "      <td>City of Edinburgh</td>\n",
       "      <td>7.0</td>\n",
       "      <td>0</td>\n",
       "      <td>1</td>\n",
       "      <td>0</td>\n",
       "    </tr>\n",
       "    <tr>\n",
       "      <th>2625961</th>\n",
       "      <td>1</td>\n",
       "      <td>Aberdeen City</td>\n",
       "      <td>7.0</td>\n",
       "      <td>0</td>\n",
       "      <td>50</td>\n",
       "      <td>2</td>\n",
       "    </tr>\n",
       "    <tr>\n",
       "      <th>2625962</th>\n",
       "      <td>5</td>\n",
       "      <td>City of Edinburgh</td>\n",
       "      <td>7.0</td>\n",
       "      <td>0</td>\n",
       "      <td>1</td>\n",
       "      <td>0</td>\n",
       "    </tr>\n",
       "    <tr>\n",
       "      <th>2625963</th>\n",
       "      <td>1</td>\n",
       "      <td>Aberdeen City</td>\n",
       "      <td>7.0</td>\n",
       "      <td>0</td>\n",
       "      <td>0</td>\n",
       "      <td>1</td>\n",
       "    </tr>\n",
       "  </tbody>\n",
       "</table>\n",
       "<p>2625964 rows × 6 columns</p>\n",
       "</div>"
      ],
      "text/plain": [
       "         DIVISION_CODE  COUNCIL_AREA_CODE  GROUP  OCCUR_RANGE  REPORT_DELAY  \\\n",
       "0                    1      Aberdeen City    1.0            0             0   \n",
       "1                    1      Aberdeen City    1.0            0             0   \n",
       "2                    1      Aberdeen City    1.0            0             0   \n",
       "3                    1      Aberdeenshire    3.0            0             0   \n",
       "4                    1      Aberdeen City    3.0            0             0   \n",
       "...                ...                ...    ...          ...           ...   \n",
       "2625959             10  South Lanarkshire    7.0            0             0   \n",
       "2625960              5  City of Edinburgh    7.0            0             1   \n",
       "2625961              1      Aberdeen City    7.0            0            50   \n",
       "2625962              5  City of Edinburgh    7.0            0             1   \n",
       "2625963              1      Aberdeen City    7.0            0             0   \n",
       "\n",
       "         INVESTIGATION_DURATION  \n",
       "0                             0  \n",
       "1                             0  \n",
       "2                             1  \n",
       "3                             0  \n",
       "4                             0  \n",
       "...                         ...  \n",
       "2625959                       0  \n",
       "2625960                       0  \n",
       "2625961                       2  \n",
       "2625962                       0  \n",
       "2625963                       1  \n",
       "\n",
       "[2625964 rows x 6 columns]"
      ]
     },
     "execution_count": 171,
     "metadata": {},
     "output_type": "execute_result"
    }
   ],
   "source": [
    "# Import Data\n",
    "df = pd.read_csv(\"data/sanitized_additional.csv\")\n",
    "df = df[['DIVISION_CODE', 'COUNCIL_AREA_CODE', 'GROUP', 'OCCUR_RANGE', 'REPORT_DELAY', 'INVESTIGATION_DURATION']]\n",
    "df"
   ]
  },
  {
   "cell_type": "markdown",
   "metadata": {},
   "source": [
    "## Data Preparation"
   ]
  },
  {
   "cell_type": "code",
   "execution_count": 172,
   "metadata": {
    "pycharm": {
     "name": "#%%\n"
    }
   },
   "outputs": [],
   "source": [
    "# Split Target and Features\n",
    "x = df.drop(\"INVESTIGATION_DURATION\", axis=1)\n",
    "y = df[\"INVESTIGATION_DURATION\"]"
   ]
  },
  {
   "cell_type": "code",
   "execution_count": 173,
   "metadata": {
    "pycharm": {
     "name": "#%%\n"
    }
   },
   "outputs": [],
   "source": [
    "# Train Test Split\n",
    "x_train, x_test, y_train, y_test = train_test_split(x, y, test_size=0.25, shuffle=True, random_state=SEED)"
   ]
  },
  {
   "cell_type": "code",
   "execution_count": 174,
   "metadata": {
    "pycharm": {
     "name": "#%%\n"
    }
   },
   "outputs": [],
   "source": [
    "# Scale Continuous\n",
    "scaler = MinMaxScaler()\n",
    "scaler.fit(np.array(x_train['OCCUR_RANGE']).reshape(-1, 1))\n",
    "\n",
    "x_train['OCCUR_RANGE'] = scaler.transform(np.array(x_train['OCCUR_RANGE']).reshape(-1, 1))\n",
    "x_test['OCCUR_RANGE'] = scaler.transform(np.array(x_test['OCCUR_RANGE']).reshape(-1, 1))\n",
    "\n",
    "scaler = MinMaxScaler()\n",
    "scaler.fit(np.array(x_train['REPORT_DELAY']).reshape(-1, 1))\n",
    "x_train['REPORT_DELAY'] = scaler.transform(np.array(x_train['REPORT_DELAY']).reshape(-1, 1))\n",
    "x_test['REPORT_DELAY'] = scaler.transform(np.array(x_test['REPORT_DELAY']).reshape(-1, 1))"
   ]
  },
  {
   "cell_type": "code",
   "execution_count": 175,
   "metadata": {
    "pycharm": {
     "name": "#%%\n"
    }
   },
   "outputs": [],
   "source": [
    "# Recombine Targets & Features\n",
    "train = x_train\n",
    "train['INVESTIGATION_DURATION'] = y_train\n",
    "\n",
    "test = x_test\n",
    "test['INVESTIGATION_DURATION'] = y_test"
   ]
  },
  {
   "cell_type": "code",
   "execution_count": 176,
   "metadata": {
    "pycharm": {
     "name": "#%%\n"
    }
   },
   "outputs": [],
   "source": [
    "# Convert Data Format\n",
    "formula = 'INVESTIGATION_DURATION ~ C(DIVISION_CODE) + C(COUNCIL_AREA_CODE) + C(GROUP) + OCCUR_RANGE + REPORT_DELAY'\n",
    "y_train, x_train = patsy.dmatrices(formula, train, return_type='matrix')\n",
    "y_test, x_test = patsy.dmatrices(formula, test, return_type='matrix')"
   ]
  },
  {
   "cell_type": "markdown",
   "metadata": {},
   "source": [
    "## Helper Functions (For Visualisation)"
   ]
  },
  {
   "cell_type": "code",
   "execution_count": 177,
   "metadata": {
    "pycharm": {
     "name": "#%%\n"
    }
   },
   "outputs": [],
   "source": [
    "def fit_scatter(y_true, y_pred):\n",
    "    y_pred = y_pred.reshape(y_true.shape)\n",
    "    plt.scatter(y_true[::10], y_pred[::10])\n",
    "    plt.plot([y_true.min(), y_true.max()], [y_true.min(), y_true.max()], 'k--', lw=4)\n",
    "    plt.xlabel('Measured')\n",
    "    plt.ylabel('Predicted')"
   ]
  },
  {
   "cell_type": "markdown",
   "metadata": {},
   "source": [
    "### Poisson Regression"
   ]
  },
  {
   "cell_type": "code",
   "execution_count": 178,
   "metadata": {
    "pycharm": {
     "name": "#%%\n"
    }
   },
   "outputs": [
    {
     "name": "stderr",
     "output_type": "stream",
     "text": [
      "c:\\users\\mezuah4\\appdata\\local\\programs\\python\\python37\\lib\\site-packages\\statsmodels\\base\\model.py:593: HessianInversionWarning: Inverting hessian failed, no bse or cov_params available\n",
      "  'available', HessianInversionWarning)\n",
      "c:\\users\\mezuah4\\appdata\\local\\programs\\python\\python37\\lib\\site-packages\\statsmodels\\base\\model.py:606: ConvergenceWarning: Maximum Likelihood optimization failed to converge. Check mle_retvals\n",
      "  ConvergenceWarning)\n"
     ]
    }
   ],
   "source": [
    "# Train Model\n",
    "pos = GLM(y_train, x_train, family=Poisson())\n",
    "result = pos.fit(method='bfgs')"
   ]
  },
  {
   "cell_type": "code",
   "execution_count": 179,
   "metadata": {
    "pycharm": {
     "name": "#%%\n"
    }
   },
   "outputs": [
    {
     "name": "stdout",
     "output_type": "stream",
     "text": [
      "Train R2 Score:  0.02217271422818523\n",
      "Test R2 Score:  0.015880174984753248\n"
     ]
    }
   ],
   "source": [
    "# Get Training and Test Scores\n",
    "pred_train = result.predict(x_train)\n",
    "pred_test = result.predict(x_test)\n",
    "\n",
    "print(\"Train R2 Score: \", r2_score(y_train, pred_train))\n",
    "print(\"Test R2 Score: \", r2_score(y_test, pred_test))"
   ]
  },
  {
   "cell_type": "code",
   "execution_count": 180,
   "metadata": {
    "pycharm": {
     "name": "#%%\n"
    }
   },
   "outputs": [
    {
     "data": {
      "image/png": "[encoded data removed]",
      "text/plain": [
       "<Figure size 432x288 with 1 Axes>"
      ]
     },
     "metadata": {
      "needs_background": "light"
     },
     "output_type": "display_data"
    }
   ],
   "source": [
    "# Get Fit Scatter\n",
    "fit_scatter(y_test, pred_test)\n",
    "plt.savefig('images/additional/poisson_fit.pdf')\n",
    "plt.show()"
   ]
  },
  {
   "cell_type": "markdown",
   "metadata": {},
   "source": [
    "### Negative Binomial Regression"
   ]
  },
  {
   "cell_type": "code",
   "execution_count": 181,
   "metadata": {
    "pycharm": {
     "name": "#%%\n"
    }
   },
   "outputs": [
    {
     "name": "stderr",
     "output_type": "stream",
     "text": [
      "c:\\users\\mezuah4\\appdata\\local\\programs\\python\\python37\\lib\\site-packages\\statsmodels\\base\\model.py:593: HessianInversionWarning: Inverting hessian failed, no bse or cov_params available\n",
      "  'available', HessianInversionWarning)\n",
      "c:\\users\\mezuah4\\appdata\\local\\programs\\python\\python37\\lib\\site-packages\\statsmodels\\base\\model.py:606: ConvergenceWarning: Maximum Likelihood optimization failed to converge. Check mle_retvals\n",
      "  ConvergenceWarning)\n"
     ]
    }
   ],
   "source": [
    "# Train Model\n",
    "inf_pos = GLM(y_train, x_train, family=NegativeBinomial())\n",
    "result2 = inf_pos.fit(method='bfgs')"
   ]
  },
  {
   "cell_type": "code",
   "execution_count": 182,
   "metadata": {
    "pycharm": {
     "name": "#%%\n"
    }
   },
   "outputs": [
    {
     "name": "stdout",
     "output_type": "stream",
     "text": [
      "Train R2 Score:  -1781683364.2098663\n",
      "Test R2 Score:  -17636504215.197292\n"
     ]
    }
   ],
   "source": [
    "# Get Training and Test Scores\n",
    "pred_train = result2.predict(x_train)\n",
    "pred_test = result2.predict(x_test)\n",
    "\n",
    "print(\"Train R2 Score: \", r2_score(y_train, pred_train))\n",
    "print(\"Test R2 Score: \", r2_score(y_test, pred_test))"
   ]
  },
  {
   "cell_type": "code",
   "execution_count": 183,
   "metadata": {
    "pycharm": {
     "name": "#%%\n"
    }
   },
   "outputs": [
    {
     "data": {
      "image/png": "[encoded data removed]",
      "text/plain": [
       "<Figure size 432x288 with 1 Axes>"
      ]
     },
     "metadata": {
      "needs_background": "light"
     },
     "output_type": "display_data"
    }
   ],
   "source": [
    "# Get Fit Scatter\n",
    "fit_scatter(y_test, pred_test)\n",
    "plt.ylim(-1000, 20000)\n",
    "plt.savefig('images/additional/nb_fit.pdf')\n",
    "plt.show()"
   ]
  }
 ],
 "metadata": {
  "kernelspec": {
   "display_name": "Python 3",
   "language": "python",
   "name": "python3"
  },
  "language_info": {
   "codemirror_mode": {
    "name": "ipython",
    "version": 3
   },
   "file_extension": ".py",
   "mimetype": "text/x-python",
   "name": "python",
   "nbconvert_exporter": "python",
   "pygments_lexer": "ipython3",
   "version": "3.7.0"
  }
 },
 "nbformat": 4,
 "nbformat_minor": 1
}