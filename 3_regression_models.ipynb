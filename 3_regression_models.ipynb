{
 "cells": [
  {
   "cell_type": "markdown",
   "metadata": {},
   "source": [
    "# Regression Models"
   ]
  },
  {
   "cell_type": "markdown",
   "metadata": {},
   "source": [
    "## Import Relevant Libraries"
   ]
  },
  {
   "cell_type": "code",
   "execution_count": 1,
   "metadata": {
    "collapsed": true
   },
   "outputs": [],
   "source": [
    "# Basic\n",
    "import random\n",
    "import numpy as np\n",
    "import pandas as pd\n",
    "\n",
    "# Data Operations\n",
    "import category_encoders as ce\n",
    "from sklearn.model_selection import train_test_split\n",
    "\n",
    "# Data Visualisation\n",
    "import matplotlib.pyplot as plt\n",
    "\n",
    "# Hyperparameter Optimisation\n",
    "from sklearn.model_selection import GridSearchCV, RepeatedKFold\n",
    "from itertools import product\n",
    "\n",
    "# Artificial Neural Network\n",
    "import tensorflow as tf\n",
    "from tensorflow import keras\n",
    "from keras.layers import Dense, Input\n",
    "from keras.models import Sequential\n",
    "\n",
    "# Decision Tree\n",
    "from sklearn.tree import DecisionTreeRegressor\n",
    "\n",
    "# Model Evaluation\n",
    "from sklearn.metrics import r2_score, mean_squared_error"
   ]
  },
  {
   "cell_type": "markdown",
   "metadata": {},
   "source": [
    "## Global Params"
   ]
  },
  {
   "cell_type": "code",
   "execution_count": 15,
   "metadata": {
    "pycharm": {
     "name": "#%%\n"
    }
   },
   "outputs": [],
   "source": [
    "SEED = 1212\n",
    "DEVICE = \"/GPU:0\"\n",
    "CORES = 4"
   ]
  },
  {
   "cell_type": "markdown",
   "metadata": {},
   "source": [
    "## Import Data"
   ]
  },
  {
   "cell_type": "code",
   "execution_count": 16,
   "metadata": {
    "pycharm": {
     "name": "#%%\n"
    }
   },
   "outputs": [
    {
     "data": {
      "text/html": [
       "<div>\n",
       "<style scoped>\n",
       "    .dataframe tbody tr th:only-of-type {\n",
       "        vertical-align: middle;\n",
       "    }\n",
       "\n",
       "    .dataframe tbody tr th {\n",
       "        vertical-align: top;\n",
       "    }\n",
       "\n",
       "    .dataframe thead th {\n",
       "        text-align: right;\n",
       "    }\n",
       "</style>\n",
       "<table border=\"1\" class=\"dataframe\">\n",
       "  <thead>\n",
       "    <tr style=\"text-align: right;\">\n",
       "      <th></th>\n",
       "      <th>DIVISION_CODE</th>\n",
       "      <th>COUNCIL_AREA_CODE</th>\n",
       "      <th>GROUP</th>\n",
       "      <th>INVESTIGATION_DURATION</th>\n",
       "    </tr>\n",
       "  </thead>\n",
       "  <tbody>\n",
       "    <tr>\n",
       "      <th>0</th>\n",
       "      <td>1</td>\n",
       "      <td>Aberdeen City</td>\n",
       "      <td>1.0</td>\n",
       "      <td>0</td>\n",
       "    </tr>\n",
       "    <tr>\n",
       "      <th>1</th>\n",
       "      <td>1</td>\n",
       "      <td>Aberdeen City</td>\n",
       "      <td>1.0</td>\n",
       "      <td>0</td>\n",
       "    </tr>\n",
       "    <tr>\n",
       "      <th>2</th>\n",
       "      <td>1</td>\n",
       "      <td>Aberdeen City</td>\n",
       "      <td>1.0</td>\n",
       "      <td>1</td>\n",
       "    </tr>\n",
       "    <tr>\n",
       "      <th>3</th>\n",
       "      <td>1</td>\n",
       "      <td>Aberdeenshire</td>\n",
       "      <td>3.0</td>\n",
       "      <td>0</td>\n",
       "    </tr>\n",
       "    <tr>\n",
       "      <th>4</th>\n",
       "      <td>1</td>\n",
       "      <td>Aberdeen City</td>\n",
       "      <td>3.0</td>\n",
       "      <td>0</td>\n",
       "    </tr>\n",
       "    <tr>\n",
       "      <th>...</th>\n",
       "      <td>...</td>\n",
       "      <td>...</td>\n",
       "      <td>...</td>\n",
       "      <td>...</td>\n",
       "    </tr>\n",
       "    <tr>\n",
       "      <th>2798123</th>\n",
       "      <td>3</td>\n",
       "      <td>Highland</td>\n",
       "      <td>7.0</td>\n",
       "      <td>1</td>\n",
       "    </tr>\n",
       "    <tr>\n",
       "      <th>2798124</th>\n",
       "      <td>3</td>\n",
       "      <td>Highland</td>\n",
       "      <td>7.0</td>\n",
       "      <td>1</td>\n",
       "    </tr>\n",
       "    <tr>\n",
       "      <th>2798125</th>\n",
       "      <td>3</td>\n",
       "      <td>Highland</td>\n",
       "      <td>7.0</td>\n",
       "      <td>0</td>\n",
       "    </tr>\n",
       "    <tr>\n",
       "      <th>2798126</th>\n",
       "      <td>3</td>\n",
       "      <td>Highland</td>\n",
       "      <td>7.0</td>\n",
       "      <td>0</td>\n",
       "    </tr>\n",
       "    <tr>\n",
       "      <th>2798127</th>\n",
       "      <td>3</td>\n",
       "      <td>Highland</td>\n",
       "      <td>7.0</td>\n",
       "      <td>0</td>\n",
       "    </tr>\n",
       "  </tbody>\n",
       "</table>\n",
       "<p>2798128 rows × 4 columns</p>\n",
       "</div>"
      ],
      "text/plain": [
       "         DIVISION_CODE COUNCIL_AREA_CODE  GROUP  INVESTIGATION_DURATION\n",
       "0                    1     Aberdeen City    1.0                       0\n",
       "1                    1     Aberdeen City    1.0                       0\n",
       "2                    1     Aberdeen City    1.0                       1\n",
       "3                    1     Aberdeenshire    3.0                       0\n",
       "4                    1     Aberdeen City    3.0                       0\n",
       "...                ...               ...    ...                     ...\n",
       "2798123              3          Highland    7.0                       1\n",
       "2798124              3          Highland    7.0                       1\n",
       "2798125              3          Highland    7.0                       0\n",
       "2798126              3          Highland    7.0                       0\n",
       "2798127              3          Highland    7.0                       0\n",
       "\n",
       "[2798128 rows x 4 columns]"
      ]
     },
     "execution_count": 16,
     "metadata": {},
     "output_type": "execute_result"
    }
   ],
   "source": [
    "# Import Data\n",
    "df = pd.read_csv(\"data/sanitized_basic.csv\")\n",
    "df = df[['DIVISION_CODE', 'COUNCIL_AREA_CODE', 'GROUP', 'INVESTIGATION_DURATION']]\n",
    "df"
   ]
  },
  {
   "cell_type": "markdown",
   "metadata": {},
   "source": [
    "## Data Preparation"
   ]
  },
  {
   "cell_type": "code",
   "execution_count": 17,
   "metadata": {
    "pycharm": {
     "name": "#%%\n"
    }
   },
   "outputs": [],
   "source": [
    "# Split Target and Features\n",
    "x = df.drop(\"INVESTIGATION_DURATION\", axis=1)\n",
    "y = df[\"INVESTIGATION_DURATION\"]"
   ]
  },
  {
   "cell_type": "code",
   "execution_count": 18,
   "metadata": {
    "pycharm": {
     "name": "#%%\n"
    }
   },
   "outputs": [],
   "source": [
    "# Encode Categorical Variables\n",
    "encoder = ce.BinaryEncoder(cols=['DIVISION_CODE', 'COUNCIL_AREA_CODE', 'GROUP'])\n",
    "x = encoder.fit_transform(x)"
   ]
  },
  {
   "cell_type": "code",
   "execution_count": 19,
   "metadata": {
    "pycharm": {
     "name": "#%%\n"
    }
   },
   "outputs": [],
   "source": [
    "# Train Test Split - ANN\n",
    "x_train1, x_test1, y_train1, y_test1 = train_test_split(x, y, test_size=0.25, shuffle=True, random_state=SEED)\n",
    "x_train1, x_val1, y_train1, y_val1 = train_test_split(x_train1, y_train1, test_size=0.20, shuffle=True, random_state=SEED)"
   ]
  },
  {
   "cell_type": "code",
   "execution_count": 25,
   "metadata": {
    "pycharm": {
     "name": "#%%\n"
    }
   },
   "outputs": [],
   "source": [
    "# Train Test Split - DT\n",
    "x_train2, x_test2, y_train2, y_test2 = train_test_split(x, y, test_size=0.25, shuffle=True, random_state=SEED)"
   ]
  },
  {
   "cell_type": "markdown",
   "metadata": {},
   "source": [
    "## Helper Functions (For Visualisation)"
   ]
  },
  {
   "cell_type": "code",
   "execution_count": 21,
   "metadata": {
    "pycharm": {
     "name": "#%%\n"
    }
   },
   "outputs": [],
   "source": [
    "def fit_scatter(y_true, y_pred):\n",
    "    \"\"\"Produces Fit Scatter Graph.\n",
    "    Plots Measured Value Against Predicted Value.\n",
    "    Only Shows Every 10th Point\"\"\"\n",
    "    y_pred = y_pred.reshape(y_true.shape)\n",
    "    plt.scatter(y_true[::10], y_pred[::10])\n",
    "    plt.plot([y_true.min(), y_true.max()], [y_true.min(), y_true.max()], 'k--', lw=4)\n",
    "    plt.xlabel('Measured')\n",
    "    plt.ylabel('Predicted')"
   ]
  },
  {
   "cell_type": "code",
   "execution_count": 22,
   "metadata": {
    "pycharm": {
     "name": "#%%\n"
    }
   },
   "outputs": [],
   "source": [
    "def plot_learning(model_history):\n",
    "    \"\"\"Plots learning curve of Keras Model from History\"\"\"\n",
    "    history_dict = model_history.history\n",
    "    loss_values = history_dict['loss']\n",
    "    val_loss_values = history_dict['val_loss']\n",
    "    plt.plot(loss_values, 'b', label='Training')\n",
    "    plt.plot(val_loss_values, 'r', label='Validation')\n",
    "    plt.legend(loc=\"upper right\")\n",
    "    plt.xlabel('Epoch')\n",
    "    plt.ylabel('Loss (MSE)')"
   ]
  },
  {
   "cell_type": "markdown",
   "metadata": {},
   "source": [
    "## Model Optimisation"
   ]
  },
  {
   "cell_type": "markdown",
   "metadata": {},
   "source": [
    "### Artificial Neural Network"
   ]
  },
  {
   "cell_type": "code",
   "execution_count": 10,
   "metadata": {
    "pycharm": {
     "name": "#%%\n"
    }
   },
   "outputs": [],
   "source": [
    "def build_model(input_shape, n_layers, n_nodes, lr):\n",
    "    \"\"\"Takes input shape, layer dimensions and learning rate.\n",
    "        Returns compiled model.\"\"\"\n",
    "\n",
    "    # Create Model\n",
    "    mod = Sequential()\n",
    "\n",
    "    # Input Layer\n",
    "    mod.add(Input(shape=input_shape))\n",
    "\n",
    "    # Hidden Layers\n",
    "    for layer in range(n_layers):\n",
    "        mod.add(Dense(n_nodes, activation='relu'))\n",
    "\n",
    "    # Output Layer\n",
    "    mod.add(Dense(1, activation='linear'))\n",
    "\n",
    "    # Loss Function\n",
    "    loss_func = keras.losses.MeanSquaredError()\n",
    "\n",
    "    # Compile Model\n",
    "    mod.compile(optimizer=keras.optimizers.Adam(learning_rate=lr), loss=loss_func)\n",
    "\n",
    "    return mod"
   ]
  },
  {
   "cell_type": "code",
   "execution_count": 11,
   "metadata": {
    "pycharm": {
     "name": "#%%\n"
    }
   },
   "outputs": [],
   "source": [
    "def train_model(mod, feat, targ, val_feat, val_targ, batch):\n",
    "    \"\"\"Takes a model, training data, validation data and batch size.\n",
    "        Returns Fitted Model\n",
    "    \"\"\"\n",
    "\n",
    "    with tf.device(DEVICE):\n",
    "\n",
    "        # Early Stopping Callback\n",
    "        early = keras.callbacks.EarlyStopping(monitor='val_loss', patience=10, min_delta=1, verbose=0, restore_best_weights=True)\n",
    "\n",
    "        # Train Model\n",
    "        hist = mod.fit(feat, targ,\n",
    "                       epochs=100,\n",
    "                       batch_size=batch,\n",
    "                       callbacks=early,\n",
    "                       validation_data=(val_feat, val_targ),\n",
    "                       shuffle=True)\n",
    "\n",
    "        # Return Model and Learning Curve\n",
    "        return mod, hist"
   ]
  },
  {
   "cell_type": "code",
   "execution_count": 60,
   "metadata": {
    "pycharm": {
     "name": "#%%\n"
    }
   },
   "outputs": [],
   "source": [
    "# Parameter Ranges\n",
    "hidden_layers = list(np.arange(2, 7, 1))\n",
    "nodes = list(np.arange(10, 128, 2))\n",
    "learning_rate = [1e-2, 1e-3, 1e-4, 1e-5]\n",
    "batch_size = (128, 256, 512, 1024)"
   ]
  },
  {
   "cell_type": "code",
   "execution_count": 61,
   "metadata": {
    "pycharm": {
     "name": "#%%\n"
    }
   },
   "outputs": [],
   "source": [
    "# All Combinations of Parameters\n",
    "combs = list(product(hidden_layers, nodes, learning_rate, batch_size))"
   ]
  },
  {
   "cell_type": "code",
   "execution_count": 62,
   "metadata": {
    "pycharm": {
     "name": "#%%\n"
    }
   },
   "outputs": [
    {
     "data": {
      "text/plain": [
       "[(4, 80, 0.0001, 256),\n",
       " (4, 68, 0.0001, 128),\n",
       " (5, 68, 0.001, 512),\n",
       " (3, 46, 0.0001, 512),\n",
       " (6, 62, 1e-05, 256),\n",
       " (6, 92, 0.01, 128),\n",
       " (3, 36, 0.01, 1024),\n",
       " (4, 110, 0.001, 1024),\n",
       " (5, 90, 1e-05, 1024),\n",
       " (4, 62, 0.01, 512)]"
      ]
     },
     "execution_count": 62,
     "metadata": {},
     "output_type": "execute_result"
    }
   ],
   "source": [
    "# Random Sample from Combinations\n",
    "random.seed(SEED)\n",
    "sample = random.sample(combs, 10)\n",
    "sample"
   ]
  },
  {
   "cell_type": "code",
   "execution_count": 63,
   "metadata": {
    "pycharm": {
     "name": "#%%\n"
    }
   },
   "outputs": [
    {
     "name": "stdout",
     "output_type": "stream",
     "text": [
      "--- Training Model ---\n",
      "Hidden Layers:  4  Nodes Per Layer:  80  Learning Rate:  0.0001  Batch Size:  256\n",
      "Epoch 1/100\n",
      "6559/6559 [==============================] - 14s 2ms/step - loss: 10078.2822 - val_loss: 10119.1289\n",
      "Epoch 2/100\n",
      "6559/6559 [==============================] - 14s 2ms/step - loss: 9965.7354 - val_loss: 10058.5059\n",
      "Epoch 3/100\n",
      "6559/6559 [==============================] - 31s 5ms/step - loss: 9937.0195 - val_loss: 10041.4463\n",
      "Epoch 4/100\n",
      "6559/6559 [==============================] - 14s 2ms/step - loss: 9930.2148 - val_loss: 10034.5352\n",
      "Epoch 5/100\n",
      "6559/6559 [==============================] - 14s 2ms/step - loss: 9927.5322 - val_loss: 10034.4287\n",
      "Epoch 6/100\n",
      "6559/6559 [==============================] - 14s 2ms/step - loss: 9926.8301 - val_loss: 10031.8896\n",
      "Epoch 7/100\n",
      "6559/6559 [==============================] - 14s 2ms/step - loss: 9925.5605 - val_loss: 10032.3037\n",
      "Epoch 8/100\n",
      "6559/6559 [==============================] - 14s 2ms/step - loss: 9924.9082 - val_loss: 10034.3623\n",
      "Epoch 9/100\n",
      "6559/6559 [==============================] - 13s 2ms/step - loss: 9924.2939 - val_loss: 10031.7363\n",
      "Epoch 10/100\n",
      "6559/6559 [==============================] - 13s 2ms/step - loss: 9923.0400 - val_loss: 10029.9355\n",
      "Epoch 11/100\n",
      "6559/6559 [==============================] - 13s 2ms/step - loss: 9923.2959 - val_loss: 10033.3838\n",
      "Epoch 12/100\n",
      "6559/6559 [==============================] - 13s 2ms/step - loss: 9922.4727 - val_loss: 10032.5684\n",
      "Epoch 13/100\n",
      "6559/6559 [==============================] - 13s 2ms/step - loss: 9922.2930 - val_loss: 10035.0684\n",
      "Epoch 14/100\n",
      "6559/6559 [==============================] - 14s 2ms/step - loss: 9922.1445 - val_loss: 10029.7051\n",
      "Epoch 15/100\n",
      "6559/6559 [==============================] - 14s 2ms/step - loss: 9921.8955 - val_loss: 10028.2832\n",
      "Epoch 16/100\n",
      "6559/6559 [==============================] - 14s 2ms/step - loss: 9921.7324 - val_loss: 10029.2969\n",
      "Epoch 17/100\n",
      "6559/6559 [==============================] - 14s 2ms/step - loss: 9921.2148 - val_loss: 10028.5752\n",
      "Epoch 18/100\n",
      "6559/6559 [==============================] - 13s 2ms/step - loss: 9921.4053 - val_loss: 10028.6592\n",
      "Epoch 19/100\n",
      "6559/6559 [==============================] - 14s 2ms/step - loss: 9920.6104 - val_loss: 10031.2021\n",
      "Epoch 20/100\n",
      "6559/6559 [==============================] - 13s 2ms/step - loss: 9921.2676 - val_loss: 10029.4570\n",
      "Epoch 21/100\n",
      "6559/6559 [==============================] - 14s 2ms/step - loss: 9920.7705 - val_loss: 10028.7490\n",
      "Epoch 22/100\n",
      "6559/6559 [==============================] - 14s 2ms/step - loss: 9920.8555 - val_loss: 10027.7988\n",
      "Epoch 23/100\n",
      "6559/6559 [==============================] - 13s 2ms/step - loss: 9920.7295 - val_loss: 10027.2354\n",
      "Epoch 24/100\n",
      "6559/6559 [==============================] - 14s 2ms/step - loss: 9920.4736 - val_loss: 10028.2422\n",
      "Epoch 25/100\n",
      "6559/6559 [==============================] - 14s 2ms/step - loss: 9920.7949 - val_loss: 10029.4131\n",
      "Epoch 26/100\n",
      "6559/6559 [==============================] - 14s 2ms/step - loss: 9920.8467 - val_loss: 10026.5596\n",
      "Epoch 27/100\n",
      "6559/6559 [==============================] - 14s 2ms/step - loss: 9920.1309 - val_loss: 10034.1523\n",
      "Epoch 28/100\n",
      "6559/6559 [==============================] - 15s 2ms/step - loss: 9920.3740 - val_loss: 10031.5439\n",
      "Epoch 29/100\n",
      "6559/6559 [==============================] - 15s 2ms/step - loss: 9920.3672 - val_loss: 10027.4141\n",
      "Epoch 30/100\n",
      "6559/6559 [==============================] - 15s 2ms/step - loss: 9919.8506 - val_loss: 10029.4111\n",
      "Epoch 31/100\n",
      "6559/6559 [==============================] - 14s 2ms/step - loss: 9920.1533 - val_loss: 10028.5020\n",
      "Epoch 32/100\n",
      "6559/6559 [==============================] - 14s 2ms/step - loss: 9920.1855 - val_loss: 10026.4863\n",
      "Epoch 33/100\n",
      "6559/6559 [==============================] - 14s 2ms/step - loss: 9919.7285 - val_loss: 10028.5732\n",
      "13117/13117 [==============================] - 14s 1ms/step - loss: 10027.2432\n",
      "Best Weights Validation Score:  10027.2431640625\n",
      "Best Validation Score:  10027.2431640625\n",
      "Best Config:  (4, 80, 0.0001, 256)\n",
      "--- Training Model ---\n",
      "Hidden Layers:  4  Nodes Per Layer:  68  Learning Rate:  0.0001  Batch Size:  128\n",
      "Epoch 1/100\n",
      "13117/13117 [==============================] - 30s 2ms/step - loss: 10055.7422 - val_loss: 10103.3213\n",
      "Epoch 2/100\n",
      "13117/13117 [==============================] - 28s 2ms/step - loss: 9959.0977 - val_loss: 10052.9277\n",
      "Epoch 3/100\n",
      "13117/13117 [==============================] - 28s 2ms/step - loss: 9935.2021 - val_loss: 10038.7607\n",
      "Epoch 4/100\n",
      "13117/13117 [==============================] - 28s 2ms/step - loss: 9929.2490 - val_loss: 10038.2227\n",
      "Epoch 5/100\n",
      "13117/13117 [==============================] - 28s 2ms/step - loss: 9927.5420 - val_loss: 10032.6855\n",
      "Epoch 6/100\n",
      "13117/13117 [==============================] - 27s 2ms/step - loss: 9926.2246 - val_loss: 10031.9531\n",
      "Epoch 7/100\n",
      "13117/13117 [==============================] - 28s 2ms/step - loss: 9925.4941 - val_loss: 10033.9951\n",
      "Epoch 8/100\n",
      "13117/13117 [==============================] - 28s 2ms/step - loss: 9924.7510 - val_loss: 10035.2734\n",
      "Epoch 9/100\n",
      "13117/13117 [==============================] - 29s 2ms/step - loss: 9923.9502 - val_loss: 10035.6035\n",
      "Epoch 10/100\n",
      "13117/13117 [==============================] - 28s 2ms/step - loss: 9923.6494 - val_loss: 10035.7676\n",
      "Epoch 11/100\n",
      "13117/13117 [==============================] - 27s 2ms/step - loss: 9922.7939 - val_loss: 10031.5801\n",
      "Epoch 12/100\n",
      "13117/13117 [==============================] - 27s 2ms/step - loss: 9922.7686 - val_loss: 10030.1465\n",
      "Epoch 13/100\n",
      "13117/13117 [==============================] - 27s 2ms/step - loss: 9922.8057 - val_loss: 10030.0566\n",
      "Epoch 14/100\n",
      "13117/13117 [==============================] - 27s 2ms/step - loss: 9922.0273 - val_loss: 10030.7520\n",
      "Epoch 15/100\n",
      "13117/13117 [==============================] - 28s 2ms/step - loss: 9922.3057 - val_loss: 10030.8838\n",
      "Epoch 16/100\n",
      "13117/13117 [==============================] - 28s 2ms/step - loss: 9921.8096 - val_loss: 10033.1943\n",
      "Epoch 17/100\n",
      "13117/13117 [==============================] - 28s 2ms/step - loss: 9922.0752 - val_loss: 10029.4365\n",
      "Epoch 18/100\n",
      "13117/13117 [==============================] - 28s 2ms/step - loss: 9921.9951 - val_loss: 10030.5771\n",
      "Epoch 19/100\n",
      "13117/13117 [==============================] - 28s 2ms/step - loss: 9921.5537 - val_loss: 10027.0010\n",
      "Epoch 20/100\n",
      "13117/13117 [==============================] - 28s 2ms/step - loss: 9921.5703 - val_loss: 10032.0459\n",
      "Epoch 21/100\n",
      "13117/13117 [==============================] - 28s 2ms/step - loss: 9921.2314 - val_loss: 10026.2979\n",
      "Epoch 22/100\n",
      "13117/13117 [==============================] - 28s 2ms/step - loss: 9921.4268 - val_loss: 10027.1719\n",
      "Epoch 23/100\n",
      "13117/13117 [==============================] - 28s 2ms/step - loss: 9921.2451 - val_loss: 10029.9189\n",
      "Epoch 24/100\n",
      "13117/13117 [==============================] - 28s 2ms/step - loss: 9920.8203 - val_loss: 10031.5752\n",
      "Epoch 25/100\n",
      "13117/13117 [==============================] - 27s 2ms/step - loss: 9920.9473 - val_loss: 10029.5498\n",
      "Epoch 26/100\n",
      "13117/13117 [==============================] - 28s 2ms/step - loss: 9920.7822 - val_loss: 10028.7148\n",
      "Epoch 27/100\n",
      "13117/13117 [==============================] - 26s 2ms/step - loss: 9921.6865 - val_loss: 10029.8848\n",
      "Epoch 28/100\n",
      "13117/13117 [==============================] - 26s 2ms/step - loss: 9920.5303 - val_loss: 10029.3799\n",
      "Epoch 29/100\n",
      "13117/13117 [==============================] - 27s 2ms/step - loss: 9921.0049 - val_loss: 10026.6670\n",
      "13117/13117 [==============================] - 13s 1ms/step - loss: 10027.0127\n",
      "Best Weights Validation Score:  10027.0126953125\n",
      "Best Validation Score:  10027.0126953125\n",
      "Best Config:  (4, 68, 0.0001, 128)\n",
      "--- Training Model ---\n",
      "Hidden Layers:  5  Nodes Per Layer:  68  Learning Rate:  0.001  Batch Size:  512\n",
      "Epoch 1/100\n",
      "3280/3280 [==============================] - 8s 2ms/step - loss: 9972.8994 - val_loss: 10035.8682\n",
      "Epoch 2/100\n",
      "3280/3280 [==============================] - 8s 2ms/step - loss: 9935.6289 - val_loss: 10035.0312\n",
      "Epoch 3/100\n",
      "3280/3280 [==============================] - 8s 2ms/step - loss: 9932.8027 - val_loss: 10031.9121\n",
      "Epoch 4/100\n",
      "3280/3280 [==============================] - 7s 2ms/step - loss: 9931.2188 - val_loss: 10032.6699\n",
      "Epoch 5/100\n",
      "3280/3280 [==============================] - 7s 2ms/step - loss: 9930.1670 - val_loss: 10041.3447\n",
      "Epoch 6/100\n",
      "3280/3280 [==============================] - 7s 2ms/step - loss: 9929.1436 - val_loss: 10028.2480\n",
      "Epoch 7/100\n",
      "3280/3280 [==============================] - 8s 2ms/step - loss: 9927.2363 - val_loss: 10038.4541\n",
      "Epoch 8/100\n",
      "3280/3280 [==============================] - 8s 2ms/step - loss: 9926.7637 - val_loss: 10029.2061\n",
      "Epoch 9/100\n",
      "3280/3280 [==============================] - 8s 2ms/step - loss: 9926.4062 - val_loss: 10027.7490\n",
      "Epoch 10/100\n",
      "3280/3280 [==============================] - 8s 2ms/step - loss: 9924.9609 - val_loss: 10030.7588\n",
      "Epoch 11/100\n",
      "3280/3280 [==============================] - 8s 2ms/step - loss: 9925.6270 - val_loss: 10027.7734\n",
      "Epoch 12/100\n",
      "3280/3280 [==============================] - 8s 2ms/step - loss: 9924.1104 - val_loss: 10049.8662\n",
      "Epoch 13/100\n",
      "3280/3280 [==============================] - 8s 2ms/step - loss: 9924.7217 - val_loss: 10029.9658\n",
      "Epoch 14/100\n",
      "3280/3280 [==============================] - 8s 2ms/step - loss: 9924.1992 - val_loss: 10026.4941\n",
      "Epoch 15/100\n",
      "3280/3280 [==============================] - 8s 2ms/step - loss: 9924.5703 - val_loss: 10031.6768\n",
      "Epoch 16/100\n",
      "3280/3280 [==============================] - 8s 2ms/step - loss: 9923.2227 - val_loss: 10030.6758\n",
      "Epoch 17/100\n",
      "3280/3280 [==============================] - 8s 2ms/step - loss: 9923.4248 - val_loss: 10025.3555\n",
      "Epoch 18/100\n",
      "3280/3280 [==============================] - 8s 2ms/step - loss: 9921.6543 - val_loss: 10028.4570\n",
      "Epoch 19/100\n",
      "3280/3280 [==============================] - 7s 2ms/step - loss: 9923.5615 - val_loss: 10027.1289\n",
      "Epoch 20/100\n",
      "3280/3280 [==============================] - 7s 2ms/step - loss: 9923.2666 - val_loss: 10025.8477\n",
      "Epoch 21/100\n",
      "3280/3280 [==============================] - 8s 2ms/step - loss: 9922.1934 - val_loss: 10032.4404\n",
      "Epoch 22/100\n",
      "3280/3280 [==============================] - 8s 2ms/step - loss: 9923.4756 - val_loss: 10027.2725\n",
      "Epoch 23/100\n",
      "3280/3280 [==============================] - 8s 2ms/step - loss: 9923.0117 - val_loss: 10027.2549\n",
      "Epoch 24/100\n",
      "3280/3280 [==============================] - 8s 2ms/step - loss: 9923.5303 - val_loss: 10036.4072\n",
      "Epoch 25/100\n",
      "3280/3280 [==============================] - 8s 2ms/step - loss: 9921.8281 - val_loss: 10024.5146\n",
      "Epoch 26/100\n",
      "3280/3280 [==============================] - 8s 2ms/step - loss: 9921.7939 - val_loss: 10036.8867\n",
      "Epoch 27/100\n",
      "3280/3280 [==============================] - 8s 2ms/step - loss: 9921.5762 - val_loss: 10026.5156\n",
      "13117/13117 [==============================] - 15s 1ms/step - loss: 10025.3555\n",
      "Best Weights Validation Score:  10025.35546875\n",
      "Best Validation Score:  10025.35546875\n",
      "Best Config:  (5, 68, 0.001, 512)\n",
      "--- Training Model ---\n",
      "Hidden Layers:  3  Nodes Per Layer:  46  Learning Rate:  0.0001  Batch Size:  512\n",
      "Epoch 1/100\n",
      "3280/3280 [==============================] - 7s 2ms/step - loss: 10182.1670 - val_loss: 10217.8154\n",
      "Epoch 2/100\n",
      "3280/3280 [==============================] - 7s 2ms/step - loss: 10077.1104 - val_loss: 10175.2402\n",
      "Epoch 3/100\n",
      "3280/3280 [==============================] - 7s 2ms/step - loss: 10042.0439 - val_loss: 10144.6445\n",
      "Epoch 4/100\n",
      "3280/3280 [==============================] - 7s 2ms/step - loss: 10014.8701 - val_loss: 10121.3516\n",
      "Epoch 5/100\n",
      "3280/3280 [==============================] - 7s 2ms/step - loss: 9993.2891 - val_loss: 10101.2549\n",
      "Epoch 6/100\n",
      "3280/3280 [==============================] - 7s 2ms/step - loss: 9976.3584 - val_loss: 10085.8379\n",
      "Epoch 7/100\n",
      "3280/3280 [==============================] - 7s 2ms/step - loss: 9962.5059 - val_loss: 10071.9053\n",
      "Epoch 8/100\n",
      "3280/3280 [==============================] - 7s 2ms/step - loss: 9951.6172 - val_loss: 10060.6387\n",
      "Epoch 9/100\n",
      "3280/3280 [==============================] - 7s 2ms/step - loss: 9943.2129 - val_loss: 10053.2119\n",
      "Epoch 10/100\n",
      "3280/3280 [==============================] - 7s 2ms/step - loss: 9937.3779 - val_loss: 10047.4287\n",
      "Epoch 11/100\n",
      "3280/3280 [==============================] - 6s 2ms/step - loss: 9933.1797 - val_loss: 10042.1572\n",
      "Epoch 12/100\n",
      "3280/3280 [==============================] - 7s 2ms/step - loss: 9930.2002 - val_loss: 10039.1650\n",
      "Epoch 13/100\n",
      "3280/3280 [==============================] - 7s 2ms/step - loss: 9928.3516 - val_loss: 10037.4639\n",
      "Epoch 14/100\n",
      "3280/3280 [==============================] - 7s 2ms/step - loss: 9927.1934 - val_loss: 10035.4316\n",
      "Epoch 15/100\n",
      "3280/3280 [==============================] - 7s 2ms/step - loss: 9926.0420 - val_loss: 10034.3652\n",
      "Epoch 16/100\n",
      "3280/3280 [==============================] - 7s 2ms/step - loss: 9925.5273 - val_loss: 10034.0820\n",
      "Epoch 17/100\n",
      "3280/3280 [==============================] - 7s 2ms/step - loss: 9924.9453 - val_loss: 10033.4170\n",
      "Epoch 18/100\n",
      "3280/3280 [==============================] - 6s 2ms/step - loss: 9924.6768 - val_loss: 10032.3018\n",
      "Epoch 19/100\n",
      "3280/3280 [==============================] - 7s 2ms/step - loss: 9924.1016 - val_loss: 10031.9238\n",
      "Epoch 20/100\n",
      "3280/3280 [==============================] - 7s 2ms/step - loss: 9923.7402 - val_loss: 10031.2314\n",
      "Epoch 21/100\n",
      "3280/3280 [==============================] - 7s 2ms/step - loss: 9923.3506 - val_loss: 10032.1084\n",
      "Epoch 22/100\n",
      "3280/3280 [==============================] - 7s 2ms/step - loss: 9923.1748 - val_loss: 10030.3447\n",
      "Epoch 23/100\n",
      "3280/3280 [==============================] - 7s 2ms/step - loss: 9922.9180 - val_loss: 10030.6816\n",
      "Epoch 24/100\n",
      "3280/3280 [==============================] - 7s 2ms/step - loss: 9922.6670 - val_loss: 10030.2100\n",
      "Epoch 25/100\n",
      "3280/3280 [==============================] - 7s 2ms/step - loss: 9922.3467 - val_loss: 10030.2178\n",
      "Epoch 26/100\n",
      "3280/3280 [==============================] - 7s 2ms/step - loss: 9922.0557 - val_loss: 10030.3242\n",
      "Epoch 27/100\n",
      "3280/3280 [==============================] - 7s 2ms/step - loss: 9921.9121 - val_loss: 10029.8438\n",
      "Epoch 28/100\n",
      "3280/3280 [==============================] - 7s 2ms/step - loss: 9921.7412 - val_loss: 10029.2803\n",
      "Epoch 29/100\n",
      "3280/3280 [==============================] - 7s 2ms/step - loss: 9921.5420 - val_loss: 10029.3027\n",
      "Epoch 30/100\n",
      "3280/3280 [==============================] - 7s 2ms/step - loss: 9921.4551 - val_loss: 10031.2783\n",
      "Epoch 31/100\n",
      "3280/3280 [==============================] - 7s 2ms/step - loss: 9921.1895 - val_loss: 10029.6768\n",
      "Epoch 32/100\n",
      "3280/3280 [==============================] - 7s 2ms/step - loss: 9921.2920 - val_loss: 10028.6973\n",
      "Epoch 33/100\n",
      "3280/3280 [==============================] - 7s 2ms/step - loss: 9920.9668 - val_loss: 10029.5479\n",
      "Epoch 34/100\n",
      "3280/3280 [==============================] - 7s 2ms/step - loss: 9921.0020 - val_loss: 10028.1387\n",
      "Epoch 35/100\n",
      "3280/3280 [==============================] - 7s 2ms/step - loss: 9920.5859 - val_loss: 10028.8496\n",
      "Epoch 36/100\n",
      "3280/3280 [==============================] - 7s 2ms/step - loss: 9920.5869 - val_loss: 10027.9189\n",
      "Epoch 37/100\n",
      "3280/3280 [==============================] - 6s 2ms/step - loss: 9920.5166 - val_loss: 10029.7891\n",
      "Epoch 38/100\n",
      "3280/3280 [==============================] - 7s 2ms/step - loss: 9920.3379 - val_loss: 10028.2051\n",
      "Epoch 39/100\n",
      "3280/3280 [==============================] - 7s 2ms/step - loss: 9920.0967 - val_loss: 10028.2344\n",
      "Epoch 40/100\n",
      "3280/3280 [==============================] - 7s 2ms/step - loss: 9920.1309 - val_loss: 10027.7891\n",
      "Epoch 41/100\n",
      "3280/3280 [==============================] - 7s 2ms/step - loss: 9920.1104 - val_loss: 10028.8955\n",
      "Epoch 42/100\n",
      "3280/3280 [==============================] - 7s 2ms/step - loss: 9920.0254 - val_loss: 10028.5146\n",
      "13117/13117 [==============================] - 14s 1ms/step - loss: 10028.6992\n",
      "Best Weights Validation Score:  10028.69921875\n",
      "Best Validation Score:  10025.35546875\n",
      "Best Config:  (5, 68, 0.001, 512)\n",
      "--- Training Model ---\n",
      "Hidden Layers:  6  Nodes Per Layer:  62  Learning Rate:  1e-05  Batch Size:  256\n",
      "Epoch 1/100\n",
      "6559/6559 [==============================] - 18s 3ms/step - loss: 10262.7715 - val_loss: 10281.8965\n",
      "Epoch 2/100\n",
      "6559/6559 [==============================] - 17s 3ms/step - loss: 10132.1865 - val_loss: 10217.0908\n",
      "Epoch 3/100\n",
      "6559/6559 [==============================] - 17s 3ms/step - loss: 10084.1504 - val_loss: 10186.9092\n",
      "Epoch 4/100\n",
      "6559/6559 [==============================] - 17s 3ms/step - loss: 10061.2090 - val_loss: 10167.2080\n",
      "Epoch 5/100\n",
      "6559/6559 [==============================] - 16s 2ms/step - loss: 10042.7764 - val_loss: 10150.4121\n",
      "Epoch 6/100\n",
      "6559/6559 [==============================] - 17s 3ms/step - loss: 10027.8779 - val_loss: 10137.2471\n",
      "Epoch 7/100\n",
      "6559/6559 [==============================] - 18s 3ms/step - loss: 10015.7148 - val_loss: 10126.0332\n",
      "Epoch 8/100\n",
      "6559/6559 [==============================] - 17s 3ms/step - loss: 10005.1387 - val_loss: 10115.9258\n",
      "Epoch 9/100\n",
      "6559/6559 [==============================] - 17s 3ms/step - loss: 9995.7969 - val_loss: 10107.2090\n",
      "Epoch 10/100\n",
      "6559/6559 [==============================] - 16s 2ms/step - loss: 9987.4805 - val_loss: 10099.4629\n",
      "Epoch 11/100\n",
      "6559/6559 [==============================] - 18s 3ms/step - loss: 9979.9648 - val_loss: 10091.8018\n",
      "Epoch 12/100\n",
      "6559/6559 [==============================] - 17s 3ms/step - loss: 9972.4355 - val_loss: 10084.1025\n",
      "Epoch 13/100\n",
      "6559/6559 [==============================] - 17s 3ms/step - loss: 9965.0186 - val_loss: 10076.2578\n",
      "Epoch 14/100\n",
      "6559/6559 [==============================] - 17s 3ms/step - loss: 9957.5303 - val_loss: 10068.4951\n",
      "Epoch 15/100\n",
      "6559/6559 [==============================] - 18s 3ms/step - loss: 9950.0752 - val_loss: 10060.1562\n",
      "Epoch 16/100\n",
      "6559/6559 [==============================] - 18s 3ms/step - loss: 9943.7627 - val_loss: 10054.1084\n",
      "Epoch 17/100\n",
      "6559/6559 [==============================] - 17s 3ms/step - loss: 9938.9092 - val_loss: 10048.5508\n",
      "Epoch 18/100\n",
      "6559/6559 [==============================] - 17s 3ms/step - loss: 9934.9707 - val_loss: 10046.3604\n",
      "Epoch 19/100\n",
      "6559/6559 [==============================] - 17s 3ms/step - loss: 9932.3057 - val_loss: 10042.4512\n",
      "Epoch 20/100\n",
      "6559/6559 [==============================] - 16s 2ms/step - loss: 9930.3594 - val_loss: 10039.3057\n",
      "Epoch 21/100\n",
      "6559/6559 [==============================] - 16s 2ms/step - loss: 9928.6406 - val_loss: 10038.1865\n",
      "Epoch 22/100\n",
      "6559/6559 [==============================] - 16s 2ms/step - loss: 9927.4189 - val_loss: 10037.9004\n",
      "Epoch 23/100\n",
      "6559/6559 [==============================] - 16s 2ms/step - loss: 9926.5215 - val_loss: 10035.7920\n",
      "Epoch 24/100\n",
      "6559/6559 [==============================] - 16s 2ms/step - loss: 9925.7568 - val_loss: 10034.8828\n",
      "Epoch 25/100\n",
      "6559/6559 [==============================] - 16s 2ms/step - loss: 9925.0928 - val_loss: 10033.9941\n",
      "Epoch 26/100\n",
      "6559/6559 [==============================] - 16s 2ms/step - loss: 9924.5010 - val_loss: 10035.7266\n",
      "Epoch 27/100\n",
      "6559/6559 [==============================] - 16s 2ms/step - loss: 9923.9414 - val_loss: 10032.7393\n",
      "Epoch 28/100\n",
      "6559/6559 [==============================] - 16s 2ms/step - loss: 9923.5693 - val_loss: 10032.4795\n",
      "Epoch 29/100\n",
      "6559/6559 [==============================] - 17s 3ms/step - loss: 9923.2500 - val_loss: 10031.9326\n",
      "Epoch 30/100\n",
      "6559/6559 [==============================] - 16s 2ms/step - loss: 9922.9053 - val_loss: 10032.7988\n",
      "Epoch 31/100\n",
      "6559/6559 [==============================] - 16s 2ms/step - loss: 9922.6016 - val_loss: 10033.8965\n",
      "Epoch 32/100\n",
      "6559/6559 [==============================] - 16s 2ms/step - loss: 9922.4062 - val_loss: 10030.8623\n",
      "Epoch 33/100\n",
      "6559/6559 [==============================] - 18s 3ms/step - loss: 9921.9941 - val_loss: 10030.4375\n",
      "Epoch 34/100\n",
      "6559/6559 [==============================] - 17s 3ms/step - loss: 9921.5869 - val_loss: 10030.5557\n",
      "Epoch 35/100\n",
      "6559/6559 [==============================] - 17s 3ms/step - loss: 9921.3789 - val_loss: 10030.3154\n",
      "Epoch 36/100\n",
      "6559/6559 [==============================] - 17s 3ms/step - loss: 9921.1436 - val_loss: 10031.1133\n",
      "Epoch 37/100\n",
      "6559/6559 [==============================] - 18s 3ms/step - loss: 9921.1260 - val_loss: 10029.3105\n",
      "Epoch 38/100\n",
      "6559/6559 [==============================] - 17s 3ms/step - loss: 9920.7725 - val_loss: 10029.4893\n",
      "Epoch 39/100\n",
      "6559/6559 [==============================] - 18s 3ms/step - loss: 9920.5605 - val_loss: 10030.7090\n",
      "Epoch 40/100\n",
      "6559/6559 [==============================] - 18s 3ms/step - loss: 9920.4961 - val_loss: 10028.9590\n",
      "Epoch 41/100\n",
      "6559/6559 [==============================] - 18s 3ms/step - loss: 9920.0410 - val_loss: 10029.2266\n",
      "Epoch 42/100\n",
      "6559/6559 [==============================] - 18s 3ms/step - loss: 9920.2754 - val_loss: 10028.9248\n",
      "Epoch 43/100\n",
      "6559/6559 [==============================] - 18s 3ms/step - loss: 9920.0605 - val_loss: 10028.7363\n",
      "Epoch 44/100\n",
      "6559/6559 [==============================] - 19s 3ms/step - loss: 9920.0342 - val_loss: 10029.0391\n",
      "Epoch 45/100\n",
      "6559/6559 [==============================] - 18s 3ms/step - loss: 9919.7871 - val_loss: 10029.0215\n",
      "Epoch 46/100\n",
      "6559/6559 [==============================] - 18s 3ms/step - loss: 9919.8057 - val_loss: 10027.6602\n",
      "Epoch 47/100\n",
      "6559/6559 [==============================] - 18s 3ms/step - loss: 9919.6123 - val_loss: 10028.1367\n",
      "Epoch 48/100\n",
      "6559/6559 [==============================] - 18s 3ms/step - loss: 9919.5312 - val_loss: 10028.1709\n",
      "Epoch 49/100\n",
      "6559/6559 [==============================] - 18s 3ms/step - loss: 9919.2881 - val_loss: 10027.8340\n",
      "Epoch 50/100\n",
      "6559/6559 [==============================] - 18s 3ms/step - loss: 9919.5537 - val_loss: 10027.9053\n",
      "Epoch 51/100\n",
      "6559/6559 [==============================] - 18s 3ms/step - loss: 9919.3652 - val_loss: 10027.5928\n",
      "Epoch 52/100\n",
      "6559/6559 [==============================] - 18s 3ms/step - loss: 9919.2285 - val_loss: 10027.4863\n",
      "Epoch 53/100\n",
      "6559/6559 [==============================] - 18s 3ms/step - loss: 9919.1016 - val_loss: 10028.1338\n",
      "Epoch 54/100\n",
      "6559/6559 [==============================] - 18s 3ms/step - loss: 9919.2773 - val_loss: 10027.6611\n",
      "Epoch 55/100\n",
      "6559/6559 [==============================] - 17s 3ms/step - loss: 9918.8633 - val_loss: 10027.5596\n",
      "Epoch 56/100\n",
      "6559/6559 [==============================] - 19s 3ms/step - loss: 9918.6436 - val_loss: 10027.8525\n",
      "13117/13117 [==============================] - 17s 1ms/step - loss: 10027.6416\n",
      "Best Weights Validation Score:  10027.6416015625\n",
      "Best Validation Score:  10025.35546875\n",
      "Best Config:  (5, 68, 0.001, 512)\n",
      "--- Training Model ---\n",
      "Hidden Layers:  6  Nodes Per Layer:  92  Learning Rate:  0.01  Batch Size:  128\n",
      "Epoch 1/100\n",
      "13117/13117 [==============================] - 36s 3ms/step - loss: 10002.6602 - val_loss: 10059.1943\n",
      "Epoch 2/100\n",
      "13117/13117 [==============================] - 35s 3ms/step - loss: 9965.3760 - val_loss: 10052.5576\n",
      "Epoch 3/100\n",
      "13117/13117 [==============================] - 34s 3ms/step - loss: 9976.4766 - val_loss: 10061.1436\n",
      "Epoch 4/100\n",
      "13117/13117 [==============================] - 34s 3ms/step - loss: 9974.6592 - val_loss: 10122.8662\n",
      "Epoch 5/100\n",
      "13117/13117 [==============================] - 33s 3ms/step - loss: 9997.6865 - val_loss: 10074.2275\n",
      "Epoch 6/100\n",
      "13117/13117 [==============================] - 34s 3ms/step - loss: 9968.5410 - val_loss: 10063.7979\n",
      "Epoch 7/100\n",
      "13117/13117 [==============================] - 34s 3ms/step - loss: 9966.6455 - val_loss: 10104.4551\n",
      "Epoch 8/100\n",
      "13117/13117 [==============================] - 36s 3ms/step - loss: 9970.7939 - val_loss: 10066.6191\n",
      "Epoch 9/100\n",
      "13117/13117 [==============================] - 34s 3ms/step - loss: 9968.3691 - val_loss: 10084.4502\n",
      "Epoch 10/100\n",
      "13117/13117 [==============================] - 34s 3ms/step - loss: 9964.8838 - val_loss: 10070.6143\n",
      "Epoch 11/100\n",
      "13117/13117 [==============================] - 33s 2ms/step - loss: 10004.7393 - val_loss: 10104.8086\n",
      "Epoch 12/100\n",
      "13117/13117 [==============================] - 34s 3ms/step - loss: 10109.3330 - val_loss: 10289.4316\n",
      "13117/13117 [==============================] - 16s 1ms/step - loss: 10052.5605\n",
      "Best Weights Validation Score:  10052.560546875\n",
      "Best Validation Score:  10025.35546875\n",
      "Best Config:  (5, 68, 0.001, 512)\n",
      "--- Training Model ---\n",
      "Hidden Layers:  3  Nodes Per Layer:  36  Learning Rate:  0.01  Batch Size:  1024\n",
      "Epoch 1/100\n",
      "1640/1640 [==============================] - 4s 2ms/step - loss: 9982.4590 - val_loss: 10044.1338\n",
      "Epoch 2/100\n",
      "1640/1640 [==============================] - 4s 2ms/step - loss: 9939.7344 - val_loss: 10042.8428\n",
      "Epoch 3/100\n",
      "1640/1640 [==============================] - 3s 2ms/step - loss: 9937.4062 - val_loss: 10036.5518\n",
      "Epoch 4/100\n",
      "1640/1640 [==============================] - 3s 2ms/step - loss: 9932.6904 - val_loss: 10046.9365\n",
      "Epoch 5/100\n",
      "1640/1640 [==============================] - 3s 2ms/step - loss: 9931.7822 - val_loss: 10032.2080\n",
      "Epoch 6/100\n",
      "1640/1640 [==============================] - 3s 2ms/step - loss: 9931.3535 - val_loss: 10033.5713\n",
      "Epoch 7/100\n",
      "1640/1640 [==============================] - 3s 2ms/step - loss: 9930.3662 - val_loss: 10030.6309\n",
      "Epoch 8/100\n",
      "1640/1640 [==============================] - 3s 2ms/step - loss: 9929.4346 - val_loss: 10032.3496\n",
      "Epoch 9/100\n",
      "1640/1640 [==============================] - 3s 2ms/step - loss: 9928.4277 - val_loss: 10032.6172\n",
      "Epoch 10/100\n",
      "1640/1640 [==============================] - 3s 2ms/step - loss: 9928.3232 - val_loss: 10030.7168\n",
      "Epoch 11/100\n",
      "1640/1640 [==============================] - 3s 2ms/step - loss: 9927.8955 - val_loss: 10032.6045\n",
      "Epoch 12/100\n",
      "1640/1640 [==============================] - 3s 2ms/step - loss: 9927.0527 - val_loss: 10031.4736\n",
      "Epoch 13/100\n",
      "1640/1640 [==============================] - 3s 2ms/step - loss: 9927.1973 - val_loss: 10051.0830\n",
      "Epoch 14/100\n",
      "1640/1640 [==============================] - 4s 2ms/step - loss: 9926.8301 - val_loss: 10031.1230\n",
      "Epoch 15/100\n",
      "1640/1640 [==============================] - 4s 2ms/step - loss: 9925.8828 - val_loss: 10032.8867\n",
      "Epoch 16/100\n",
      "1640/1640 [==============================] - 4s 2ms/step - loss: 9926.3369 - val_loss: 10030.6523\n",
      "Epoch 17/100\n",
      "1640/1640 [==============================] - 4s 2ms/step - loss: 9926.7002 - val_loss: 10030.4863\n",
      "13117/13117 [==============================] - 15s 1ms/step - loss: 10030.6289\n",
      "Best Weights Validation Score:  10030.62890625\n",
      "Best Validation Score:  10025.35546875\n",
      "Best Config:  (5, 68, 0.001, 512)\n",
      "--- Training Model ---\n",
      "Hidden Layers:  4  Nodes Per Layer:  110  Learning Rate:  0.001  Batch Size:  1024\n",
      "Epoch 1/100\n",
      "1640/1640 [==============================] - 4s 2ms/step - loss: 9988.5342 - val_loss: 10047.2598\n",
      "Epoch 2/100\n",
      "1640/1640 [==============================] - 4s 2ms/step - loss: 9934.7031 - val_loss: 10038.7900\n",
      "Epoch 3/100\n",
      "1640/1640 [==============================] - 4s 2ms/step - loss: 9931.1758 - val_loss: 10032.2051\n",
      "Epoch 4/100\n",
      "1640/1640 [==============================] - 4s 2ms/step - loss: 9930.7178 - val_loss: 10031.3076\n",
      "Epoch 5/100\n",
      "1640/1640 [==============================] - 4s 2ms/step - loss: 9928.2324 - val_loss: 10035.6484\n",
      "Epoch 6/100\n",
      "1640/1640 [==============================] - 4s 2ms/step - loss: 9928.4668 - val_loss: 10035.9463\n",
      "Epoch 7/100\n",
      "1640/1640 [==============================] - 4s 2ms/step - loss: 9926.9395 - val_loss: 10030.0127\n",
      "Epoch 8/100\n",
      "1640/1640 [==============================] - 4s 2ms/step - loss: 9925.6553 - val_loss: 10027.2363\n",
      "Epoch 9/100\n",
      "1640/1640 [==============================] - 4s 2ms/step - loss: 9925.1113 - val_loss: 10034.5586\n",
      "Epoch 10/100\n",
      "1640/1640 [==============================] - 4s 2ms/step - loss: 9925.0850 - val_loss: 10027.5107\n",
      "Epoch 11/100\n",
      "1640/1640 [==============================] - 4s 2ms/step - loss: 9924.8057 - val_loss: 10028.7881\n",
      "Epoch 12/100\n",
      "1640/1640 [==============================] - 4s 2ms/step - loss: 9923.7812 - val_loss: 10031.0889\n",
      "Epoch 13/100\n",
      "1640/1640 [==============================] - 4s 2ms/step - loss: 9923.4297 - val_loss: 10034.3008\n",
      "Epoch 14/100\n",
      "1640/1640 [==============================] - 4s 2ms/step - loss: 9922.9121 - val_loss: 10034.1943\n",
      "Epoch 15/100\n",
      "1640/1640 [==============================] - 4s 2ms/step - loss: 9922.9590 - val_loss: 10027.1016\n",
      "Epoch 16/100\n",
      "1640/1640 [==============================] - 4s 2ms/step - loss: 9922.9570 - val_loss: 10027.5654\n",
      "Epoch 17/100\n",
      "1640/1640 [==============================] - 4s 2ms/step - loss: 9922.9102 - val_loss: 10026.8096\n",
      "Epoch 18/100\n",
      "1640/1640 [==============================] - 4s 2ms/step - loss: 9922.0684 - val_loss: 10029.8623\n",
      "13117/13117 [==============================] - 15s 1ms/step - loss: 10027.2285\n",
      "Best Weights Validation Score:  10027.228515625\n",
      "Best Validation Score:  10025.35546875\n",
      "Best Config:  (5, 68, 0.001, 512)\n",
      "--- Training Model ---\n",
      "Hidden Layers:  5  Nodes Per Layer:  90  Learning Rate:  1e-05  Batch Size:  1024\n",
      "Epoch 1/100\n",
      "1640/1640 [==============================] - 4s 3ms/step - loss: 10398.4668 - val_loss: 10330.2461\n",
      "Epoch 2/100\n",
      "1640/1640 [==============================] - 4s 2ms/step - loss: 10192.3486 - val_loss: 10287.7402\n",
      "Epoch 3/100\n",
      "1640/1640 [==============================] - 4s 2ms/step - loss: 10154.8350 - val_loss: 10254.2637\n",
      "Epoch 4/100\n",
      "1640/1640 [==============================] - 4s 2ms/step - loss: 10125.4434 - val_loss: 10230.6162\n",
      "Epoch 5/100\n",
      "1640/1640 [==============================] - 4s 2ms/step - loss: 10105.8555 - val_loss: 10215.9941\n",
      "Epoch 6/100\n",
      "1640/1640 [==============================] - 4s 2ms/step - loss: 10093.2666 - val_loss: 10206.0459\n",
      "Epoch 7/100\n",
      "1640/1640 [==============================] - 4s 3ms/step - loss: 10083.8008 - val_loss: 10197.4180\n",
      "Epoch 8/100\n",
      "1640/1640 [==============================] - 4s 3ms/step - loss: 10074.8379 - val_loss: 10188.5156\n",
      "Epoch 9/100\n",
      "1640/1640 [==============================] - 4s 3ms/step - loss: 10065.6973 - val_loss: 10179.1465\n",
      "Epoch 10/100\n",
      "1640/1640 [==============================] - 4s 3ms/step - loss: 10055.9785 - val_loss: 10169.0391\n",
      "Epoch 11/100\n",
      "1640/1640 [==============================] - 4s 2ms/step - loss: 10045.5342 - val_loss: 10158.2393\n",
      "Epoch 12/100\n",
      "1640/1640 [==============================] - 4s 3ms/step - loss: 10034.7607 - val_loss: 10147.3848\n",
      "Epoch 13/100\n",
      "1640/1640 [==============================] - 4s 3ms/step - loss: 10024.2305 - val_loss: 10137.0410\n",
      "Epoch 14/100\n",
      "1640/1640 [==============================] - 4s 3ms/step - loss: 10014.4189 - val_loss: 10127.5059\n",
      "Epoch 15/100\n",
      "1640/1640 [==============================] - 4s 2ms/step - loss: 10005.3076 - val_loss: 10118.6621\n",
      "Epoch 16/100\n",
      "1640/1640 [==============================] - 4s 3ms/step - loss: 9997.1152 - val_loss: 10110.6895\n",
      "Epoch 17/100\n",
      "1640/1640 [==============================] - 4s 3ms/step - loss: 9989.4971 - val_loss: 10103.2207\n",
      "Epoch 18/100\n",
      "1640/1640 [==============================] - 4s 2ms/step - loss: 9982.3965 - val_loss: 10096.1885\n",
      "Epoch 19/100\n",
      "1640/1640 [==============================] - 4s 2ms/step - loss: 9975.8477 - val_loss: 10089.6572\n",
      "Epoch 20/100\n",
      "1640/1640 [==============================] - 4s 2ms/step - loss: 9969.7812 - val_loss: 10083.7793\n",
      "Epoch 21/100\n",
      "1640/1640 [==============================] - 4s 2ms/step - loss: 9964.1904 - val_loss: 10077.7520\n",
      "Epoch 22/100\n",
      "1640/1640 [==============================] - 4s 3ms/step - loss: 9958.8164 - val_loss: 10072.2812\n",
      "Epoch 23/100\n",
      "1640/1640 [==============================] - 4s 3ms/step - loss: 9954.0479 - val_loss: 10067.1006\n",
      "Epoch 24/100\n",
      "1640/1640 [==============================] - 4s 2ms/step - loss: 9949.5479 - val_loss: 10062.4307\n",
      "Epoch 25/100\n",
      "1640/1640 [==============================] - 4s 3ms/step - loss: 9945.6729 - val_loss: 10058.3154\n",
      "Epoch 26/100\n",
      "1640/1640 [==============================] - 4s 3ms/step - loss: 9942.4385 - val_loss: 10055.5859\n",
      "Epoch 27/100\n",
      "1640/1640 [==============================] - 4s 3ms/step - loss: 9939.7744 - val_loss: 10051.9795\n",
      "Epoch 28/100\n",
      "1640/1640 [==============================] - 4s 2ms/step - loss: 9937.3232 - val_loss: 10049.3535\n",
      "Epoch 29/100\n",
      "1640/1640 [==============================] - 4s 2ms/step - loss: 9935.4883 - val_loss: 10047.0811\n",
      "Epoch 30/100\n",
      "1640/1640 [==============================] - 4s 2ms/step - loss: 9933.6787 - val_loss: 10045.4873\n",
      "Epoch 31/100\n",
      "1640/1640 [==============================] - 4s 3ms/step - loss: 9932.3184 - val_loss: 10043.5557\n",
      "Epoch 32/100\n",
      "1640/1640 [==============================] - 4s 3ms/step - loss: 9931.1621 - val_loss: 10042.1455\n",
      "Epoch 33/100\n",
      "1640/1640 [==============================] - 4s 3ms/step - loss: 9930.1836 - val_loss: 10040.9316\n",
      "Epoch 34/100\n",
      "1640/1640 [==============================] - 4s 3ms/step - loss: 9929.2334 - val_loss: 10040.1377\n",
      "Epoch 35/100\n",
      "1640/1640 [==============================] - 4s 2ms/step - loss: 9928.5439 - val_loss: 10038.9795\n",
      "Epoch 36/100\n",
      "1640/1640 [==============================] - 4s 3ms/step - loss: 9927.9395 - val_loss: 10038.1904\n",
      "Epoch 37/100\n",
      "1640/1640 [==============================] - 4s 3ms/step - loss: 9927.3018 - val_loss: 10037.4736\n",
      "Epoch 38/100\n",
      "1640/1640 [==============================] - 4s 3ms/step - loss: 9926.6797 - val_loss: 10036.8271\n",
      "Epoch 39/100\n",
      "1640/1640 [==============================] - 4s 2ms/step - loss: 9926.2617 - val_loss: 10036.1611\n",
      "Epoch 40/100\n",
      "1640/1640 [==============================] - 4s 2ms/step - loss: 9925.8037 - val_loss: 10035.5537\n",
      "Epoch 41/100\n",
      "1640/1640 [==============================] - 4s 3ms/step - loss: 9925.5088 - val_loss: 10035.1562\n",
      "Epoch 42/100\n",
      "1640/1640 [==============================] - 4s 2ms/step - loss: 9924.9756 - val_loss: 10034.7227\n",
      "Epoch 43/100\n",
      "1640/1640 [==============================] - 4s 3ms/step - loss: 9924.7666 - val_loss: 10034.4561\n",
      "Epoch 44/100\n",
      "1640/1640 [==============================] - 4s 3ms/step - loss: 9924.5508 - val_loss: 10034.2139\n",
      "Epoch 45/100\n",
      "1640/1640 [==============================] - 4s 2ms/step - loss: 9924.1729 - val_loss: 10033.9102\n",
      "Epoch 46/100\n",
      "1640/1640 [==============================] - 4s 3ms/step - loss: 9923.9971 - val_loss: 10033.5039\n",
      "Epoch 47/100\n",
      "1640/1640 [==============================] - 4s 2ms/step - loss: 9923.7988 - val_loss: 10033.1016\n",
      "Epoch 48/100\n",
      "1640/1640 [==============================] - 4s 3ms/step - loss: 9923.5449 - val_loss: 10033.5547\n",
      "Epoch 49/100\n",
      "1640/1640 [==============================] - 4s 2ms/step - loss: 9923.3320 - val_loss: 10032.7900\n",
      "Epoch 50/100\n",
      "1640/1640 [==============================] - 4s 3ms/step - loss: 9923.1426 - val_loss: 10032.4209\n",
      "Epoch 51/100\n",
      "1640/1640 [==============================] - 4s 3ms/step - loss: 9922.9482 - val_loss: 10032.0771\n",
      "Epoch 52/100\n",
      "1640/1640 [==============================] - 4s 3ms/step - loss: 9922.6377 - val_loss: 10033.1113\n",
      "Epoch 53/100\n",
      "1640/1640 [==============================] - 4s 2ms/step - loss: 9922.7627 - val_loss: 10031.9238\n",
      "Epoch 54/100\n",
      "1640/1640 [==============================] - 4s 3ms/step - loss: 9922.5781 - val_loss: 10032.1172\n",
      "Epoch 55/100\n",
      "1640/1640 [==============================] - 4s 2ms/step - loss: 9922.3906 - val_loss: 10032.2061\n",
      "Epoch 56/100\n",
      "1640/1640 [==============================] - 4s 3ms/step - loss: 9922.2520 - val_loss: 10031.2637\n",
      "Epoch 57/100\n",
      "1640/1640 [==============================] - 4s 2ms/step - loss: 9922.1641 - val_loss: 10031.1992\n",
      "Epoch 58/100\n",
      "1640/1640 [==============================] - 4s 2ms/step - loss: 9921.9980 - val_loss: 10031.2920\n",
      "Epoch 59/100\n",
      "1640/1640 [==============================] - 4s 2ms/step - loss: 9921.8604 - val_loss: 10030.8076\n",
      "Epoch 60/100\n",
      "1640/1640 [==============================] - 4s 3ms/step - loss: 9921.7773 - val_loss: 10030.7100\n",
      "Epoch 61/100\n",
      "1640/1640 [==============================] - 4s 3ms/step - loss: 9921.5986 - val_loss: 10031.6270\n",
      "Epoch 62/100\n",
      "1640/1640 [==============================] - 4s 3ms/step - loss: 9921.5000 - val_loss: 10031.0312\n",
      "Epoch 63/100\n",
      "1640/1640 [==============================] - 4s 3ms/step - loss: 9921.4326 - val_loss: 10030.5479\n",
      "Epoch 64/100\n",
      "1640/1640 [==============================] - 4s 3ms/step - loss: 9921.3457 - val_loss: 10030.3076\n",
      "Epoch 65/100\n",
      "1640/1640 [==============================] - 4s 2ms/step - loss: 9921.2246 - val_loss: 10030.5869\n",
      "Epoch 66/100\n",
      "1640/1640 [==============================] - 4s 2ms/step - loss: 9921.2637 - val_loss: 10030.2383\n",
      "Epoch 67/100\n",
      "1640/1640 [==============================] - 4s 3ms/step - loss: 9921.0713 - val_loss: 10030.0459\n",
      "Epoch 68/100\n",
      "1640/1640 [==============================] - 4s 2ms/step - loss: 9920.9473 - val_loss: 10029.9727\n",
      "Epoch 69/100\n",
      "1640/1640 [==============================] - 4s 2ms/step - loss: 9920.9717 - val_loss: 10030.1758\n",
      "Epoch 70/100\n",
      "1640/1640 [==============================] - 4s 3ms/step - loss: 9920.8877 - val_loss: 10029.6621\n",
      "Epoch 71/100\n",
      "1640/1640 [==============================] - 4s 3ms/step - loss: 9920.8096 - val_loss: 10029.7217\n",
      "Epoch 72/100\n",
      "1640/1640 [==============================] - 4s 3ms/step - loss: 9920.6973 - val_loss: 10029.5039\n",
      "Epoch 73/100\n",
      "1640/1640 [==============================] - 4s 3ms/step - loss: 9920.5342 - val_loss: 10029.9023\n",
      "Epoch 74/100\n",
      "1640/1640 [==============================] - 4s 3ms/step - loss: 9920.5693 - val_loss: 10029.3340\n",
      "Epoch 75/100\n",
      "1640/1640 [==============================] - 4s 2ms/step - loss: 9920.4180 - val_loss: 10029.4854\n",
      "Epoch 76/100\n",
      "1640/1640 [==============================] - 4s 2ms/step - loss: 9920.3438 - val_loss: 10029.4189\n",
      "13117/13117 [==============================] - 16s 1ms/step - loss: 10030.2686\n",
      "Best Weights Validation Score:  10030.2685546875\n",
      "Best Validation Score:  10025.35546875\n",
      "Best Config:  (5, 68, 0.001, 512)\n",
      "--- Training Model ---\n",
      "Hidden Layers:  4  Nodes Per Layer:  62  Learning Rate:  0.01  Batch Size:  512\n",
      "Epoch 1/100\n",
      "3280/3280 [==============================] - 8s 2ms/step - loss: 9976.9443 - val_loss: 10046.5957\n",
      "Epoch 2/100\n",
      "3280/3280 [==============================] - 8s 2ms/step - loss: 9945.6182 - val_loss: 10070.0996\n",
      "Epoch 3/100\n",
      "3280/3280 [==============================] - 8s 2ms/step - loss: 9938.4707 - val_loss: 10035.4629\n",
      "Epoch 4/100\n",
      "3280/3280 [==============================] - 8s 2ms/step - loss: 9936.5332 - val_loss: 10033.1611\n",
      "Epoch 5/100\n",
      "3280/3280 [==============================] - 7s 2ms/step - loss: 9933.1670 - val_loss: 10033.1338\n",
      "Epoch 6/100\n",
      "3280/3280 [==============================] - 8s 2ms/step - loss: 9931.6133 - val_loss: 10027.7773\n",
      "Epoch 7/100\n",
      "3280/3280 [==============================] - 8s 2ms/step - loss: 9929.6572 - val_loss: 10042.2686\n",
      "Epoch 8/100\n",
      "3280/3280 [==============================] - 8s 2ms/step - loss: 9930.5439 - val_loss: 10031.3447\n",
      "Epoch 9/100\n",
      "3280/3280 [==============================] - 8s 2ms/step - loss: 9930.1426 - val_loss: 10036.7539\n",
      "Epoch 10/100\n",
      "3280/3280 [==============================] - 7s 2ms/step - loss: 9929.8242 - val_loss: 10032.9297\n",
      "Epoch 11/100\n",
      "3280/3280 [==============================] - 8s 2ms/step - loss: 9928.0596 - val_loss: 10026.8320\n",
      "Epoch 12/100\n",
      "3280/3280 [==============================] - 8s 2ms/step - loss: 9928.4160 - val_loss: 10028.8896\n",
      "Epoch 13/100\n",
      "3280/3280 [==============================] - 8s 2ms/step - loss: 9926.3330 - val_loss: 10055.8193\n",
      "Epoch 14/100\n",
      "3280/3280 [==============================] - 8s 2ms/step - loss: 9927.0088 - val_loss: 10028.0068\n",
      "Epoch 15/100\n",
      "3280/3280 [==============================] - 8s 2ms/step - loss: 9927.2490 - val_loss: 10031.5391\n",
      "Epoch 16/100\n",
      "3280/3280 [==============================] - 7s 2ms/step - loss: 9927.2598 - val_loss: 10037.7676\n",
      "13117/13117 [==============================] - 15s 1ms/step - loss: 10027.7578\n",
      "Best Weights Validation Score:  10027.7578125\n",
      "Best Validation Score:  10025.35546875\n",
      "Best Config:  (5, 68, 0.001, 512)\n"
     ]
    }
   ],
   "source": [
    "# Conduct Trials\n",
    "\n",
    "# Set Best Validation Loss to High Number\n",
    "best_validation = 1e20\n",
    "best_config_ann = None\n",
    "\n",
    "# Try Each Random Configuration\n",
    "for comb in sample:\n",
    "\n",
    "    # Print Model Configuration\n",
    "    print(\"--- Training Model ---\")\n",
    "    print(\"Hidden Layers: \", comb[0], \" Nodes Per Layer: \", comb[1], \" Learning Rate: \", comb[2], \" Batch Size: \", comb[3])\n",
    "\n",
    "    # Show Model\n",
    "    model = build_model(x_train1.shape[1], comb[0], comb[1], comb[2])\n",
    "    model, history = train_model(model, x_train1, y_train1, x_val1, y_val1, comb[3])\n",
    "\n",
    "    # Get Validation Score\n",
    "    val_score = model.evaluate(x_val1, y_val1)\n",
    "\n",
    "    # Replace if Best\n",
    "    if val_score < best_validation:\n",
    "        best_validation = val_score\n",
    "        best_config_ann = comb\n",
    "    else:\n",
    "        if best_config_ann is None:\n",
    "            best_config_ann = comb\n",
    "\n",
    "    print(\"Best Weights Validation Score: \", val_score)\n",
    "    print(\"Best Validation Score: \", best_validation)\n",
    "    print(\"Best Config: \", best_config_ann)"
   ]
  },
  {
   "cell_type": "code",
   "execution_count": 64,
   "metadata": {
    "pycharm": {
     "name": "#%%\n"
    }
   },
   "outputs": [
    {
     "data": {
      "text/plain": [
       "(5, 68, 0.001, 512)"
      ]
     },
     "execution_count": 64,
     "metadata": {},
     "output_type": "execute_result"
    }
   ],
   "source": [
    "# Get Best Parameters\n",
    "best_config_ann"
   ]
  },
  {
   "cell_type": "markdown",
   "metadata": {},
   "source": [
    "### Decision Tree"
   ]
  },
  {
   "cell_type": "code",
   "execution_count": 27,
   "metadata": {
    "pycharm": {
     "name": "#%%\n"
    }
   },
   "outputs": [],
   "source": [
    "dt_grid = {\n",
    "    \"criterion\": ['squared_error', 'poisson'],\n",
    "    \"splitter\": ['best', 'random'],\n",
    "    \"max_depth\": [1, 10, 100, 1000, None],\n",
    "    \"min_samples_split\": [2, 10, 20, 30, 40],\n",
    "    \"min_samples_leaf\": [1, 5, 10, 20],\n",
    "    \"max_features\":['auto']\n",
    "}"
   ]
  },
  {
   "cell_type": "code",
   "execution_count": 30,
   "metadata": {
    "pycharm": {
     "name": "#%%\n"
    }
   },
   "outputs": [
    {
     "data": {
      "text/plain": [
       "GridSearchCV(cv=RepeatedKFold(n_repeats=5, n_splits=2, random_state=1212),\n",
       "             estimator=DecisionTreeRegressor(), n_jobs=4,\n",
       "             param_grid={'criterion': ['squared_error', 'poisson'],\n",
       "                         'max_depth': [1, 10, 100, 1000, None],\n",
       "                         'max_features': ['auto'],\n",
       "                         'min_samples_leaf': [1, 5, 10, 20],\n",
       "                         'min_samples_split': [2, 10, 20, 30, 40],\n",
       "                         'splitter': ['best', 'random']},\n",
       "             scoring='neg_mean_squared_error')"
      ]
     },
     "execution_count": 30,
     "metadata": {},
     "output_type": "execute_result"
    }
   ],
   "source": [
    "splitter = RepeatedKFold(n_splits=2, n_repeats=5, random_state=SEED)\n",
    "\n",
    "dt = GridSearchCV(estimator=DecisionTreeRegressor(),\n",
    "                  param_grid=dt_grid,\n",
    "                  cv=splitter,\n",
    "                  n_jobs=CORES,\n",
    "                  scoring='neg_mean_squared_error')\n",
    "\n",
    "# Grid Search\n",
    "dt.fit(x_train2, y_train2)"
   ]
  },
  {
   "cell_type": "code",
   "execution_count": 40,
   "metadata": {
    "pycharm": {
     "name": "#%%\n"
    }
   },
   "outputs": [
    {
     "name": "stdout",
     "output_type": "stream",
     "text": [
      "{'criterion': 'squared_error',\n",
      " 'max_depth': 10,\n",
      " 'max_features': 'auto',\n",
      " 'min_samples_leaf': 1,\n",
      " 'min_samples_split': 30,\n",
      " 'splitter': 'best'}\n"
     ]
    }
   ],
   "source": [
    "best_config_dt = dt.best_params_\n",
    "best_config_dt"
   ]
  },
  {
   "cell_type": "markdown",
   "metadata": {},
   "source": [
    "## Model Evaluation"
   ]
  },
  {
   "cell_type": "markdown",
   "metadata": {},
   "source": [
    "### Artificial Neural Network"
   ]
  },
  {
   "cell_type": "code",
   "execution_count": 12,
   "metadata": {
    "pycharm": {
     "name": "#%%\n"
    }
   },
   "outputs": [
    {
     "name": "stdout",
     "output_type": "stream",
     "text": [
      "Epoch 1/100\n",
      "3280/3280 [==============================] - 10s 3ms/step - loss: 9977.8545 - val_loss: 10036.5078\n",
      "Epoch 2/100\n",
      "3280/3280 [==============================] - 9s 3ms/step - loss: 9935.0938 - val_loss: 10032.8350\n",
      "Epoch 3/100\n",
      "3280/3280 [==============================] - 10s 3ms/step - loss: 9932.2871 - val_loss: 10044.5186\n",
      "Epoch 4/100\n",
      "3280/3280 [==============================] - 10s 3ms/step - loss: 9928.5947 - val_loss: 10036.8535\n",
      "Epoch 5/100\n",
      "3280/3280 [==============================] - 10s 3ms/step - loss: 9928.5391 - val_loss: 10029.9385\n",
      "Epoch 6/100\n",
      "3280/3280 [==============================] - 10s 3ms/step - loss: 9927.6455 - val_loss: 10034.3184\n",
      "Epoch 7/100\n",
      "3280/3280 [==============================] - 10s 3ms/step - loss: 9928.0557 - val_loss: 10030.4307\n",
      "Epoch 8/100\n",
      "3280/3280 [==============================] - 10s 3ms/step - loss: 9925.9209 - val_loss: 10029.4102\n",
      "Epoch 9/100\n",
      "3280/3280 [==============================] - 10s 3ms/step - loss: 9926.4658 - val_loss: 10028.5010\n",
      "Epoch 10/100\n",
      "3280/3280 [==============================] - 10s 3ms/step - loss: 9925.2480 - val_loss: 10027.0059\n",
      "Epoch 11/100\n",
      "3280/3280 [==============================] - 10s 3ms/step - loss: 9925.0059 - val_loss: 10027.3818\n",
      "Epoch 12/100\n",
      "3280/3280 [==============================] - 9s 3ms/step - loss: 9924.2197 - val_loss: 10029.5762\n",
      "Epoch 13/100\n",
      "3280/3280 [==============================] - 9s 3ms/step - loss: 9925.2510 - val_loss: 10027.0879\n",
      "Epoch 14/100\n",
      "3280/3280 [==============================] - 9s 3ms/step - loss: 9924.2129 - val_loss: 10033.9600\n",
      "Epoch 15/100\n",
      "3280/3280 [==============================] - 9s 3ms/step - loss: 9924.3643 - val_loss: 10030.6221\n",
      "Epoch 16/100\n",
      "3280/3280 [==============================] - 9s 3ms/step - loss: 9924.5020 - val_loss: 10034.0840\n",
      "Epoch 17/100\n",
      "3280/3280 [==============================] - 9s 3ms/step - loss: 9923.8623 - val_loss: 10029.3252\n",
      "Epoch 18/100\n",
      "3280/3280 [==============================] - 9s 3ms/step - loss: 9922.0430 - val_loss: 10029.6328\n",
      "Epoch 19/100\n",
      "3280/3280 [==============================] - 9s 3ms/step - loss: 9922.7891 - val_loss: 10027.2695\n",
      "Epoch 20/100\n",
      "3280/3280 [==============================] - 9s 3ms/step - loss: 9923.1299 - val_loss: 10031.4482\n"
     ]
    }
   ],
   "source": [
    "# Retrain Best Model\n",
    "best_ann = build_model(x_train1.shape[1], 5, 68, 0.001)\n",
    "best_ann, history = train_model(best_ann, x_train1, y_train1, x_val1, y_val1, 512)"
   ]
  },
  {
   "cell_type": "code",
   "execution_count": 13,
   "metadata": {
    "pycharm": {
     "name": "#%%\n"
    }
   },
   "outputs": [
    {
     "name": "stdout",
     "output_type": "stream",
     "text": [
      "Train R2 Score:  0.02811282057673148\n",
      "Test R2 Score:  0.02829990445698405\n",
      "Train MSE Score:  9918.767044502894\n",
      "Test MSE Score:  9770.39028624214\n"
     ]
    }
   ],
   "source": [
    "# Get Training and Test Scores\n",
    "ann_pred_train = best_ann.predict(x_train1)\n",
    "ann_pred_test = best_ann.predict(x_test1)\n",
    "\n",
    "print(\"Train R2 Score: \", r2_score(y_train1, ann_pred_train))\n",
    "print(\"Test R2 Score: \", r2_score(y_test1, ann_pred_test))\n",
    "\n",
    "print(\"Train MSE Score: \", mean_squared_error(y_train1, ann_pred_train))\n",
    "print(\"Test MSE Score: \", mean_squared_error(y_test1, ann_pred_test))"
   ]
  },
  {
   "cell_type": "code",
   "execution_count": 67,
   "metadata": {
    "pycharm": {
     "name": "#%%\n"
    }
   },
   "outputs": [
    {
     "data": {
      "image/png": "[encoded data removed]",
      "text/plain": [
       "<Figure size 432x288 with 1 Axes>"
      ]
     },
     "metadata": {
      "needs_background": "light"
     },
     "output_type": "display_data"
    }
   ],
   "source": [
    "# Get Learning Curve\n",
    "plot_learning(history)\n",
    "plt.savefig('images/regression/reg_adam_learning.pdf')\n",
    "plt.show()"
   ]
  },
  {
   "cell_type": "code",
   "execution_count": 68,
   "metadata": {
    "pycharm": {
     "name": "#%%\n"
    }
   },
   "outputs": [
    {
     "data": {
      "image/png": "[encoded data removed]",
      "text/plain": [
       "<Figure size 432x288 with 1 Axes>"
      ]
     },
     "metadata": {
      "needs_background": "light"
     },
     "output_type": "display_data"
    }
   ],
   "source": [
    "# Get Fit Scatter\n",
    "fit_scatter(y_test1, ann_pred_test)\n",
    "plt.savefig('images/regression/reg_adam_fit.pdf')\n",
    "plt.show()"
   ]
  },
  {
   "cell_type": "markdown",
   "metadata": {},
   "source": [
    "### Decision Tree"
   ]
  },
  {
   "cell_type": "code",
   "execution_count": 14,
   "metadata": {
    "pycharm": {
     "name": "#%%\n"
    }
   },
   "outputs": [
    {
     "data": {
      "text/plain": [
       "DecisionTreeRegressor(max_depth=10, max_features='auto', min_samples_split=30)"
      ]
     },
     "execution_count": 14,
     "metadata": {},
     "output_type": "execute_result"
    }
   ],
   "source": [
    "# Retrain Best Model\n",
    "best_dt = DecisionTreeRegressor(criterion='squared_error',\n",
    "                                max_depth=10,\n",
    "                                max_features='auto',\n",
    "                                min_samples_leaf=1,\n",
    "                                min_samples_split=30,\n",
    "                                splitter='best')\n",
    "\n",
    "best_dt.fit(x_train2, y_train2)"
   ]
  },
  {
   "cell_type": "code",
   "execution_count": 15,
   "metadata": {
    "pycharm": {
     "name": "#%%\n"
    }
   },
   "outputs": [
    {
     "name": "stdout",
     "output_type": "stream",
     "text": [
      "Train R2 Score:  0.028668076025615274\n",
      "Test R2 Score:  0.028942924057086206\n",
      "Train MSE Score:  9935.67081463537\n",
      "Test MSE Score:  9763.924760012886\n"
     ]
    }
   ],
   "source": [
    "# Get Training and Test Scores\n",
    "dt_pred_train = best_dt.predict(x_train2)\n",
    "dt_pred_test = best_dt.predict(x_test2)\n",
    "\n",
    "print(\"Train R2 Score: \", r2_score(y_train2, dt_pred_train))\n",
    "print(\"Test R2 Score: \", r2_score(y_test2, dt_pred_test))\n",
    "\n",
    "print(\"Train MSE Score: \", mean_squared_error(y_train2, dt_pred_train))\n",
    "print(\"Test MSE Score: \", mean_squared_error(y_test2, dt_pred_test))"
   ]
  },
  {
   "cell_type": "code",
   "execution_count": 37,
   "metadata": {
    "pycharm": {
     "name": "#%%\n"
    }
   },
   "outputs": [
    {
     "data": {
      "image/png": "[encoded data removed]",
      "text/plain": [
       "<Figure size 432x288 with 1 Axes>"
      ]
     },
     "metadata": {
      "needs_background": "light"
     },
     "output_type": "display_data"
    }
   ],
   "source": [
    "# Get Fit Scatter\n",
    "fit_scatter(y_test2, dt_pred_test)\n",
    "plt.savefig('images/reg_dt_fit.pdf')\n",
    "plt.show()"
   ]
  }
 ],
 "metadata": {
  "kernelspec": {
   "display_name": "Python 3",
   "language": "python",
   "name": "python3"
  },
  "language_info": {
   "codemirror_mode": {
    "name": "ipython",
    "version": 3
   },
   "file_extension": ".py",
   "mimetype": "text/x-python",
   "name": "python",
   "nbconvert_exporter": "python",
   "pygments_lexer": "ipython3",
   "version": "3.7.0"
  }
 },
 "nbformat": 4,
 "nbformat_minor": 1
}