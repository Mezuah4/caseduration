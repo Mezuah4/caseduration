{
 "cells": [
  {
   "cell_type": "markdown",
   "metadata": {},
   "source": [
    "# Regression Models"
   ]
  },
  {
   "cell_type": "markdown",
   "metadata": {},
   "source": [
    "## Import Relevant Libraries"
   ]
  },
  {
   "cell_type": "code",
   "execution_count": 1,
   "metadata": {
    "collapsed": true
   },
   "outputs": [],
   "source": [
    "# Basic\n",
    "import random\n",
    "import numpy as np\n",
    "import pandas as pd\n",
    "\n",
    "# Data Operations\n",
    "import category_encoders as ce\n",
    "from sklearn.model_selection import train_test_split\n",
    "\n",
    "# Data Visualisation\n",
    "import matplotlib.pyplot as plt\n",
    "\n",
    "# Hyperparameter Optimisation\n",
    "from sklearn.model_selection import GridSearchCV, RepeatedKFold\n",
    "from itertools import product\n",
    "\n",
    "# Artificial Neural Network\n",
    "import tensorflow as tf\n",
    "from tensorflow import keras\n",
    "from keras.layers import Dense, Input\n",
    "from keras.models import Sequential\n",
    "\n",
    "# Decision Tree\n",
    "from sklearn.tree import DecisionTreeClassifier\n",
    "\n",
    "# Model Evaluation\n",
    "from sklearn.metrics import f1_score, accuracy_score, ConfusionMatrixDisplay"
   ]
  },
  {
   "cell_type": "markdown",
   "metadata": {},
   "source": [
    "## Global Params"
   ]
  },
  {
   "cell_type": "code",
   "execution_count": 2,
   "metadata": {
    "pycharm": {
     "name": "#%%\n"
    }
   },
   "outputs": [],
   "source": [
    "SEED = 1212\n",
    "DEVICE = \"/GPU:0\"\n",
    "CORES = 4"
   ]
  },
  {
   "cell_type": "markdown",
   "metadata": {},
   "source": [
    "## Import Data"
   ]
  },
  {
   "cell_type": "code",
   "execution_count": 3,
   "metadata": {
    "pycharm": {
     "name": "#%%\n"
    }
   },
   "outputs": [
    {
     "data": {
      "text/html": [
       "<div>\n",
       "<style scoped>\n",
       "    .dataframe tbody tr th:only-of-type {\n",
       "        vertical-align: middle;\n",
       "    }\n",
       "\n",
       "    .dataframe tbody tr th {\n",
       "        vertical-align: top;\n",
       "    }\n",
       "\n",
       "    .dataframe thead th {\n",
       "        text-align: right;\n",
       "    }\n",
       "</style>\n",
       "<table border=\"1\" class=\"dataframe\">\n",
       "  <thead>\n",
       "    <tr style=\"text-align: right;\">\n",
       "      <th></th>\n",
       "      <th>DIVISION_CODE</th>\n",
       "      <th>COUNCIL_AREA_CODE</th>\n",
       "      <th>GROUP</th>\n",
       "      <th>BIN_CLASS</th>\n",
       "    </tr>\n",
       "  </thead>\n",
       "  <tbody>\n",
       "    <tr>\n",
       "      <th>0</th>\n",
       "      <td>1</td>\n",
       "      <td>Aberdeen City</td>\n",
       "      <td>1.0</td>\n",
       "      <td>0</td>\n",
       "    </tr>\n",
       "    <tr>\n",
       "      <th>1</th>\n",
       "      <td>1</td>\n",
       "      <td>Aberdeen City</td>\n",
       "      <td>1.0</td>\n",
       "      <td>0</td>\n",
       "    </tr>\n",
       "    <tr>\n",
       "      <th>2</th>\n",
       "      <td>1</td>\n",
       "      <td>Aberdeen City</td>\n",
       "      <td>1.0</td>\n",
       "      <td>1</td>\n",
       "    </tr>\n",
       "    <tr>\n",
       "      <th>3</th>\n",
       "      <td>1</td>\n",
       "      <td>Aberdeenshire</td>\n",
       "      <td>3.0</td>\n",
       "      <td>0</td>\n",
       "    </tr>\n",
       "    <tr>\n",
       "      <th>4</th>\n",
       "      <td>1</td>\n",
       "      <td>Aberdeen City</td>\n",
       "      <td>3.0</td>\n",
       "      <td>0</td>\n",
       "    </tr>\n",
       "    <tr>\n",
       "      <th>...</th>\n",
       "      <td>...</td>\n",
       "      <td>...</td>\n",
       "      <td>...</td>\n",
       "      <td>...</td>\n",
       "    </tr>\n",
       "    <tr>\n",
       "      <th>2798123</th>\n",
       "      <td>3</td>\n",
       "      <td>Highland</td>\n",
       "      <td>7.0</td>\n",
       "      <td>1</td>\n",
       "    </tr>\n",
       "    <tr>\n",
       "      <th>2798124</th>\n",
       "      <td>3</td>\n",
       "      <td>Highland</td>\n",
       "      <td>7.0</td>\n",
       "      <td>1</td>\n",
       "    </tr>\n",
       "    <tr>\n",
       "      <th>2798125</th>\n",
       "      <td>3</td>\n",
       "      <td>Highland</td>\n",
       "      <td>7.0</td>\n",
       "      <td>0</td>\n",
       "    </tr>\n",
       "    <tr>\n",
       "      <th>2798126</th>\n",
       "      <td>3</td>\n",
       "      <td>Highland</td>\n",
       "      <td>7.0</td>\n",
       "      <td>0</td>\n",
       "    </tr>\n",
       "    <tr>\n",
       "      <th>2798127</th>\n",
       "      <td>3</td>\n",
       "      <td>Highland</td>\n",
       "      <td>7.0</td>\n",
       "      <td>0</td>\n",
       "    </tr>\n",
       "  </tbody>\n",
       "</table>\n",
       "<p>2798128 rows × 4 columns</p>\n",
       "</div>"
      ],
      "text/plain": [
       "         DIVISION_CODE COUNCIL_AREA_CODE  GROUP  BIN_CLASS\n",
       "0                    1     Aberdeen City    1.0          0\n",
       "1                    1     Aberdeen City    1.0          0\n",
       "2                    1     Aberdeen City    1.0          1\n",
       "3                    1     Aberdeenshire    3.0          0\n",
       "4                    1     Aberdeen City    3.0          0\n",
       "...                ...               ...    ...        ...\n",
       "2798123              3          Highland    7.0          1\n",
       "2798124              3          Highland    7.0          1\n",
       "2798125              3          Highland    7.0          0\n",
       "2798126              3          Highland    7.0          0\n",
       "2798127              3          Highland    7.0          0\n",
       "\n",
       "[2798128 rows x 4 columns]"
      ]
     },
     "execution_count": 3,
     "metadata": {},
     "output_type": "execute_result"
    }
   ],
   "source": [
    "# Import Data\n",
    "df = pd.read_csv(\"data/sanitized_basic.csv\")\n",
    "df = df[['DIVISION_CODE', 'COUNCIL_AREA_CODE', 'GROUP', 'BIN_CLASS']]\n",
    "df"
   ]
  },
  {
   "cell_type": "markdown",
   "metadata": {},
   "source": [
    "## Data Preparation"
   ]
  },
  {
   "cell_type": "code",
   "execution_count": 4,
   "metadata": {
    "pycharm": {
     "name": "#%%\n"
    }
   },
   "outputs": [],
   "source": [
    "# Split Target and Features\n",
    "x = df.drop(\"BIN_CLASS\", axis=1)\n",
    "y = df[\"BIN_CLASS\"]"
   ]
  },
  {
   "cell_type": "code",
   "execution_count": 5,
   "metadata": {
    "pycharm": {
     "name": "#%%\n"
    }
   },
   "outputs": [],
   "source": [
    "# Encode Categorical Variables\n",
    "encoder = ce.BinaryEncoder(cols=['DIVISION_CODE', 'COUNCIL_AREA_CODE', 'GROUP'])\n",
    "x = encoder.fit_transform(x)"
   ]
  },
  {
   "cell_type": "code",
   "execution_count": 6,
   "metadata": {
    "pycharm": {
     "name": "#%%\n"
    }
   },
   "outputs": [],
   "source": [
    "# Train Test Split - ANN\n",
    "x_train1, x_test1, y_train1, y_test1 = train_test_split(x, y, test_size=0.25, shuffle=True, random_state=SEED)\n",
    "x_train1, x_val1, y_train1, y_val1 = train_test_split(x_train1, y_train1, test_size=0.20, shuffle=True, random_state=SEED)"
   ]
  },
  {
   "cell_type": "code",
   "execution_count": 7,
   "metadata": {
    "pycharm": {
     "name": "#%%\n"
    }
   },
   "outputs": [],
   "source": [
    "# Train Test Split - DT\n",
    "x_train2, x_test2, y_train2, y_test2 = train_test_split(x, y, test_size=0.25, shuffle=True, random_state=SEED)"
   ]
  },
  {
   "cell_type": "markdown",
   "metadata": {},
   "source": [
    "## Helper Functions (For Visualisation)"
   ]
  },
  {
   "cell_type": "code",
   "execution_count": 9,
   "metadata": {
    "pycharm": {
     "name": "#%%\n"
    }
   },
   "outputs": [],
   "source": [
    "def plot_learning(model_history):\n",
    "    history_dict = model_history.history\n",
    "    loss_values = history_dict['loss']\n",
    "    val_loss_values = history_dict['val_loss']\n",
    "    plt.plot(loss_values, 'b', label='Training')\n",
    "    plt.plot(val_loss_values, 'r', label='Validation')\n",
    "    plt.legend(loc=\"upper right\")\n",
    "    plt.xlabel('Epoch')\n",
    "    plt.ylabel('Binary Crossentropy')"
   ]
  },
  {
   "cell_type": "markdown",
   "metadata": {},
   "source": [
    "## Model Optimisation"
   ]
  },
  {
   "cell_type": "markdown",
   "metadata": {},
   "source": [
    "### Artificial Neural Network"
   ]
  },
  {
   "cell_type": "code",
   "execution_count": 11,
   "metadata": {
    "pycharm": {
     "name": "#%%\n"
    }
   },
   "outputs": [],
   "source": [
    "def build_model(input_shape, n_layers, n_nodes, lr):\n",
    "    \"\"\"Takes input shape, layer dimensions and learning rate.\n",
    "        Returns compiled model.\"\"\"\n",
    "\n",
    "    # Create Model\n",
    "    mod = Sequential()\n",
    "\n",
    "    # Input Layer\n",
    "    mod.add(Input(shape=input_shape))\n",
    "\n",
    "    # Hidden Layers\n",
    "    for layer in range(n_layers):\n",
    "        mod.add(Dense(n_nodes, activation='relu'))\n",
    "\n",
    "    # Output Layer\n",
    "    mod.add(Dense(1, activation='sigmoid'))\n",
    "\n",
    "    # Loss Function\n",
    "    loss_func = keras.losses.BinaryCrossentropy()\n",
    "\n",
    "    # Compile Model\n",
    "    mod.compile(optimizer=keras.optimizers.Adam(learning_rate=lr), loss=loss_func)\n",
    "\n",
    "    return mod"
   ]
  },
  {
   "cell_type": "code",
   "execution_count": 12,
   "metadata": {
    "pycharm": {
     "name": "#%%\n"
    }
   },
   "outputs": [],
   "source": [
    "def train_model(mod, feat, targ, val_feat, val_targ, batch):\n",
    "    \"\"\"Takes a model, training data, validation data and batch size.\n",
    "        Returns Fitted Model\n",
    "    \"\"\"\n",
    "\n",
    "    with tf.device(DEVICE):\n",
    "\n",
    "        # Early Stopping Callback\n",
    "        early = keras.callbacks.EarlyStopping(monitor='val_loss', patience=5, verbose=1, restore_best_weights=True)\n",
    "\n",
    "\n",
    "\n",
    "        # Train Model\n",
    "        hist = mod.fit(feat, targ, epochs=100, batch_size=batch, validation_split=0.2, callbacks=early, validation_data=(val_feat, val_targ))\n",
    "\n",
    "        # Return Model and Learning Curve\n",
    "        return mod, hist"
   ]
  },
  {
   "cell_type": "code",
   "execution_count": 12,
   "metadata": {
    "pycharm": {
     "name": "#%%\n"
    }
   },
   "outputs": [],
   "source": [
    "# Parameter Ranges\n",
    "hidden_layers = list(np.arange(2, 7, 1))\n",
    "nodes = list(np.arange(10, 128, 2))\n",
    "learning_rate = [1e-2, 1e-3, 1e-4]\n",
    "batch_size = (128, 256, 512, 1024)"
   ]
  },
  {
   "cell_type": "code",
   "execution_count": 13,
   "metadata": {
    "pycharm": {
     "name": "#%%\n"
    }
   },
   "outputs": [],
   "source": [
    "# All Combinations of Parameters\n",
    "combs = list(product(hidden_layers, nodes, learning_rate, batch_size))"
   ]
  },
  {
   "cell_type": "code",
   "execution_count": 14,
   "metadata": {
    "pycharm": {
     "name": "#%%\n"
    }
   },
   "outputs": [],
   "source": [
    "# Random Sample from Combinations\n",
    "random.seed(SEED)\n",
    "sample = random.sample(combs, 10)"
   ]
  },
  {
   "cell_type": "code",
   "execution_count": 15,
   "metadata": {
    "pycharm": {
     "name": "#%%\n"
    }
   },
   "outputs": [
    {
     "name": "stdout",
     "output_type": "stream",
     "text": [
      "--- Training Model ---\n",
      "Hidden Layers:  6  Nodes Per Layer:  76  Learning Rate:  0.001  Batch Size:  1024\n",
      "Epoch 1/100\n",
      "1312/1312 [==============================] - 5s 3ms/step - loss: 0.6042 - val_loss: 0.6012\n",
      "Epoch 2/100\n",
      "1312/1312 [==============================] - 4s 3ms/step - loss: 0.6009 - val_loss: 0.6001\n",
      "Epoch 3/100\n",
      "1312/1312 [==============================] - 4s 3ms/step - loss: 0.6007 - val_loss: 0.6012\n",
      "Epoch 4/100\n",
      "1312/1312 [==============================] - 4s 3ms/step - loss: 0.6005 - val_loss: 0.6001\n",
      "Epoch 5/100\n",
      "1312/1312 [==============================] - 4s 3ms/step - loss: 0.6005 - val_loss: 0.5998\n",
      "Epoch 6/100\n",
      "1312/1312 [==============================] - 4s 3ms/step - loss: 0.6004 - val_loss: 0.6002\n",
      "Epoch 7/100\n",
      "1312/1312 [==============================] - 4s 3ms/step - loss: 0.6003 - val_loss: 0.6000\n",
      "Epoch 8/100\n",
      "1312/1312 [==============================] - 4s 3ms/step - loss: 0.6002 - val_loss: 0.6004\n",
      "Epoch 9/100\n",
      "1312/1312 [==============================] - 4s 3ms/step - loss: 0.6002 - val_loss: 0.5998\n",
      "Epoch 10/100\n",
      "1312/1312 [==============================] - 4s 3ms/step - loss: 0.6001 - val_loss: 0.6001\n",
      "Epoch 11/100\n",
      "1312/1312 [==============================] - 4s 3ms/step - loss: 0.6001 - val_loss: 0.5998\n",
      "Epoch 12/100\n",
      "1312/1312 [==============================] - 4s 3ms/step - loss: 0.6001 - val_loss: 0.5999\n",
      "Epoch 13/100\n",
      "1312/1312 [==============================] - 4s 3ms/step - loss: 0.6000 - val_loss: 0.5997\n",
      "Epoch 14/100\n",
      "1312/1312 [==============================] - 4s 3ms/step - loss: 0.6000 - val_loss: 0.5998\n",
      "Epoch 15/100\n",
      "1312/1312 [==============================] - 4s 3ms/step - loss: 0.6000 - val_loss: 0.5995\n",
      "Epoch 16/100\n",
      "1312/1312 [==============================] - 4s 3ms/step - loss: 0.6000 - val_loss: 0.5995\n",
      "Epoch 17/100\n",
      "1312/1312 [==============================] - 4s 3ms/step - loss: 0.6000 - val_loss: 0.5997\n",
      "Epoch 18/100\n",
      "1312/1312 [==============================] - 4s 3ms/step - loss: 0.5999 - val_loss: 0.5995\n",
      "Epoch 19/100\n",
      "1312/1312 [==============================] - 4s 3ms/step - loss: 0.6000 - val_loss: 0.5996\n",
      "Epoch 20/100\n",
      "1310/1312 [============================>.] - ETA: 0s - loss: 0.6000Restoring model weights from the end of the best epoch: 15.\n",
      "1312/1312 [==============================] - 4s 3ms/step - loss: 0.6000 - val_loss: 0.5996\n",
      "Epoch 20: early stopping\n",
      "13117/13117 [==============================] - 17s 1ms/step - loss: 0.5985\n",
      "Best Weights Validation Score:  0.5985135436058044\n",
      "Best Validation Score:  0.5985135436058044\n",
      "Best Config:  (6, 76, 0.001, 1024)\n",
      "--- Training Model ---\n",
      "Hidden Layers:  6  Nodes Per Layer:  52  Learning Rate:  0.001  Batch Size:  512\n",
      "Epoch 1/100\n",
      "2624/2624 [==============================] - 8s 3ms/step - loss: 0.6038 - val_loss: 0.6017\n",
      "Epoch 2/100\n",
      "2624/2624 [==============================] - 7s 3ms/step - loss: 0.6011 - val_loss: 0.6014\n",
      "Epoch 3/100\n",
      "2624/2624 [==============================] - 7s 3ms/step - loss: 0.6008 - val_loss: 0.6007\n",
      "Epoch 4/100\n",
      "2624/2624 [==============================] - 8s 3ms/step - loss: 0.6006 - val_loss: 0.6003\n",
      "Epoch 5/100\n",
      "2624/2624 [==============================] - 7s 3ms/step - loss: 0.6005 - val_loss: 0.6000\n",
      "Epoch 6/100\n",
      "2624/2624 [==============================] - 7s 3ms/step - loss: 0.6004 - val_loss: 0.5999\n",
      "Epoch 7/100\n",
      "2624/2624 [==============================] - 7s 3ms/step - loss: 0.6004 - val_loss: 0.5999\n",
      "Epoch 8/100\n",
      "2624/2624 [==============================] - 8s 3ms/step - loss: 0.6002 - val_loss: 0.6001\n",
      "Epoch 9/100\n",
      "2624/2624 [==============================] - 7s 3ms/step - loss: 0.6002 - val_loss: 0.6004\n",
      "Epoch 10/100\n",
      "2624/2624 [==============================] - 7s 3ms/step - loss: 0.6002 - val_loss: 0.6003\n",
      "Epoch 11/100\n",
      "2624/2624 [==============================] - 8s 3ms/step - loss: 0.6001 - val_loss: 0.5996\n",
      "Epoch 12/100\n",
      "2624/2624 [==============================] - 7s 3ms/step - loss: 0.6001 - val_loss: 0.5999\n",
      "Epoch 13/100\n",
      "2624/2624 [==============================] - 7s 3ms/step - loss: 0.6001 - val_loss: 0.5998\n",
      "Epoch 14/100\n",
      "2624/2624 [==============================] - 7s 3ms/step - loss: 0.6001 - val_loss: 0.5999\n",
      "Epoch 15/100\n",
      "2624/2624 [==============================] - 7s 3ms/step - loss: 0.6001 - val_loss: 0.5997\n",
      "Epoch 16/100\n",
      "2624/2624 [==============================] - 7s 3ms/step - loss: 0.6000 - val_loss: 0.5995\n",
      "Epoch 17/100\n",
      "2624/2624 [==============================] - 7s 3ms/step - loss: 0.6001 - val_loss: 0.5997\n",
      "Epoch 18/100\n",
      "2624/2624 [==============================] - 7s 3ms/step - loss: 0.6000 - val_loss: 0.5998\n",
      "Epoch 19/100\n",
      "2624/2624 [==============================] - 8s 3ms/step - loss: 0.6000 - val_loss: 0.5997\n",
      "Epoch 20/100\n",
      "2624/2624 [==============================] - 8s 3ms/step - loss: 0.6000 - val_loss: 0.5995\n",
      "Epoch 21/100\n",
      "2624/2624 [==============================] - 8s 3ms/step - loss: 0.6000 - val_loss: 0.5999\n",
      "Epoch 22/100\n",
      "2624/2624 [==============================] - 8s 3ms/step - loss: 0.6000 - val_loss: 0.5998\n",
      "Epoch 23/100\n",
      "2624/2624 [==============================] - 8s 3ms/step - loss: 0.6000 - val_loss: 0.5997\n",
      "Epoch 24/100\n",
      "2624/2624 [==============================] - 8s 3ms/step - loss: 0.6000 - val_loss: 0.5998\n",
      "Epoch 25/100\n",
      "2606/2624 [============================>.] - ETA: 0s - loss: 0.5999Restoring model weights from the end of the best epoch: 20.\n",
      "2624/2624 [==============================] - 8s 3ms/step - loss: 0.6000 - val_loss: 0.5997\n",
      "Epoch 25: early stopping\n",
      "13117/13117 [==============================] - 18s 1ms/step - loss: 0.5985\n",
      "Best Weights Validation Score:  0.5984760522842407\n",
      "Best Validation Score:  0.5984760522842407\n",
      "Best Config:  (6, 52, 0.001, 512)\n",
      "--- Training Model ---\n",
      "Hidden Layers:  3  Nodes Per Layer:  96  Learning Rate:  0.001  Batch Size:  128\n",
      "Epoch 1/100\n",
      "10493/10493 [==============================] - 25s 2ms/step - loss: 0.6032 - val_loss: 0.6007\n",
      "Epoch 2/100\n",
      "10493/10493 [==============================] - 25s 2ms/step - loss: 0.6012 - val_loss: 0.6003\n",
      "Epoch 3/100\n",
      "10493/10493 [==============================] - 24s 2ms/step - loss: 0.6008 - val_loss: 0.6005\n",
      "Epoch 4/100\n",
      "10493/10493 [==============================] - 25s 2ms/step - loss: 0.6006 - val_loss: 0.6008\n",
      "Epoch 5/100\n",
      "10493/10493 [==============================] - 25s 2ms/step - loss: 0.6005 - val_loss: 0.5999\n",
      "Epoch 6/100\n",
      "10493/10493 [==============================] - 25s 2ms/step - loss: 0.6004 - val_loss: 0.6003\n",
      "Epoch 7/100\n",
      "10493/10493 [==============================] - 25s 2ms/step - loss: 0.6004 - val_loss: 0.5999\n",
      "Epoch 8/100\n",
      "10493/10493 [==============================] - 25s 2ms/step - loss: 0.6003 - val_loss: 0.6003\n",
      "Epoch 9/100\n",
      "10493/10493 [==============================] - 25s 2ms/step - loss: 0.6003 - val_loss: 0.5997\n",
      "Epoch 10/100\n",
      "10493/10493 [==============================] - 25s 2ms/step - loss: 0.6002 - val_loss: 0.5998\n",
      "Epoch 11/100\n",
      "10493/10493 [==============================] - 25s 2ms/step - loss: 0.6002 - val_loss: 0.6002\n",
      "Epoch 12/100\n",
      "10493/10493 [==============================] - 25s 2ms/step - loss: 0.6002 - val_loss: 0.5998\n",
      "Epoch 13/100\n",
      "10493/10493 [==============================] - 25s 2ms/step - loss: 0.6001 - val_loss: 0.5999\n",
      "Epoch 14/100\n",
      "10493/10493 [==============================] - ETA: 0s - loss: 0.6002Restoring model weights from the end of the best epoch: 9.\n",
      "10493/10493 [==============================] - 25s 2ms/step - loss: 0.6002 - val_loss: 0.5998\n",
      "Epoch 14: early stopping\n",
      "13117/13117 [==============================] - 17s 1ms/step - loss: 0.5988\n",
      "Best Weights Validation Score:  0.5988194942474365\n",
      "Best Validation Score:  0.5984760522842407\n",
      "Best Config:  (6, 52, 0.001, 512)\n",
      "--- Training Model ---\n",
      "Hidden Layers:  6  Nodes Per Layer:  124  Learning Rate:  0.001  Batch Size:  1024\n",
      "Epoch 1/100\n",
      "1312/1312 [==============================] - 4s 3ms/step - loss: 0.6039 - val_loss: 0.6005\n",
      "Epoch 2/100\n",
      "1312/1312 [==============================] - 4s 3ms/step - loss: 0.6009 - val_loss: 0.6002\n",
      "Epoch 3/100\n",
      "1312/1312 [==============================] - 4s 3ms/step - loss: 0.6006 - val_loss: 0.6007\n",
      "Epoch 4/100\n",
      "1312/1312 [==============================] - 4s 3ms/step - loss: 0.6005 - val_loss: 0.5999\n",
      "Epoch 5/100\n",
      "1312/1312 [==============================] - 4s 3ms/step - loss: 0.6004 - val_loss: 0.5997\n",
      "Epoch 6/100\n",
      "1312/1312 [==============================] - 4s 3ms/step - loss: 0.6003 - val_loss: 0.6002\n",
      "Epoch 7/100\n",
      "1312/1312 [==============================] - 4s 3ms/step - loss: 0.6002 - val_loss: 0.5998\n",
      "Epoch 8/100\n",
      "1312/1312 [==============================] - 4s 3ms/step - loss: 0.6002 - val_loss: 0.5999\n",
      "Epoch 9/100\n",
      "1312/1312 [==============================] - 4s 3ms/step - loss: 0.6001 - val_loss: 0.5997\n",
      "Epoch 10/100\n",
      "1312/1312 [==============================] - 4s 3ms/step - loss: 0.6001 - val_loss: 0.5996\n",
      "Epoch 11/100\n",
      "1312/1312 [==============================] - 4s 3ms/step - loss: 0.6000 - val_loss: 0.5998\n",
      "Epoch 12/100\n",
      "1312/1312 [==============================] - 4s 3ms/step - loss: 0.6000 - val_loss: 0.5999\n",
      "Epoch 13/100\n",
      "1312/1312 [==============================] - 4s 3ms/step - loss: 0.6000 - val_loss: 0.5996\n",
      "Epoch 14/100\n",
      "1312/1312 [==============================] - 4s 3ms/step - loss: 0.6000 - val_loss: 0.5996\n",
      "Epoch 15/100\n",
      "1312/1312 [==============================] - 4s 3ms/step - loss: 0.6000 - val_loss: 0.5998\n",
      "Epoch 16/100\n",
      "1312/1312 [==============================] - 4s 3ms/step - loss: 0.5999 - val_loss: 0.5997\n",
      "Epoch 17/100\n",
      "1312/1312 [==============================] - 4s 3ms/step - loss: 0.5999 - val_loss: 0.5998\n",
      "Epoch 18/100\n",
      "1312/1312 [==============================] - 4s 3ms/step - loss: 0.6000 - val_loss: 0.5996\n",
      "Epoch 19/100\n",
      "1296/1312 [============================>.] - ETA: 0s - loss: 0.6000Restoring model weights from the end of the best epoch: 14.\n",
      "1312/1312 [==============================] - 4s 3ms/step - loss: 0.6000 - val_loss: 0.5997\n",
      "Epoch 19: early stopping\n",
      "13117/13117 [==============================] - 17s 1ms/step - loss: 0.5985\n",
      "Best Weights Validation Score:  0.5985320806503296\n",
      "Best Validation Score:  0.5984760522842407\n",
      "Best Config:  (6, 52, 0.001, 512)\n",
      "--- Training Model ---\n",
      "Hidden Layers:  3  Nodes Per Layer:  88  Learning Rate:  0.001  Batch Size:  128\n",
      "Epoch 1/100\n",
      "10493/10493 [==============================] - 25s 2ms/step - loss: 0.6033 - val_loss: 0.6014\n",
      "Epoch 2/100\n",
      "10493/10493 [==============================] - 25s 2ms/step - loss: 0.6012 - val_loss: 0.6011\n",
      "Epoch 3/100\n",
      "10493/10493 [==============================] - 25s 2ms/step - loss: 0.6009 - val_loss: 0.6000\n",
      "Epoch 4/100\n",
      "10493/10493 [==============================] - 26s 2ms/step - loss: 0.6006 - val_loss: 0.6006\n",
      "Epoch 5/100\n",
      "10493/10493 [==============================] - 27s 3ms/step - loss: 0.6005 - val_loss: 0.5998\n",
      "Epoch 6/100\n",
      "10493/10493 [==============================] - 25s 2ms/step - loss: 0.6005 - val_loss: 0.5999\n",
      "Epoch 7/100\n",
      "10493/10493 [==============================] - 25s 2ms/step - loss: 0.6003 - val_loss: 0.6012\n",
      "Epoch 8/100\n",
      "10493/10493 [==============================] - 26s 2ms/step - loss: 0.6003 - val_loss: 0.5998\n",
      "Epoch 9/100\n",
      "10493/10493 [==============================] - 25s 2ms/step - loss: 0.6003 - val_loss: 0.6001\n",
      "Epoch 10/100\n",
      "10493/10493 [==============================] - 25s 2ms/step - loss: 0.6002 - val_loss: 0.6000\n",
      "Epoch 11/100\n",
      "10493/10493 [==============================] - 24s 2ms/step - loss: 0.6002 - val_loss: 0.5998\n",
      "Epoch 12/100\n",
      "10493/10493 [==============================] - 24s 2ms/step - loss: 0.6002 - val_loss: 0.6001\n",
      "Epoch 13/100\n",
      "10492/10493 [============================>.] - ETA: 0s - loss: 0.6001Restoring model weights from the end of the best epoch: 8.\n",
      "10493/10493 [==============================] - 25s 2ms/step - loss: 0.6001 - val_loss: 0.5998\n",
      "Epoch 13: early stopping\n",
      "13117/13117 [==============================] - 15s 1ms/step - loss: 0.5987\n",
      "Best Weights Validation Score:  0.5987449884414673\n",
      "Best Validation Score:  0.5984760522842407\n",
      "Best Config:  (6, 52, 0.001, 512)\n",
      "--- Training Model ---\n",
      "Hidden Layers:  5  Nodes Per Layer:  60  Learning Rate:  0.001  Batch Size:  128\n",
      "Epoch 1/100\n",
      "10493/10493 [==============================] - 30s 3ms/step - loss: 0.6032 - val_loss: 0.6007\n",
      "Epoch 2/100\n",
      "10493/10493 [==============================] - 29s 3ms/step - loss: 0.6012 - val_loss: 0.6006\n",
      "Epoch 3/100\n",
      "10493/10493 [==============================] - 29s 3ms/step - loss: 0.6008 - val_loss: 0.6001\n",
      "Epoch 4/100\n",
      "10493/10493 [==============================] - 29s 3ms/step - loss: 0.6006 - val_loss: 0.6001\n",
      "Epoch 5/100\n",
      "10493/10493 [==============================] - 29s 3ms/step - loss: 0.6005 - val_loss: 0.6010\n",
      "Epoch 6/100\n",
      "10493/10493 [==============================] - 29s 3ms/step - loss: 0.6004 - val_loss: 0.6004\n",
      "Epoch 7/100\n",
      "10493/10493 [==============================] - 29s 3ms/step - loss: 0.6004 - val_loss: 0.6000\n",
      "Epoch 8/100\n",
      "10493/10493 [==============================] - 29s 3ms/step - loss: 0.6003 - val_loss: 0.5999\n",
      "Epoch 9/100\n",
      "10493/10493 [==============================] - 29s 3ms/step - loss: 0.6003 - val_loss: 0.5999\n",
      "Epoch 10/100\n",
      "10493/10493 [==============================] - 29s 3ms/step - loss: 0.6003 - val_loss: 0.6002\n",
      "Epoch 11/100\n",
      "10493/10493 [==============================] - 29s 3ms/step - loss: 0.6002 - val_loss: 0.6000\n",
      "Epoch 12/100\n",
      "10493/10493 [==============================] - 30s 3ms/step - loss: 0.6002 - val_loss: 0.5997\n",
      "Epoch 13/100\n",
      "10493/10493 [==============================] - 28s 3ms/step - loss: 0.6002 - val_loss: 0.6002\n",
      "Epoch 14/100\n",
      "10493/10493 [==============================] - 29s 3ms/step - loss: 0.6002 - val_loss: 0.5997\n",
      "Epoch 15/100\n",
      "10493/10493 [==============================] - 29s 3ms/step - loss: 0.6002 - val_loss: 0.6010\n",
      "Epoch 16/100\n",
      "10493/10493 [==============================] - 30s 3ms/step - loss: 0.6001 - val_loss: 0.6001\n",
      "Epoch 17/100\n",
      "10477/10493 [============================>.] - ETA: 0s - loss: 0.6002Restoring model weights from the end of the best epoch: 12.\n",
      "10493/10493 [==============================] - 29s 3ms/step - loss: 0.6002 - val_loss: 0.5998\n",
      "Epoch 17: early stopping\n",
      "13117/13117 [==============================] - 17s 1ms/step - loss: 0.5987\n",
      "Best Weights Validation Score:  0.5986929535865784\n",
      "Best Validation Score:  0.5984760522842407\n",
      "Best Config:  (6, 52, 0.001, 512)\n",
      "--- Training Model ---\n",
      "Hidden Layers:  4  Nodes Per Layer:  48  Learning Rate:  0.001  Batch Size:  1024\n",
      "Epoch 1/100\n",
      "1312/1312 [==============================] - 4s 3ms/step - loss: 0.6059 - val_loss: 0.6009\n",
      "Epoch 2/100\n",
      "1312/1312 [==============================] - 3s 3ms/step - loss: 0.6010 - val_loss: 0.6004\n",
      "Epoch 3/100\n",
      "1312/1312 [==============================] - 3s 3ms/step - loss: 0.6007 - val_loss: 0.5999\n",
      "Epoch 4/100\n",
      "1312/1312 [==============================] - 3s 3ms/step - loss: 0.6005 - val_loss: 0.6003\n",
      "Epoch 5/100\n",
      "1312/1312 [==============================] - 3s 3ms/step - loss: 0.6005 - val_loss: 0.5999\n",
      "Epoch 6/100\n",
      "1312/1312 [==============================] - 3s 3ms/step - loss: 0.6004 - val_loss: 0.6000\n",
      "Epoch 7/100\n",
      "1312/1312 [==============================] - 3s 3ms/step - loss: 0.6004 - val_loss: 0.5998\n",
      "Epoch 8/100\n",
      "1312/1312 [==============================] - 3s 3ms/step - loss: 0.6003 - val_loss: 0.5999\n",
      "Epoch 9/100\n",
      "1312/1312 [==============================] - 3s 3ms/step - loss: 0.6003 - val_loss: 0.5999\n",
      "Epoch 10/100\n",
      "1312/1312 [==============================] - 3s 3ms/step - loss: 0.6003 - val_loss: 0.5999\n",
      "Epoch 11/100\n",
      "1312/1312 [==============================] - 3s 3ms/step - loss: 0.6002 - val_loss: 0.6006\n",
      "Epoch 12/100\n",
      "1305/1312 [============================>.] - ETA: 0s - loss: 0.6002Restoring model weights from the end of the best epoch: 7.\n",
      "1312/1312 [==============================] - 3s 3ms/step - loss: 0.6002 - val_loss: 0.6001\n",
      "Epoch 12: early stopping\n",
      "13117/13117 [==============================] - 17s 1ms/step - loss: 0.5988\n",
      "Best Weights Validation Score:  0.5987656712532043\n",
      "Best Validation Score:  0.5984760522842407\n",
      "Best Config:  (6, 52, 0.001, 512)\n",
      "--- Training Model ---\n",
      "Hidden Layers:  2  Nodes Per Layer:  112  Learning Rate:  0.0001  Batch Size:  256\n",
      "Epoch 1/100\n",
      "5247/5247 [==============================] - 12s 2ms/step - loss: 0.6123 - val_loss: 0.6028\n",
      "Epoch 2/100\n",
      "5247/5247 [==============================] - 11s 2ms/step - loss: 0.6017 - val_loss: 0.6006\n",
      "Epoch 3/100\n",
      "5247/5247 [==============================] - 11s 2ms/step - loss: 0.6007 - val_loss: 0.6009\n",
      "Epoch 4/100\n",
      "5247/5247 [==============================] - 11s 2ms/step - loss: 0.6004 - val_loss: 0.6000\n",
      "Epoch 5/100\n",
      "5247/5247 [==============================] - 12s 2ms/step - loss: 0.6003 - val_loss: 0.6001\n",
      "Epoch 6/100\n",
      "5247/5247 [==============================] - 11s 2ms/step - loss: 0.6002 - val_loss: 0.5997\n",
      "Epoch 7/100\n",
      "5247/5247 [==============================] - 11s 2ms/step - loss: 0.6002 - val_loss: 0.6002\n",
      "Epoch 8/100\n",
      "5247/5247 [==============================] - 11s 2ms/step - loss: 0.6002 - val_loss: 0.5998\n",
      "Epoch 9/100\n",
      "5247/5247 [==============================] - 11s 2ms/step - loss: 0.6001 - val_loss: 0.5997\n",
      "Epoch 10/100\n",
      "5247/5247 [==============================] - 11s 2ms/step - loss: 0.6001 - val_loss: 0.5998\n",
      "Epoch 11/100\n",
      "5247/5247 [==============================] - 11s 2ms/step - loss: 0.6001 - val_loss: 0.5999\n",
      "Epoch 12/100\n",
      "5247/5247 [==============================] - 11s 2ms/step - loss: 0.6001 - val_loss: 0.5998\n",
      "Epoch 13/100\n",
      "5247/5247 [==============================] - 11s 2ms/step - loss: 0.6001 - val_loss: 0.5997\n",
      "Epoch 14/100\n",
      "5223/5247 [============================>.] - ETA: 0s - loss: 0.6000Restoring model weights from the end of the best epoch: 9.\n",
      "5247/5247 [==============================] - 11s 2ms/step - loss: 0.6000 - val_loss: 0.6002\n",
      "Epoch 14: early stopping\n",
      "13117/13117 [==============================] - 16s 1ms/step - loss: 0.5987\n",
      "Best Weights Validation Score:  0.5986801385879517\n",
      "Best Validation Score:  0.5984760522842407\n",
      "Best Config:  (6, 52, 0.001, 512)\n",
      "--- Training Model ---\n",
      "Hidden Layers:  6  Nodes Per Layer:  44  Learning Rate:  0.001  Batch Size:  1024\n",
      "Epoch 1/100\n",
      "1312/1312 [==============================] - 4s 3ms/step - loss: 0.6050 - val_loss: 0.6006\n",
      "Epoch 2/100\n",
      "1312/1312 [==============================] - 4s 3ms/step - loss: 0.6011 - val_loss: 0.6003\n",
      "Epoch 3/100\n",
      "1312/1312 [==============================] - 4s 3ms/step - loss: 0.6007 - val_loss: 0.5999\n",
      "Epoch 4/100\n",
      "1312/1312 [==============================] - 4s 3ms/step - loss: 0.6006 - val_loss: 0.6002\n",
      "Epoch 5/100\n",
      "1312/1312 [==============================] - 4s 3ms/step - loss: 0.6005 - val_loss: 0.5999\n",
      "Epoch 6/100\n",
      "1312/1312 [==============================] - 4s 3ms/step - loss: 0.6004 - val_loss: 0.6004\n",
      "Epoch 7/100\n",
      "1312/1312 [==============================] - 4s 3ms/step - loss: 0.6003 - val_loss: 0.6000\n",
      "Epoch 8/100\n",
      "1303/1312 [============================>.] - ETA: 0s - loss: 0.6003Restoring model weights from the end of the best epoch: 3.\n",
      "1312/1312 [==============================] - 4s 3ms/step - loss: 0.6003 - val_loss: 0.6001\n",
      "Epoch 8: early stopping\n",
      "13117/13117 [==============================] - 17s 1ms/step - loss: 0.5990\n",
      "Best Weights Validation Score:  0.5989730954170227\n",
      "Best Validation Score:  0.5984760522842407\n",
      "Best Config:  (6, 52, 0.001, 512)\n",
      "--- Training Model ---\n",
      "Hidden Layers:  4  Nodes Per Layer:  124  Learning Rate:  0.01  Batch Size:  512\n",
      "Epoch 1/100\n",
      "2624/2624 [==============================] - 7s 3ms/step - loss: 0.6043 - val_loss: 0.6026\n",
      "Epoch 2/100\n",
      "2624/2624 [==============================] - 7s 3ms/step - loss: 0.6018 - val_loss: 0.6006\n",
      "Epoch 3/100\n",
      "2624/2624 [==============================] - 7s 3ms/step - loss: 0.6016 - val_loss: 0.6011\n",
      "Epoch 4/100\n",
      "2624/2624 [==============================] - 7s 3ms/step - loss: 0.6014 - val_loss: 0.6012\n",
      "Epoch 5/100\n",
      "2624/2624 [==============================] - 7s 3ms/step - loss: 0.6017 - val_loss: 0.6011\n",
      "Epoch 6/100\n",
      "2624/2624 [==============================] - 7s 3ms/step - loss: 0.6012 - val_loss: 0.6003\n",
      "Epoch 7/100\n",
      "2624/2624 [==============================] - 7s 3ms/step - loss: 0.6010 - val_loss: 0.6008\n",
      "Epoch 8/100\n",
      "2624/2624 [==============================] - 7s 3ms/step - loss: 0.6013 - val_loss: 0.6021\n",
      "Epoch 9/100\n",
      "2624/2624 [==============================] - 7s 3ms/step - loss: 0.6015 - val_loss: 0.6010\n",
      "Epoch 10/100\n",
      "2624/2624 [==============================] - 7s 3ms/step - loss: 0.6016 - val_loss: 0.6013\n",
      "Epoch 11/100\n",
      "2612/2624 [============================>.] - ETA: 0s - loss: 0.6016Restoring model weights from the end of the best epoch: 6.\n",
      "2624/2624 [==============================] - 7s 3ms/step - loss: 0.6015 - val_loss: 0.6009\n",
      "Epoch 11: early stopping\n",
      "13117/13117 [==============================] - 17s 1ms/step - loss: 0.5992\n",
      "Best Weights Validation Score:  0.5991571545600891\n",
      "Best Validation Score:  0.5984760522842407\n",
      "Best Config:  (6, 52, 0.001, 512)\n"
     ]
    }
   ],
   "source": [
    "# Conduct Trials\n",
    "\n",
    "# Set Best Validation Loss to High Number\n",
    "best_validation = 1e20\n",
    "best_config_ann = None\n",
    "\n",
    "# Try Each Random Configuration\n",
    "for comb in sample:\n",
    "\n",
    "    # Print Model Configuration\n",
    "    print(\"--- Training Model ---\")\n",
    "    print(\"Hidden Layers: \", comb[0], \" Nodes Per Layer: \", comb[1], \" Learning Rate: \", comb[2], \" Batch Size: \", comb[3])\n",
    "\n",
    "    # Show Model\n",
    "    model = build_model(x_train1.shape[1], comb[0], comb[1], comb[2])\n",
    "    model, history = train_model(model, x_train1, y_train1, x_val1, y_val1, comb[3])\n",
    "\n",
    "    # Get Validation Score\n",
    "    val_score = model.evaluate(x_val1, y_val1)\n",
    "\n",
    "    # Replace if Best\n",
    "    if val_score < best_validation:\n",
    "        best_validation = val_score\n",
    "        best_config_ann = comb\n",
    "    else:\n",
    "        if best_config_ann is None:\n",
    "            best_config_ann = comb\n",
    "\n",
    "    print(\"Best Weights Validation Score: \", val_score)\n",
    "    print(\"Best Validation Score: \", best_validation)\n",
    "    print(\"Best Config: \", best_config_ann)"
   ]
  },
  {
   "cell_type": "code",
   "execution_count": 16,
   "metadata": {
    "pycharm": {
     "name": "#%%\n"
    }
   },
   "outputs": [
    {
     "data": {
      "text/plain": [
       "(6, 52, 0.001, 512)"
      ]
     },
     "execution_count": 16,
     "metadata": {},
     "output_type": "execute_result"
    }
   ],
   "source": [
    "# Get Best Parameters\n",
    "best_config_ann"
   ]
  },
  {
   "cell_type": "markdown",
   "metadata": {},
   "source": [
    "### Decision Tree"
   ]
  },
  {
   "cell_type": "code",
   "execution_count": 9,
   "metadata": {
    "pycharm": {
     "name": "#%%\n"
    }
   },
   "outputs": [],
   "source": [
    "dt_grid = {\n",
    "    \"criterion\": ['entropy', 'gini'],\n",
    "    \"splitter\": ['best', 'random'],\n",
    "    \"max_depth\": [1, 10, 100, 1000, None],\n",
    "    \"min_samples_split\": [2, 10, 20, 30, 40],\n",
    "    \"min_samples_leaf\": [1, 5, 10, 20],\n",
    "    \"max_features\":['auto']\n",
    "}"
   ]
  },
  {
   "cell_type": "code",
   "execution_count": 10,
   "metadata": {
    "pycharm": {
     "name": "#%%\n"
    }
   },
   "outputs": [
    {
     "data": {
      "text/plain": [
       "GridSearchCV(cv=RepeatedKFold(n_repeats=5, n_splits=2, random_state=1212),\n",
       "             estimator=DecisionTreeClassifier(), n_jobs=4,\n",
       "             param_grid={'criterion': ['entropy', 'gini'],\n",
       "                         'max_depth': [1, 10, 100, 1000, None],\n",
       "                         'max_features': ['auto'],\n",
       "                         'min_samples_leaf': [1, 5, 10, 20],\n",
       "                         'min_samples_split': [2, 10, 20, 30, 40],\n",
       "                         'splitter': ['best', 'random']},\n",
       "             scoring='f1')"
      ]
     },
     "execution_count": 10,
     "metadata": {},
     "output_type": "execute_result"
    }
   ],
   "source": [
    "splitter = RepeatedKFold(n_splits=2, n_repeats=5, random_state=SEED)\n",
    "\n",
    "\n",
    "dt = GridSearchCV(estimator=DecisionTreeClassifier(),\n",
    "                  param_grid=dt_grid,\n",
    "                  cv=splitter,\n",
    "                  n_jobs=CORES,\n",
    "                  scoring='f1')\n",
    "\n",
    "# Grid Search\n",
    "dt.fit(x_train2, y_train2)"
   ]
  },
  {
   "cell_type": "code",
   "execution_count": 11,
   "metadata": {
    "pycharm": {
     "name": "#%%\n"
    }
   },
   "outputs": [
    {
     "data": {
      "text/plain": [
       "{'criterion': 'entropy',\n",
       " 'max_depth': 10,\n",
       " 'max_features': 'auto',\n",
       " 'min_samples_leaf': 10,\n",
       " 'min_samples_split': 40,\n",
       " 'splitter': 'best'}"
      ]
     },
     "execution_count": 11,
     "metadata": {},
     "output_type": "execute_result"
    }
   ],
   "source": [
    "best_config_dt = dt.best_params_\n",
    "best_config_dt"
   ]
  },
  {
   "cell_type": "markdown",
   "metadata": {},
   "source": [
    "## Model Evaluation"
   ]
  },
  {
   "cell_type": "markdown",
   "metadata": {},
   "source": [
    "### Artificial Neural Network"
   ]
  },
  {
   "cell_type": "code",
   "execution_count": 15,
   "metadata": {
    "pycharm": {
     "name": "#%%\n"
    }
   },
   "outputs": [
    {
     "name": "stdout",
     "output_type": "stream",
     "text": [
      "Epoch 1/100\n",
      "2624/2624 [==============================] - 8s 3ms/step - loss: 0.6038 - val_loss: 0.6027\n",
      "Epoch 2/100\n",
      "2624/2624 [==============================] - 8s 3ms/step - loss: 0.6012 - val_loss: 0.6001\n",
      "Epoch 3/100\n",
      "2624/2624 [==============================] - 8s 3ms/step - loss: 0.6009 - val_loss: 0.6005\n",
      "Epoch 4/100\n",
      "2624/2624 [==============================] - 8s 3ms/step - loss: 0.6007 - val_loss: 0.6010\n",
      "Epoch 5/100\n",
      "2624/2624 [==============================] - 8s 3ms/step - loss: 0.6005 - val_loss: 0.6000\n",
      "Epoch 6/100\n",
      "2624/2624 [==============================] - 7s 3ms/step - loss: 0.6004 - val_loss: 0.6000\n",
      "Epoch 7/100\n",
      "2624/2624 [==============================] - 7s 3ms/step - loss: 0.6003 - val_loss: 0.5999\n",
      "Epoch 8/100\n",
      "2624/2624 [==============================] - 7s 3ms/step - loss: 0.6002 - val_loss: 0.6002\n",
      "Epoch 9/100\n",
      "2624/2624 [==============================] - 7s 3ms/step - loss: 0.6003 - val_loss: 0.5998\n",
      "Epoch 10/100\n",
      "2624/2624 [==============================] - 7s 3ms/step - loss: 0.6002 - val_loss: 0.5997\n",
      "Epoch 11/100\n",
      "2624/2624 [==============================] - 7s 3ms/step - loss: 0.6002 - val_loss: 0.6004\n",
      "Epoch 12/100\n",
      "2624/2624 [==============================] - 8s 3ms/step - loss: 0.6002 - val_loss: 0.5997\n",
      "Epoch 13/100\n",
      "2624/2624 [==============================] - 8s 3ms/step - loss: 0.6001 - val_loss: 0.6001\n",
      "Epoch 14/100\n",
      "2624/2624 [==============================] - 9s 3ms/step - loss: 0.6001 - val_loss: 0.5997\n",
      "Epoch 15/100\n",
      "2624/2624 [==============================] - 9s 3ms/step - loss: 0.6001 - val_loss: 0.6006\n",
      "Epoch 16/100\n",
      "2624/2624 [==============================] - 9s 3ms/step - loss: 0.6001 - val_loss: 0.5997\n",
      "Epoch 17/100\n",
      "2624/2624 [==============================] - 9s 3ms/step - loss: 0.6001 - val_loss: 0.5996\n",
      "Epoch 18/100\n",
      "2624/2624 [==============================] - 9s 3ms/step - loss: 0.6000 - val_loss: 0.5997\n",
      "Epoch 19/100\n",
      "2624/2624 [==============================] - 9s 3ms/step - loss: 0.6000 - val_loss: 0.5996\n",
      "Epoch 20/100\n",
      "2624/2624 [==============================] - 9s 3ms/step - loss: 0.6000 - val_loss: 0.5996\n",
      "Epoch 21/100\n",
      "2624/2624 [==============================] - 9s 3ms/step - loss: 0.6000 - val_loss: 0.5997\n",
      "Epoch 22/100\n",
      "2624/2624 [==============================] - 9s 3ms/step - loss: 0.6000 - val_loss: 0.5996\n",
      "Epoch 23/100\n",
      "2624/2624 [==============================] - 9s 3ms/step - loss: 0.6000 - val_loss: 0.5999\n",
      "Epoch 24/100\n",
      "2624/2624 [==============================] - 9s 3ms/step - loss: 0.6000 - val_loss: 0.5998\n",
      "Epoch 25/100\n",
      "2619/2624 [============================>.] - ETA: 0s - loss: 0.6000Restoring model weights from the end of the best epoch: 20.\n",
      "2624/2624 [==============================] - 8s 3ms/step - loss: 0.6000 - val_loss: 0.5998\n",
      "Epoch 25: early stopping\n"
     ]
    }
   ],
   "source": [
    "# Retrain Best Model\n",
    "best_ann = build_model(x_train1.shape[1], 6, 52, 0.001)\n",
    "best_ann, history = train_model(best_ann, x_train1, y_train1, x_val1, y_val1, 512)"
   ]
  },
  {
   "cell_type": "code",
   "execution_count": 16,
   "metadata": {
    "pycharm": {
     "name": "#%%\n"
    }
   },
   "outputs": [
    {
     "name": "stdout",
     "output_type": "stream",
     "text": [
      "Train Accuracy Score:  0.6694157281419235\n",
      "Test Accuracy Score:  0.6691116346357279\n",
      "Train F1 Score:  0.6554615300352851\n",
      "Test F1 Score:  0.6551324102716227\n"
     ]
    }
   ],
   "source": [
    "# Get Training and Test Scores\n",
    "ann_pred_train = best_ann.predict(x_train1).round()\n",
    "ann_pred_test = best_ann.predict(x_test1).round()\n",
    "\n",
    "print(\"Train Accuracy Score: \", accuracy_score(y_train1, ann_pred_train))\n",
    "print(\"Test Accuracy Score: \", accuracy_score(y_test1, ann_pred_test))\n",
    "\n",
    "print(\"Train F1 Score: \", f1_score(y_train1, ann_pred_train, average='macro'))\n",
    "print(\"Test F1 Score: \", f1_score(y_test1, ann_pred_test, average='macro'))"
   ]
  },
  {
   "cell_type": "code",
   "execution_count": 19,
   "metadata": {
    "pycharm": {
     "name": "#%%\n"
    }
   },
   "outputs": [
    {
     "data": {
      "image/png": "[encoded data removed]",
      "text/plain": [
       "<Figure size 432x288 with 1 Axes>"
      ]
     },
     "metadata": {
      "needs_background": "light"
     },
     "output_type": "display_data"
    }
   ],
   "source": [
    "# Get Learning Curve\n",
    "plot_learning(history)\n",
    "plt.savefig('images/classification/class_adam_learn.pdf')\n",
    "plt.show()"
   ]
  },
  {
   "cell_type": "code",
   "execution_count": 20,
   "metadata": {
    "pycharm": {
     "name": "#%%\n"
    }
   },
   "outputs": [
    {
     "data": {
      "image/png": "[encoded data removed]",
      "text/plain": [
       "<Figure size 432x288 with 2 Axes>"
      ]
     },
     "metadata": {
      "needs_background": "light"
     },
     "output_type": "display_data"
    }
   ],
   "source": [
    "ConfusionMatrixDisplay.from_predictions(y_test1, ann_pred_test)\n",
    "plt.savefig('images/classification/class_adam_conf.pdf')\n",
    "plt.show()"
   ]
  },
  {
   "cell_type": "markdown",
   "metadata": {},
   "source": [
    "### Decision Tree"
   ]
  },
  {
   "cell_type": "code",
   "execution_count": 21,
   "metadata": {
    "pycharm": {
     "name": "#%%\n"
    }
   },
   "outputs": [
    {
     "data": {
      "text/plain": [
       "DecisionTreeClassifier(criterion='entropy', max_depth=10, max_features='auto',\n",
       "                       min_samples_leaf=10, min_samples_split=40)"
      ]
     },
     "execution_count": 21,
     "metadata": {},
     "output_type": "execute_result"
    }
   ],
   "source": [
    "# Retrain Best Model\n",
    "best_dt = DecisionTreeClassifier(criterion='entropy',\n",
    "                                max_depth=10,\n",
    "                                max_features='auto',\n",
    "                                min_samples_leaf=10,\n",
    "                                min_samples_split=40,\n",
    "                                splitter='best')\n",
    "\n",
    "best_dt.fit(x_train2, y_train2)"
   ]
  },
  {
   "cell_type": "code",
   "execution_count": 22,
   "metadata": {
    "pycharm": {
     "name": "#%%\n"
    }
   },
   "outputs": [
    {
     "name": "stdout",
     "output_type": "stream",
     "text": [
      "Train Accuracy Score:  0.6662983251659681\n",
      "Test Accuracy Score:  0.6659538091180961\n",
      "Train F1 Score:  0.651986791392252\n",
      "Test F1 Score:  0.6516345907037047\n"
     ]
    }
   ],
   "source": [
    "# Get Training and Test Scores\n",
    "dt_pred_train = best_dt.predict(x_train2)\n",
    "dt_pred_test = best_dt.predict(x_test2)\n",
    "\n",
    "print(\"Train Accuracy Score: \", accuracy_score(y_train2, dt_pred_train))\n",
    "print(\"Test Accuracy Score: \", accuracy_score(y_test2, dt_pred_test))\n",
    "\n",
    "print(\"Train F1 Score: \", f1_score(y_train2, dt_pred_train, average='macro'))\n",
    "print(\"Test F1 Score: \", f1_score(y_test2, dt_pred_test, average='macro'))"
   ]
  },
  {
   "cell_type": "code",
   "execution_count": 23,
   "metadata": {
    "pycharm": {
     "name": "#%%\n"
    }
   },
   "outputs": [
    {
     "data": {
      "image/png": "[encoded data removed]",
      "text/plain": [
       "<Figure size 432x288 with 2 Axes>"
      ]
     },
     "metadata": {
      "needs_background": "light"
     },
     "output_type": "display_data"
    }
   ],
   "source": [
    "ConfusionMatrixDisplay.from_predictions(y_test2, dt_pred_test)\n",
    "plt.savefig('images/classification/class_dt_conf.pdf')\n",
    "plt.show()"
   ]
  }
 ],
 "metadata": {
  "kernelspec": {
   "display_name": "Python 3",
   "language": "python",
   "name": "python3"
  },
  "language_info": {
   "codemirror_mode": {
    "name": "ipython",
    "version": 3
   },
   "file_extension": ".py",
   "mimetype": "text/x-python",
   "name": "python",
   "nbconvert_exporter": "python",
   "pygments_lexer": "ipython3",
   "version": "3.7.0"
  }
 },
 "nbformat": 4,
 "nbformat_minor": 1
}