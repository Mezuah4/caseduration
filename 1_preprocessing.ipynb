{
 "cells": [
  {
   "cell_type": "markdown",
   "source": [
    "# Pre-Processing"
   ],
   "metadata": {
    "collapsed": false
   }
  },
  {
   "cell_type": "markdown",
   "source": [
    "## Import Relevant Libraries"
   ],
   "metadata": {
    "collapsed": false
   }
  },
  {
   "cell_type": "code",
   "execution_count": 2,
   "metadata": {},
   "outputs": [],
   "source": [
    "# Import Libraries\n",
    "\n",
    "# Basic\n",
    "import numpy as np\n",
    "import pandas as pd\n",
    "pd.options.mode.chained_assignment = None  # default='warn'"
   ]
  },
  {
   "cell_type": "markdown",
   "source": [
    "## Import Data"
   ],
   "metadata": {
    "collapsed": false
   }
  },
  {
   "cell_type": "code",
   "execution_count": 30,
   "metadata": {
    "pycharm": {
     "name": "#%%\n"
    }
   },
   "outputs": [
    {
     "data": {
      "text/plain": "        DATE_RAISED  DATE_FROM    DATE_TO DATE_KNOWN DATE_DETECTED  \\\n0         01-Jan-14  01-Jan-14  01-Jan-14  01-Jan-14     01-Jan-14   \n1         01-Jan-14  01-Jan-14  01-Jan-14  01-Jan-14     01-Jan-14   \n2         31-Dec-13  31-Dec-13  31-Dec-13  31-Dec-13     01-Jan-14   \n3         01-Jan-14  01-Jan-14  01-Jan-14  01-Jan-14     01-Jan-14   \n4         01-Jan-14  01-Jan-14  01-Jan-14  01-Jan-14     01-Jan-14   \n...             ...        ...        ...        ...           ...   \n3000564   30-Dec-21     #NULL!     #NULL!     #NULL!     31-Dec-21   \n3000565   30-Dec-21     #NULL!     #NULL!     #NULL!     31-Dec-21   \n3000566   31-Dec-21     #NULL!     #NULL!     #NULL!     31-Dec-21   \n3000567   31-Dec-21     #NULL!     #NULL!     #NULL!     31-Dec-21   \n3000568   31-Dec-21     #NULL!     #NULL!     #NULL!     31-Dec-21   \n\n         DIVISION_CODE COUNCIL_AREA_CODE  BEAT  \\\n0                    1     Aberdeen City  AS2B   \n1                    1     Aberdeen City  AN3B   \n2                    1     Aberdeen City  AN7A   \n3                    1     Aberdeenshire   S1A   \n4                    1     Aberdeen City  AN3A   \n...                ...               ...   ...   \n3000564              4          Highland   408   \n3000565              4          Highland   408   \n3000566              4          Highland    67   \n3000567              4          Highland    34   \n3000568              4          Highland    75   \n\n                                          STATS_CLASS_CODE  GROUP  \n0                                          Serious Assault    1.0  \n1                                          Serious Assault    1.0  \n2                                          Serious Assault    1.0  \n3        Housebreaking with intent to steal - other pro...    3.0  \n4        Theft of motor vehicle & contents incl. taking...    3.0  \n...                                                    ...    ...  \n3000564                   Lighting offences, motor vehicle    7.0  \n3000565                   Lighting offences, motor vehicle    7.0  \n3000566                                 Seat Belt Offences    7.0  \n3000567                                 Seat Belt Offences    7.0  \n3000568                              Mobile Phone Offences    7.0  \n\n[3000569 rows x 10 columns]",
      "text/html": "<div>\n<style scoped>\n    .dataframe tbody tr th:only-of-type {\n        vertical-align: middle;\n    }\n\n    .dataframe tbody tr th {\n        vertical-align: top;\n    }\n\n    .dataframe thead th {\n        text-align: right;\n    }\n</style>\n<table border=\"1\" class=\"dataframe\">\n  <thead>\n    <tr style=\"text-align: right;\">\n      <th></th>\n      <th>DATE_RAISED</th>\n      <th>DATE_FROM</th>\n      <th>DATE_TO</th>\n      <th>DATE_KNOWN</th>\n      <th>DATE_DETECTED</th>\n      <th>DIVISION_CODE</th>\n      <th>COUNCIL_AREA_CODE</th>\n      <th>BEAT</th>\n      <th>STATS_CLASS_CODE</th>\n      <th>GROUP</th>\n    </tr>\n  </thead>\n  <tbody>\n    <tr>\n      <th>0</th>\n      <td>01-Jan-14</td>\n      <td>01-Jan-14</td>\n      <td>01-Jan-14</td>\n      <td>01-Jan-14</td>\n      <td>01-Jan-14</td>\n      <td>1</td>\n      <td>Aberdeen City</td>\n      <td>AS2B</td>\n      <td>Serious Assault</td>\n      <td>1.0</td>\n    </tr>\n    <tr>\n      <th>1</th>\n      <td>01-Jan-14</td>\n      <td>01-Jan-14</td>\n      <td>01-Jan-14</td>\n      <td>01-Jan-14</td>\n      <td>01-Jan-14</td>\n      <td>1</td>\n      <td>Aberdeen City</td>\n      <td>AN3B</td>\n      <td>Serious Assault</td>\n      <td>1.0</td>\n    </tr>\n    <tr>\n      <th>2</th>\n      <td>31-Dec-13</td>\n      <td>31-Dec-13</td>\n      <td>31-Dec-13</td>\n      <td>31-Dec-13</td>\n      <td>01-Jan-14</td>\n      <td>1</td>\n      <td>Aberdeen City</td>\n      <td>AN7A</td>\n      <td>Serious Assault</td>\n      <td>1.0</td>\n    </tr>\n    <tr>\n      <th>3</th>\n      <td>01-Jan-14</td>\n      <td>01-Jan-14</td>\n      <td>01-Jan-14</td>\n      <td>01-Jan-14</td>\n      <td>01-Jan-14</td>\n      <td>1</td>\n      <td>Aberdeenshire</td>\n      <td>S1A</td>\n      <td>Housebreaking with intent to steal - other pro...</td>\n      <td>3.0</td>\n    </tr>\n    <tr>\n      <th>4</th>\n      <td>01-Jan-14</td>\n      <td>01-Jan-14</td>\n      <td>01-Jan-14</td>\n      <td>01-Jan-14</td>\n      <td>01-Jan-14</td>\n      <td>1</td>\n      <td>Aberdeen City</td>\n      <td>AN3A</td>\n      <td>Theft of motor vehicle &amp; contents incl. taking...</td>\n      <td>3.0</td>\n    </tr>\n    <tr>\n      <th>...</th>\n      <td>...</td>\n      <td>...</td>\n      <td>...</td>\n      <td>...</td>\n      <td>...</td>\n      <td>...</td>\n      <td>...</td>\n      <td>...</td>\n      <td>...</td>\n      <td>...</td>\n    </tr>\n    <tr>\n      <th>3000564</th>\n      <td>30-Dec-21</td>\n      <td>#NULL!</td>\n      <td>#NULL!</td>\n      <td>#NULL!</td>\n      <td>31-Dec-21</td>\n      <td>4</td>\n      <td>Highland</td>\n      <td>408</td>\n      <td>Lighting offences, motor vehicle</td>\n      <td>7.0</td>\n    </tr>\n    <tr>\n      <th>3000565</th>\n      <td>30-Dec-21</td>\n      <td>#NULL!</td>\n      <td>#NULL!</td>\n      <td>#NULL!</td>\n      <td>31-Dec-21</td>\n      <td>4</td>\n      <td>Highland</td>\n      <td>408</td>\n      <td>Lighting offences, motor vehicle</td>\n      <td>7.0</td>\n    </tr>\n    <tr>\n      <th>3000566</th>\n      <td>31-Dec-21</td>\n      <td>#NULL!</td>\n      <td>#NULL!</td>\n      <td>#NULL!</td>\n      <td>31-Dec-21</td>\n      <td>4</td>\n      <td>Highland</td>\n      <td>67</td>\n      <td>Seat Belt Offences</td>\n      <td>7.0</td>\n    </tr>\n    <tr>\n      <th>3000567</th>\n      <td>31-Dec-21</td>\n      <td>#NULL!</td>\n      <td>#NULL!</td>\n      <td>#NULL!</td>\n      <td>31-Dec-21</td>\n      <td>4</td>\n      <td>Highland</td>\n      <td>34</td>\n      <td>Seat Belt Offences</td>\n      <td>7.0</td>\n    </tr>\n    <tr>\n      <th>3000568</th>\n      <td>31-Dec-21</td>\n      <td>#NULL!</td>\n      <td>#NULL!</td>\n      <td>#NULL!</td>\n      <td>31-Dec-21</td>\n      <td>4</td>\n      <td>Highland</td>\n      <td>75</td>\n      <td>Mobile Phone Offences</td>\n      <td>7.0</td>\n    </tr>\n  </tbody>\n</table>\n<p>3000569 rows × 10 columns</p>\n</div>"
     },
     "execution_count": 30,
     "metadata": {},
     "output_type": "execute_result"
    }
   ],
   "source": [
    "# Import Data\n",
    "df = pd.read_csv(\"data/raw.csv\")\n",
    "\n",
    "# Remove Unwanted Rows\n",
    "df = df[['DATE_RAISED', 'DATE_FROM', 'DATE_TO', 'DATE_KNOWN', 'DATE_DETECTED', 'DIVISION_CODE', 'COUNCIL_AREA_CODE', 'BEAT', 'STATS_CLASS_CODE', 'Group']]\n",
    "\n",
    "df = df.rename(columns={\"Group\":\"GROUP\"})\n",
    "\n",
    "# Show\n",
    "df"
   ]
  },
  {
   "cell_type": "markdown",
   "source": [
    "## Reformat Null Values"
   ],
   "metadata": {
    "collapsed": false
   }
  },
  {
   "cell_type": "code",
   "execution_count": 31,
   "metadata": {
    "pycharm": {
     "name": "#%%\n"
    }
   },
   "outputs": [
    {
     "data": {
      "text/plain": "        DATE_RAISED  DATE_FROM    DATE_TO DATE_KNOWN DATE_DETECTED  \\\n0         01-Jan-14  01-Jan-14  01-Jan-14  01-Jan-14     01-Jan-14   \n1         01-Jan-14  01-Jan-14  01-Jan-14  01-Jan-14     01-Jan-14   \n2         31-Dec-13  31-Dec-13  31-Dec-13  31-Dec-13     01-Jan-14   \n3         01-Jan-14  01-Jan-14  01-Jan-14  01-Jan-14     01-Jan-14   \n4         01-Jan-14  01-Jan-14  01-Jan-14  01-Jan-14     01-Jan-14   \n...             ...        ...        ...        ...           ...   \n3000564   30-Dec-21        NaN        NaN        NaN     31-Dec-21   \n3000565   30-Dec-21        NaN        NaN        NaN     31-Dec-21   \n3000566   31-Dec-21        NaN        NaN        NaN     31-Dec-21   \n3000567   31-Dec-21        NaN        NaN        NaN     31-Dec-21   \n3000568   31-Dec-21        NaN        NaN        NaN     31-Dec-21   \n\n         DIVISION_CODE COUNCIL_AREA_CODE  BEAT  \\\n0                    1     Aberdeen City  AS2B   \n1                    1     Aberdeen City  AN3B   \n2                    1     Aberdeen City  AN7A   \n3                    1     Aberdeenshire   S1A   \n4                    1     Aberdeen City  AN3A   \n...                ...               ...   ...   \n3000564              4          Highland   408   \n3000565              4          Highland   408   \n3000566              4          Highland    67   \n3000567              4          Highland    34   \n3000568              4          Highland    75   \n\n                                          STATS_CLASS_CODE  GROUP  \n0                                          Serious Assault    1.0  \n1                                          Serious Assault    1.0  \n2                                          Serious Assault    1.0  \n3        Housebreaking with intent to steal - other pro...    3.0  \n4        Theft of motor vehicle & contents incl. taking...    3.0  \n...                                                    ...    ...  \n3000564                   Lighting offences, motor vehicle    7.0  \n3000565                   Lighting offences, motor vehicle    7.0  \n3000566                                 Seat Belt Offences    7.0  \n3000567                                 Seat Belt Offences    7.0  \n3000568                              Mobile Phone Offences    7.0  \n\n[3000569 rows x 10 columns]",
      "text/html": "<div>\n<style scoped>\n    .dataframe tbody tr th:only-of-type {\n        vertical-align: middle;\n    }\n\n    .dataframe tbody tr th {\n        vertical-align: top;\n    }\n\n    .dataframe thead th {\n        text-align: right;\n    }\n</style>\n<table border=\"1\" class=\"dataframe\">\n  <thead>\n    <tr style=\"text-align: right;\">\n      <th></th>\n      <th>DATE_RAISED</th>\n      <th>DATE_FROM</th>\n      <th>DATE_TO</th>\n      <th>DATE_KNOWN</th>\n      <th>DATE_DETECTED</th>\n      <th>DIVISION_CODE</th>\n      <th>COUNCIL_AREA_CODE</th>\n      <th>BEAT</th>\n      <th>STATS_CLASS_CODE</th>\n      <th>GROUP</th>\n    </tr>\n  </thead>\n  <tbody>\n    <tr>\n      <th>0</th>\n      <td>01-Jan-14</td>\n      <td>01-Jan-14</td>\n      <td>01-Jan-14</td>\n      <td>01-Jan-14</td>\n      <td>01-Jan-14</td>\n      <td>1</td>\n      <td>Aberdeen City</td>\n      <td>AS2B</td>\n      <td>Serious Assault</td>\n      <td>1.0</td>\n    </tr>\n    <tr>\n      <th>1</th>\n      <td>01-Jan-14</td>\n      <td>01-Jan-14</td>\n      <td>01-Jan-14</td>\n      <td>01-Jan-14</td>\n      <td>01-Jan-14</td>\n      <td>1</td>\n      <td>Aberdeen City</td>\n      <td>AN3B</td>\n      <td>Serious Assault</td>\n      <td>1.0</td>\n    </tr>\n    <tr>\n      <th>2</th>\n      <td>31-Dec-13</td>\n      <td>31-Dec-13</td>\n      <td>31-Dec-13</td>\n      <td>31-Dec-13</td>\n      <td>01-Jan-14</td>\n      <td>1</td>\n      <td>Aberdeen City</td>\n      <td>AN7A</td>\n      <td>Serious Assault</td>\n      <td>1.0</td>\n    </tr>\n    <tr>\n      <th>3</th>\n      <td>01-Jan-14</td>\n      <td>01-Jan-14</td>\n      <td>01-Jan-14</td>\n      <td>01-Jan-14</td>\n      <td>01-Jan-14</td>\n      <td>1</td>\n      <td>Aberdeenshire</td>\n      <td>S1A</td>\n      <td>Housebreaking with intent to steal - other pro...</td>\n      <td>3.0</td>\n    </tr>\n    <tr>\n      <th>4</th>\n      <td>01-Jan-14</td>\n      <td>01-Jan-14</td>\n      <td>01-Jan-14</td>\n      <td>01-Jan-14</td>\n      <td>01-Jan-14</td>\n      <td>1</td>\n      <td>Aberdeen City</td>\n      <td>AN3A</td>\n      <td>Theft of motor vehicle &amp; contents incl. taking...</td>\n      <td>3.0</td>\n    </tr>\n    <tr>\n      <th>...</th>\n      <td>...</td>\n      <td>...</td>\n      <td>...</td>\n      <td>...</td>\n      <td>...</td>\n      <td>...</td>\n      <td>...</td>\n      <td>...</td>\n      <td>...</td>\n      <td>...</td>\n    </tr>\n    <tr>\n      <th>3000564</th>\n      <td>30-Dec-21</td>\n      <td>NaN</td>\n      <td>NaN</td>\n      <td>NaN</td>\n      <td>31-Dec-21</td>\n      <td>4</td>\n      <td>Highland</td>\n      <td>408</td>\n      <td>Lighting offences, motor vehicle</td>\n      <td>7.0</td>\n    </tr>\n    <tr>\n      <th>3000565</th>\n      <td>30-Dec-21</td>\n      <td>NaN</td>\n      <td>NaN</td>\n      <td>NaN</td>\n      <td>31-Dec-21</td>\n      <td>4</td>\n      <td>Highland</td>\n      <td>408</td>\n      <td>Lighting offences, motor vehicle</td>\n      <td>7.0</td>\n    </tr>\n    <tr>\n      <th>3000566</th>\n      <td>31-Dec-21</td>\n      <td>NaN</td>\n      <td>NaN</td>\n      <td>NaN</td>\n      <td>31-Dec-21</td>\n      <td>4</td>\n      <td>Highland</td>\n      <td>67</td>\n      <td>Seat Belt Offences</td>\n      <td>7.0</td>\n    </tr>\n    <tr>\n      <th>3000567</th>\n      <td>31-Dec-21</td>\n      <td>NaN</td>\n      <td>NaN</td>\n      <td>NaN</td>\n      <td>31-Dec-21</td>\n      <td>4</td>\n      <td>Highland</td>\n      <td>34</td>\n      <td>Seat Belt Offences</td>\n      <td>7.0</td>\n    </tr>\n    <tr>\n      <th>3000568</th>\n      <td>31-Dec-21</td>\n      <td>NaN</td>\n      <td>NaN</td>\n      <td>NaN</td>\n      <td>31-Dec-21</td>\n      <td>4</td>\n      <td>Highland</td>\n      <td>75</td>\n      <td>Mobile Phone Offences</td>\n      <td>7.0</td>\n    </tr>\n  </tbody>\n</table>\n<p>3000569 rows × 10 columns</p>\n</div>"
     },
     "execution_count": 31,
     "metadata": {},
     "output_type": "execute_result"
    }
   ],
   "source": [
    "df = df.replace('#NULL!', np.nan)\n",
    "df"
   ]
  },
  {
   "cell_type": "markdown",
   "source": [
    "## Remove Unsalvagable Missing Data"
   ],
   "metadata": {
    "collapsed": false
   }
  },
  {
   "cell_type": "code",
   "execution_count": 32,
   "outputs": [
    {
     "data": {
      "text/plain": "DATE_RAISED                0\nDATE_FROM             189002\nDATE_TO              1529482\nDATE_KNOWN            919429\nDATE_DETECTED              0\nDIVISION_CODE              0\nCOUNCIL_AREA_CODE         37\nBEAT                   11402\nSTATS_CLASS_CODE           0\nGROUP                      0\ndtype: int64"
     },
     "execution_count": 32,
     "metadata": {},
     "output_type": "execute_result"
    }
   ],
   "source": [
    "# Check for Missing Values\n",
    "df.isna().sum()"
   ],
   "metadata": {
    "collapsed": false,
    "pycharm": {
     "name": "#%%\n"
    }
   }
  },
  {
   "cell_type": "code",
   "execution_count": 33,
   "metadata": {
    "pycharm": {
     "name": "#%%\n"
    }
   },
   "outputs": [],
   "source": [
    "# Remove Missing Data\n",
    "\n",
    "# Missing Beat Codes\n",
    "df = df[df.BEAT.notna()]\n",
    "\n",
    "# Missing Area Code\n",
    "df = df[df.COUNCIL_AREA_CODE.notna()]"
   ]
  },
  {
   "cell_type": "code",
   "execution_count": 34,
   "outputs": [
    {
     "data": {
      "text/plain": "DATE_RAISED                0\nDATE_FROM             189002\nDATE_TO              1529445\nDATE_KNOWN            908027\nDATE_DETECTED              0\nDIVISION_CODE              0\nCOUNCIL_AREA_CODE          0\nBEAT                       0\nSTATS_CLASS_CODE           0\nGROUP                      0\ndtype: int64"
     },
     "execution_count": 34,
     "metadata": {},
     "output_type": "execute_result"
    }
   ],
   "source": [
    "# Check for Missing Values\n",
    "df.isna().sum()"
   ],
   "metadata": {
    "collapsed": false,
    "pycharm": {
     "name": "#%%\n"
    }
   }
  },
  {
   "cell_type": "markdown",
   "source": [
    "## Fix Missing Division Code"
   ],
   "metadata": {
    "collapsed": false
   }
  },
  {
   "cell_type": "code",
   "execution_count": 35,
   "outputs": [
    {
     "data": {
      "text/plain": "        DATE_RAISED  DATE_FROM    DATE_TO DATE_KNOWN DATE_DETECTED  \\\n0         01-Jan-14  01-Jan-14  01-Jan-14  01-Jan-14     01-Jan-14   \n1         01-Jan-14  01-Jan-14  01-Jan-14  01-Jan-14     01-Jan-14   \n2         31-Dec-13  31-Dec-13  31-Dec-13  31-Dec-13     01-Jan-14   \n3         01-Jan-14  01-Jan-14  01-Jan-14  01-Jan-14     01-Jan-14   \n4         01-Jan-14  01-Jan-14  01-Jan-14  01-Jan-14     01-Jan-14   \n...             ...        ...        ...        ...           ...   \n3000564   30-Dec-21        NaN        NaN        NaN     31-Dec-21   \n3000565   30-Dec-21        NaN        NaN        NaN     31-Dec-21   \n3000566   31-Dec-21        NaN        NaN        NaN     31-Dec-21   \n3000567   31-Dec-21        NaN        NaN        NaN     31-Dec-21   \n3000568   31-Dec-21        NaN        NaN        NaN     31-Dec-21   \n\n         DIVISION_CODE COUNCIL_AREA_CODE  BEAT  \\\n0                    1     Aberdeen City  AS2B   \n1                    1     Aberdeen City  AN3B   \n2                    1     Aberdeen City  AN7A   \n3                    1     Aberdeenshire   S1A   \n4                    1     Aberdeen City  AN3A   \n...                ...               ...   ...   \n3000564              3          Highland   408   \n3000565              3          Highland   408   \n3000566              3          Highland    67   \n3000567              3          Highland    34   \n3000568              3          Highland    75   \n\n                                          STATS_CLASS_CODE  GROUP  \n0                                          Serious Assault    1.0  \n1                                          Serious Assault    1.0  \n2                                          Serious Assault    1.0  \n3        Housebreaking with intent to steal - other pro...    3.0  \n4        Theft of motor vehicle & contents incl. taking...    3.0  \n...                                                    ...    ...  \n3000564                   Lighting offences, motor vehicle    7.0  \n3000565                   Lighting offences, motor vehicle    7.0  \n3000566                                 Seat Belt Offences    7.0  \n3000567                                 Seat Belt Offences    7.0  \n3000568                              Mobile Phone Offences    7.0  \n\n[2989130 rows x 10 columns]",
      "text/html": "<div>\n<style scoped>\n    .dataframe tbody tr th:only-of-type {\n        vertical-align: middle;\n    }\n\n    .dataframe tbody tr th {\n        vertical-align: top;\n    }\n\n    .dataframe thead th {\n        text-align: right;\n    }\n</style>\n<table border=\"1\" class=\"dataframe\">\n  <thead>\n    <tr style=\"text-align: right;\">\n      <th></th>\n      <th>DATE_RAISED</th>\n      <th>DATE_FROM</th>\n      <th>DATE_TO</th>\n      <th>DATE_KNOWN</th>\n      <th>DATE_DETECTED</th>\n      <th>DIVISION_CODE</th>\n      <th>COUNCIL_AREA_CODE</th>\n      <th>BEAT</th>\n      <th>STATS_CLASS_CODE</th>\n      <th>GROUP</th>\n    </tr>\n  </thead>\n  <tbody>\n    <tr>\n      <th>0</th>\n      <td>01-Jan-14</td>\n      <td>01-Jan-14</td>\n      <td>01-Jan-14</td>\n      <td>01-Jan-14</td>\n      <td>01-Jan-14</td>\n      <td>1</td>\n      <td>Aberdeen City</td>\n      <td>AS2B</td>\n      <td>Serious Assault</td>\n      <td>1.0</td>\n    </tr>\n    <tr>\n      <th>1</th>\n      <td>01-Jan-14</td>\n      <td>01-Jan-14</td>\n      <td>01-Jan-14</td>\n      <td>01-Jan-14</td>\n      <td>01-Jan-14</td>\n      <td>1</td>\n      <td>Aberdeen City</td>\n      <td>AN3B</td>\n      <td>Serious Assault</td>\n      <td>1.0</td>\n    </tr>\n    <tr>\n      <th>2</th>\n      <td>31-Dec-13</td>\n      <td>31-Dec-13</td>\n      <td>31-Dec-13</td>\n      <td>31-Dec-13</td>\n      <td>01-Jan-14</td>\n      <td>1</td>\n      <td>Aberdeen City</td>\n      <td>AN7A</td>\n      <td>Serious Assault</td>\n      <td>1.0</td>\n    </tr>\n    <tr>\n      <th>3</th>\n      <td>01-Jan-14</td>\n      <td>01-Jan-14</td>\n      <td>01-Jan-14</td>\n      <td>01-Jan-14</td>\n      <td>01-Jan-14</td>\n      <td>1</td>\n      <td>Aberdeenshire</td>\n      <td>S1A</td>\n      <td>Housebreaking with intent to steal - other pro...</td>\n      <td>3.0</td>\n    </tr>\n    <tr>\n      <th>4</th>\n      <td>01-Jan-14</td>\n      <td>01-Jan-14</td>\n      <td>01-Jan-14</td>\n      <td>01-Jan-14</td>\n      <td>01-Jan-14</td>\n      <td>1</td>\n      <td>Aberdeen City</td>\n      <td>AN3A</td>\n      <td>Theft of motor vehicle &amp; contents incl. taking...</td>\n      <td>3.0</td>\n    </tr>\n    <tr>\n      <th>...</th>\n      <td>...</td>\n      <td>...</td>\n      <td>...</td>\n      <td>...</td>\n      <td>...</td>\n      <td>...</td>\n      <td>...</td>\n      <td>...</td>\n      <td>...</td>\n      <td>...</td>\n    </tr>\n    <tr>\n      <th>3000564</th>\n      <td>30-Dec-21</td>\n      <td>NaN</td>\n      <td>NaN</td>\n      <td>NaN</td>\n      <td>31-Dec-21</td>\n      <td>3</td>\n      <td>Highland</td>\n      <td>408</td>\n      <td>Lighting offences, motor vehicle</td>\n      <td>7.0</td>\n    </tr>\n    <tr>\n      <th>3000565</th>\n      <td>30-Dec-21</td>\n      <td>NaN</td>\n      <td>NaN</td>\n      <td>NaN</td>\n      <td>31-Dec-21</td>\n      <td>3</td>\n      <td>Highland</td>\n      <td>408</td>\n      <td>Lighting offences, motor vehicle</td>\n      <td>7.0</td>\n    </tr>\n    <tr>\n      <th>3000566</th>\n      <td>31-Dec-21</td>\n      <td>NaN</td>\n      <td>NaN</td>\n      <td>NaN</td>\n      <td>31-Dec-21</td>\n      <td>3</td>\n      <td>Highland</td>\n      <td>67</td>\n      <td>Seat Belt Offences</td>\n      <td>7.0</td>\n    </tr>\n    <tr>\n      <th>3000567</th>\n      <td>31-Dec-21</td>\n      <td>NaN</td>\n      <td>NaN</td>\n      <td>NaN</td>\n      <td>31-Dec-21</td>\n      <td>3</td>\n      <td>Highland</td>\n      <td>34</td>\n      <td>Seat Belt Offences</td>\n      <td>7.0</td>\n    </tr>\n    <tr>\n      <th>3000568</th>\n      <td>31-Dec-21</td>\n      <td>NaN</td>\n      <td>NaN</td>\n      <td>NaN</td>\n      <td>31-Dec-21</td>\n      <td>3</td>\n      <td>Highland</td>\n      <td>75</td>\n      <td>Mobile Phone Offences</td>\n      <td>7.0</td>\n    </tr>\n  </tbody>\n</table>\n<p>2989130 rows × 10 columns</p>\n</div>"
     },
     "execution_count": 35,
     "metadata": {},
     "output_type": "execute_result"
    }
   ],
   "source": [
    "def div_fix(row):\n",
    "    if row[\"DIVISION_CODE\"] > 2:\n",
    "        return row[\"DIVISION_CODE\"] - 1\n",
    "    else:\n",
    "        return row[\"DIVISION_CODE\"]\n",
    "\n",
    "df['DIVISION_CODE'] = df.apply(div_fix, axis=1)\n",
    "df"
   ],
   "metadata": {
    "collapsed": false,
    "pycharm": {
     "name": "#%%\n"
    }
   }
  },
  {
   "cell_type": "code",
   "execution_count": 36,
   "outputs": [
    {
     "data": {
      "text/plain": "171719"
     },
     "execution_count": 36,
     "metadata": {},
     "output_type": "execute_result"
    }
   ],
   "source": [
    "# Observations in Highlands and Islands\n",
    "len(df[df['DIVISION_CODE'] == 3])"
   ],
   "metadata": {
    "collapsed": false,
    "pycharm": {
     "name": "#%%\n"
    }
   }
  },
  {
   "cell_type": "markdown",
   "source": [
    "## Investigate & Replace Missing Dates"
   ],
   "metadata": {
    "collapsed": false
   }
  },
  {
   "cell_type": "code",
   "execution_count": 37,
   "outputs": [
    {
     "data": {
      "text/plain": "        DATE_RAISED DATE_FROM DATE_TO DATE_KNOWN DATE_DETECTED  DIVISION_CODE  \\\n150       15-Sep-13       NaN     NaN        NaN     01-Jan-14              3   \n151       01-Jan-14       NaN     NaN        NaN     01-Jan-14              3   \n152       01-Jan-14       NaN     NaN        NaN     01-Jan-14              3   \n153       31-Dec-13       NaN     NaN        NaN     01-Jan-14              3   \n154       31-Dec-13       NaN     NaN        NaN     01-Jan-14              3   \n...             ...       ...     ...        ...           ...            ...   \n3000564   30-Dec-21       NaN     NaN        NaN     31-Dec-21              3   \n3000565   30-Dec-21       NaN     NaN        NaN     31-Dec-21              3   \n3000566   31-Dec-21       NaN     NaN        NaN     31-Dec-21              3   \n3000567   31-Dec-21       NaN     NaN        NaN     31-Dec-21              3   \n3000568   31-Dec-21       NaN     NaN        NaN     31-Dec-21              3   \n\n        COUNCIL_AREA_CODE BEAT  \\\n150        Orkney Islands   13   \n151              Highland  111   \n152              Highland    2   \n153        Orkney Islands  104   \n154        Orkney Islands  104   \n...                   ...  ...   \n3000564          Highland  408   \n3000565          Highland  408   \n3000566          Highland   67   \n3000567          Highland   34   \n3000568          Highland   75   \n\n                                          STATS_CLASS_CODE  GROUP  \n150      Theft of motor vehicle & contents incl. taking...    3.0  \n151      General attmpts to defeat_pervert the course_e...    5.0  \n152                                         Common Assault    6.0  \n153                                         Common Assault    6.0  \n154                                         Common Assault    6.0  \n...                                                    ...    ...  \n3000564                   Lighting offences, motor vehicle    7.0  \n3000565                   Lighting offences, motor vehicle    7.0  \n3000566                                 Seat Belt Offences    7.0  \n3000567                                 Seat Belt Offences    7.0  \n3000568                              Mobile Phone Offences    7.0  \n\n[172168 rows x 10 columns]",
      "text/html": "<div>\n<style scoped>\n    .dataframe tbody tr th:only-of-type {\n        vertical-align: middle;\n    }\n\n    .dataframe tbody tr th {\n        vertical-align: top;\n    }\n\n    .dataframe thead th {\n        text-align: right;\n    }\n</style>\n<table border=\"1\" class=\"dataframe\">\n  <thead>\n    <tr style=\"text-align: right;\">\n      <th></th>\n      <th>DATE_RAISED</th>\n      <th>DATE_FROM</th>\n      <th>DATE_TO</th>\n      <th>DATE_KNOWN</th>\n      <th>DATE_DETECTED</th>\n      <th>DIVISION_CODE</th>\n      <th>COUNCIL_AREA_CODE</th>\n      <th>BEAT</th>\n      <th>STATS_CLASS_CODE</th>\n      <th>GROUP</th>\n    </tr>\n  </thead>\n  <tbody>\n    <tr>\n      <th>150</th>\n      <td>15-Sep-13</td>\n      <td>NaN</td>\n      <td>NaN</td>\n      <td>NaN</td>\n      <td>01-Jan-14</td>\n      <td>3</td>\n      <td>Orkney Islands</td>\n      <td>13</td>\n      <td>Theft of motor vehicle &amp; contents incl. taking...</td>\n      <td>3.0</td>\n    </tr>\n    <tr>\n      <th>151</th>\n      <td>01-Jan-14</td>\n      <td>NaN</td>\n      <td>NaN</td>\n      <td>NaN</td>\n      <td>01-Jan-14</td>\n      <td>3</td>\n      <td>Highland</td>\n      <td>111</td>\n      <td>General attmpts to defeat_pervert the course_e...</td>\n      <td>5.0</td>\n    </tr>\n    <tr>\n      <th>152</th>\n      <td>01-Jan-14</td>\n      <td>NaN</td>\n      <td>NaN</td>\n      <td>NaN</td>\n      <td>01-Jan-14</td>\n      <td>3</td>\n      <td>Highland</td>\n      <td>2</td>\n      <td>Common Assault</td>\n      <td>6.0</td>\n    </tr>\n    <tr>\n      <th>153</th>\n      <td>31-Dec-13</td>\n      <td>NaN</td>\n      <td>NaN</td>\n      <td>NaN</td>\n      <td>01-Jan-14</td>\n      <td>3</td>\n      <td>Orkney Islands</td>\n      <td>104</td>\n      <td>Common Assault</td>\n      <td>6.0</td>\n    </tr>\n    <tr>\n      <th>154</th>\n      <td>31-Dec-13</td>\n      <td>NaN</td>\n      <td>NaN</td>\n      <td>NaN</td>\n      <td>01-Jan-14</td>\n      <td>3</td>\n      <td>Orkney Islands</td>\n      <td>104</td>\n      <td>Common Assault</td>\n      <td>6.0</td>\n    </tr>\n    <tr>\n      <th>...</th>\n      <td>...</td>\n      <td>...</td>\n      <td>...</td>\n      <td>...</td>\n      <td>...</td>\n      <td>...</td>\n      <td>...</td>\n      <td>...</td>\n      <td>...</td>\n      <td>...</td>\n    </tr>\n    <tr>\n      <th>3000564</th>\n      <td>30-Dec-21</td>\n      <td>NaN</td>\n      <td>NaN</td>\n      <td>NaN</td>\n      <td>31-Dec-21</td>\n      <td>3</td>\n      <td>Highland</td>\n      <td>408</td>\n      <td>Lighting offences, motor vehicle</td>\n      <td>7.0</td>\n    </tr>\n    <tr>\n      <th>3000565</th>\n      <td>30-Dec-21</td>\n      <td>NaN</td>\n      <td>NaN</td>\n      <td>NaN</td>\n      <td>31-Dec-21</td>\n      <td>3</td>\n      <td>Highland</td>\n      <td>408</td>\n      <td>Lighting offences, motor vehicle</td>\n      <td>7.0</td>\n    </tr>\n    <tr>\n      <th>3000566</th>\n      <td>31-Dec-21</td>\n      <td>NaN</td>\n      <td>NaN</td>\n      <td>NaN</td>\n      <td>31-Dec-21</td>\n      <td>3</td>\n      <td>Highland</td>\n      <td>67</td>\n      <td>Seat Belt Offences</td>\n      <td>7.0</td>\n    </tr>\n    <tr>\n      <th>3000567</th>\n      <td>31-Dec-21</td>\n      <td>NaN</td>\n      <td>NaN</td>\n      <td>NaN</td>\n      <td>31-Dec-21</td>\n      <td>3</td>\n      <td>Highland</td>\n      <td>34</td>\n      <td>Seat Belt Offences</td>\n      <td>7.0</td>\n    </tr>\n    <tr>\n      <th>3000568</th>\n      <td>31-Dec-21</td>\n      <td>NaN</td>\n      <td>NaN</td>\n      <td>NaN</td>\n      <td>31-Dec-21</td>\n      <td>3</td>\n      <td>Highland</td>\n      <td>75</td>\n      <td>Mobile Phone Offences</td>\n      <td>7.0</td>\n    </tr>\n  </tbody>\n</table>\n<p>172168 rows × 10 columns</p>\n</div>"
     },
     "execution_count": 37,
     "metadata": {},
     "output_type": "execute_result"
    }
   ],
   "source": [
    "# No Date Range\n",
    "df[df['DATE_TO'].isna() & df['DATE_FROM'].isna()]"
   ],
   "metadata": {
    "collapsed": false,
    "pycharm": {
     "name": "#%%\n"
    }
   }
  },
  {
   "cell_type": "code",
   "execution_count": 38,
   "outputs": [
    {
     "data": {
      "text/plain": "        DATE_RAISED DATE_FROM DATE_TO DATE_KNOWN DATE_DETECTED  DIVISION_CODE  \\\n2028639   08-Jan-19       NaN     NaN  08-Jan-19     08-Jan-19             13   \n2500107   06-Jun-20       NaN     NaN  06-Jun-20     07-Jun-20             10   \n2500113   06-Jun-20       NaN     NaN  06-Jun-20     07-Jun-20             10   \n2500526   06-Jun-20       NaN     NaN  06-Jun-20     07-Jun-20             10   \n\n           COUNCIL_AREA_CODE  BEAT                   STATS_CLASS_CODE  GROUP  \n2028639  Dumfries & Galloway   VA4  Possession of an offensive weapon    5.0  \n2500107    South Lanarkshire  QB32                          Vandalism    4.0  \n2500113    South Lanarkshire  QB32                   Resisting arrest    5.0  \n2500526    South Lanarkshire  QB32   Threatening or abusive behaviour    6.0  ",
      "text/html": "<div>\n<style scoped>\n    .dataframe tbody tr th:only-of-type {\n        vertical-align: middle;\n    }\n\n    .dataframe tbody tr th {\n        vertical-align: top;\n    }\n\n    .dataframe thead th {\n        text-align: right;\n    }\n</style>\n<table border=\"1\" class=\"dataframe\">\n  <thead>\n    <tr style=\"text-align: right;\">\n      <th></th>\n      <th>DATE_RAISED</th>\n      <th>DATE_FROM</th>\n      <th>DATE_TO</th>\n      <th>DATE_KNOWN</th>\n      <th>DATE_DETECTED</th>\n      <th>DIVISION_CODE</th>\n      <th>COUNCIL_AREA_CODE</th>\n      <th>BEAT</th>\n      <th>STATS_CLASS_CODE</th>\n      <th>GROUP</th>\n    </tr>\n  </thead>\n  <tbody>\n    <tr>\n      <th>2028639</th>\n      <td>08-Jan-19</td>\n      <td>NaN</td>\n      <td>NaN</td>\n      <td>08-Jan-19</td>\n      <td>08-Jan-19</td>\n      <td>13</td>\n      <td>Dumfries &amp; Galloway</td>\n      <td>VA4</td>\n      <td>Possession of an offensive weapon</td>\n      <td>5.0</td>\n    </tr>\n    <tr>\n      <th>2500107</th>\n      <td>06-Jun-20</td>\n      <td>NaN</td>\n      <td>NaN</td>\n      <td>06-Jun-20</td>\n      <td>07-Jun-20</td>\n      <td>10</td>\n      <td>South Lanarkshire</td>\n      <td>QB32</td>\n      <td>Vandalism</td>\n      <td>4.0</td>\n    </tr>\n    <tr>\n      <th>2500113</th>\n      <td>06-Jun-20</td>\n      <td>NaN</td>\n      <td>NaN</td>\n      <td>06-Jun-20</td>\n      <td>07-Jun-20</td>\n      <td>10</td>\n      <td>South Lanarkshire</td>\n      <td>QB32</td>\n      <td>Resisting arrest</td>\n      <td>5.0</td>\n    </tr>\n    <tr>\n      <th>2500526</th>\n      <td>06-Jun-20</td>\n      <td>NaN</td>\n      <td>NaN</td>\n      <td>06-Jun-20</td>\n      <td>07-Jun-20</td>\n      <td>10</td>\n      <td>South Lanarkshire</td>\n      <td>QB32</td>\n      <td>Threatening or abusive behaviour</td>\n      <td>6.0</td>\n    </tr>\n  </tbody>\n</table>\n</div>"
     },
     "execution_count": 38,
     "metadata": {},
     "output_type": "execute_result"
    }
   ],
   "source": [
    "# No Date Range (Date Known)\n",
    "df[df['DATE_TO'].isna() & df['DATE_FROM'].isna() & df['DATE_KNOWN'].notna()]"
   ],
   "metadata": {
    "collapsed": false,
    "pycharm": {
     "name": "#%%\n"
    }
   }
  },
  {
   "cell_type": "code",
   "execution_count": 39,
   "outputs": [
    {
     "data": {
      "text/plain": "        DATE_RAISED  DATE_FROM DATE_TO DATE_KNOWN DATE_DETECTED  \\\n113       01-Jan-14  01-Jan-14     NaN  01-Jan-14     01-Jan-14   \n114       01-Jan-14  31-Dec-13     NaN        NaN     01-Jan-14   \n115       01-Jan-14  01-Jan-14     NaN        NaN     01-Jan-14   \n116       01-Jan-14  01-Jan-14     NaN        NaN     01-Jan-14   \n117       01-Jan-14  31-Dec-13     NaN        NaN     01-Jan-14   \n...             ...        ...     ...        ...           ...   \n3000515   31-Dec-21  31-Dec-21     NaN  31-Dec-21     31-Dec-21   \n3000516   31-Dec-21  24-Dec-21     NaN  24-Dec-21     31-Dec-21   \n3000518   24-Jan-22  31-Dec-21     NaN  24-Jan-22     31-Dec-21   \n3000520   31-Dec-21  24-Dec-21     NaN  24-Dec-21     31-Dec-21   \n3000521   31-Dec-21  31-Dec-21     NaN  31-Dec-21     31-Dec-21   \n\n         DIVISION_CODE  COUNCIL_AREA_CODE     BEAT  \\\n113                  2        Dundee City  Central   \n114                  2    Perth & Kinross  Western   \n115                  2        Dundee City  Central   \n116                  2              Angus  Eastern   \n117                  2        Dundee City  Central   \n...                ...                ...      ...   \n3000515              1      Aberdeenshire      S3A   \n3000516             10  North Lanarkshire     NE59   \n3000518              1      Aberdeenshire      S2F   \n3000520             10  North Lanarkshire     NE59   \n3000521             10  South Lanarkshire     QC55   \n\n                                          STATS_CLASS_CODE  GROUP  \n113                                    Breach of the peace    6.0  \n114                                    Breach of the peace    6.0  \n115                                    Breach of the peace    6.0  \n116                                    Breach of the peace    6.0  \n117                                    Breach of the peace    6.0  \n...                                                    ...    ...  \n3000515  Construction & Use Regulations Other Than Ligh...    7.0  \n3000516  Construction & Use Regulations Other Than Ligh...    7.0  \n3000518  Construction & Use Regulations Other Than Ligh...    7.0  \n3000520                                 Seat Belt Offences    7.0  \n3000521                                 Seat Belt Offences    7.0  \n\n[1374111 rows x 10 columns]",
      "text/html": "<div>\n<style scoped>\n    .dataframe tbody tr th:only-of-type {\n        vertical-align: middle;\n    }\n\n    .dataframe tbody tr th {\n        vertical-align: top;\n    }\n\n    .dataframe thead th {\n        text-align: right;\n    }\n</style>\n<table border=\"1\" class=\"dataframe\">\n  <thead>\n    <tr style=\"text-align: right;\">\n      <th></th>\n      <th>DATE_RAISED</th>\n      <th>DATE_FROM</th>\n      <th>DATE_TO</th>\n      <th>DATE_KNOWN</th>\n      <th>DATE_DETECTED</th>\n      <th>DIVISION_CODE</th>\n      <th>COUNCIL_AREA_CODE</th>\n      <th>BEAT</th>\n      <th>STATS_CLASS_CODE</th>\n      <th>GROUP</th>\n    </tr>\n  </thead>\n  <tbody>\n    <tr>\n      <th>113</th>\n      <td>01-Jan-14</td>\n      <td>01-Jan-14</td>\n      <td>NaN</td>\n      <td>01-Jan-14</td>\n      <td>01-Jan-14</td>\n      <td>2</td>\n      <td>Dundee City</td>\n      <td>Central</td>\n      <td>Breach of the peace</td>\n      <td>6.0</td>\n    </tr>\n    <tr>\n      <th>114</th>\n      <td>01-Jan-14</td>\n      <td>31-Dec-13</td>\n      <td>NaN</td>\n      <td>NaN</td>\n      <td>01-Jan-14</td>\n      <td>2</td>\n      <td>Perth &amp; Kinross</td>\n      <td>Western</td>\n      <td>Breach of the peace</td>\n      <td>6.0</td>\n    </tr>\n    <tr>\n      <th>115</th>\n      <td>01-Jan-14</td>\n      <td>01-Jan-14</td>\n      <td>NaN</td>\n      <td>NaN</td>\n      <td>01-Jan-14</td>\n      <td>2</td>\n      <td>Dundee City</td>\n      <td>Central</td>\n      <td>Breach of the peace</td>\n      <td>6.0</td>\n    </tr>\n    <tr>\n      <th>116</th>\n      <td>01-Jan-14</td>\n      <td>01-Jan-14</td>\n      <td>NaN</td>\n      <td>NaN</td>\n      <td>01-Jan-14</td>\n      <td>2</td>\n      <td>Angus</td>\n      <td>Eastern</td>\n      <td>Breach of the peace</td>\n      <td>6.0</td>\n    </tr>\n    <tr>\n      <th>117</th>\n      <td>01-Jan-14</td>\n      <td>31-Dec-13</td>\n      <td>NaN</td>\n      <td>NaN</td>\n      <td>01-Jan-14</td>\n      <td>2</td>\n      <td>Dundee City</td>\n      <td>Central</td>\n      <td>Breach of the peace</td>\n      <td>6.0</td>\n    </tr>\n    <tr>\n      <th>...</th>\n      <td>...</td>\n      <td>...</td>\n      <td>...</td>\n      <td>...</td>\n      <td>...</td>\n      <td>...</td>\n      <td>...</td>\n      <td>...</td>\n      <td>...</td>\n      <td>...</td>\n    </tr>\n    <tr>\n      <th>3000515</th>\n      <td>31-Dec-21</td>\n      <td>31-Dec-21</td>\n      <td>NaN</td>\n      <td>31-Dec-21</td>\n      <td>31-Dec-21</td>\n      <td>1</td>\n      <td>Aberdeenshire</td>\n      <td>S3A</td>\n      <td>Construction &amp; Use Regulations Other Than Ligh...</td>\n      <td>7.0</td>\n    </tr>\n    <tr>\n      <th>3000516</th>\n      <td>31-Dec-21</td>\n      <td>24-Dec-21</td>\n      <td>NaN</td>\n      <td>24-Dec-21</td>\n      <td>31-Dec-21</td>\n      <td>10</td>\n      <td>North Lanarkshire</td>\n      <td>NE59</td>\n      <td>Construction &amp; Use Regulations Other Than Ligh...</td>\n      <td>7.0</td>\n    </tr>\n    <tr>\n      <th>3000518</th>\n      <td>24-Jan-22</td>\n      <td>31-Dec-21</td>\n      <td>NaN</td>\n      <td>24-Jan-22</td>\n      <td>31-Dec-21</td>\n      <td>1</td>\n      <td>Aberdeenshire</td>\n      <td>S2F</td>\n      <td>Construction &amp; Use Regulations Other Than Ligh...</td>\n      <td>7.0</td>\n    </tr>\n    <tr>\n      <th>3000520</th>\n      <td>31-Dec-21</td>\n      <td>24-Dec-21</td>\n      <td>NaN</td>\n      <td>24-Dec-21</td>\n      <td>31-Dec-21</td>\n      <td>10</td>\n      <td>North Lanarkshire</td>\n      <td>NE59</td>\n      <td>Seat Belt Offences</td>\n      <td>7.0</td>\n    </tr>\n    <tr>\n      <th>3000521</th>\n      <td>31-Dec-21</td>\n      <td>31-Dec-21</td>\n      <td>NaN</td>\n      <td>31-Dec-21</td>\n      <td>31-Dec-21</td>\n      <td>10</td>\n      <td>South Lanarkshire</td>\n      <td>QC55</td>\n      <td>Seat Belt Offences</td>\n      <td>7.0</td>\n    </tr>\n  </tbody>\n</table>\n<p>1374111 rows × 10 columns</p>\n</div>"
     },
     "execution_count": 39,
     "metadata": {},
     "output_type": "execute_result"
    }
   ],
   "source": [
    "# Partial Range\n",
    "df[df['DATE_TO'].isna() ^ df['DATE_FROM'].isna()]"
   ],
   "metadata": {
    "collapsed": false,
    "pycharm": {
     "name": "#%%\n"
    }
   }
  },
  {
   "cell_type": "code",
   "execution_count": 40,
   "metadata": {
    "pycharm": {
     "name": "#%%\n"
    }
   },
   "outputs": [],
   "source": [
    "# Fix Missing Values in Dates\n",
    "\n",
    "# Missing To and From (Known Date)\n",
    "vals = df.loc[df.DATE_TO.isna() & df.DATE_FROM.isna() & df.DATE_KNOWN.notna()].DATE_RAISED\n",
    "df.loc[df.DATE_FROM.isna() & df.DATE_TO.isna() & df.DATE_KNOWN.notna(), ['DATE_FROM', 'DATE_TO']] = vals\n",
    "\n",
    "# Missing Date From\n",
    "df.loc[df.DATE_FROM.isna() & df.DATE_TO.notna(), 'DATE_FROM'] = df.loc[df.DATE_FROM.isna() & df.DATE_TO.notna()].DATE_TO\n",
    "\n",
    "# Missing Date To\n",
    "df.loc[df.DATE_FROM.notna() & df.DATE_TO.isna(), 'DATE_TO'] = df.loc[df.DATE_FROM.notna() & df.DATE_TO.isna()].DATE_FROM"
   ]
  },
  {
   "cell_type": "code",
   "execution_count": 41,
   "metadata": {
    "pycharm": {
     "name": "#%%\n"
    }
   },
   "outputs": [
    {
     "data": {
      "text/plain": "DATE_RAISED               0\nDATE_FROM            172164\nDATE_TO              172164\nDATE_KNOWN           908027\nDATE_DETECTED             0\nDIVISION_CODE             0\nCOUNCIL_AREA_CODE         0\nBEAT                      0\nSTATS_CLASS_CODE          0\nGROUP                     0\ndtype: int64"
     },
     "execution_count": 41,
     "metadata": {},
     "output_type": "execute_result"
    }
   ],
   "source": [
    "# Check for Missing Values\n",
    "df.isna().sum()"
   ]
  },
  {
   "cell_type": "code",
   "execution_count": 42,
   "metadata": {
    "pycharm": {
     "name": "#%%\n"
    }
   },
   "outputs": [],
   "source": [
    "# Remove Unwanted Rows\n",
    "df = df[['DATE_RAISED', 'DATE_FROM', 'DATE_TO', 'DATE_DETECTED', 'DIVISION_CODE', 'COUNCIL_AREA_CODE', 'BEAT', 'STATS_CLASS_CODE', 'GROUP']]"
   ]
  },
  {
   "cell_type": "code",
   "execution_count": 43,
   "outputs": [
    {
     "data": {
      "text/plain": "        DATE_RAISED  DATE_FROM    DATE_TO DATE_DETECTED  DIVISION_CODE  \\\n0         01-Jan-14  01-Jan-14  01-Jan-14     01-Jan-14              1   \n1         01-Jan-14  01-Jan-14  01-Jan-14     01-Jan-14              1   \n2         31-Dec-13  31-Dec-13  31-Dec-13     01-Jan-14              1   \n3         01-Jan-14  01-Jan-14  01-Jan-14     01-Jan-14              1   \n4         01-Jan-14  01-Jan-14  01-Jan-14     01-Jan-14              1   \n...             ...        ...        ...           ...            ...   \n3000564   30-Dec-21        NaN        NaN     31-Dec-21              3   \n3000565   30-Dec-21        NaN        NaN     31-Dec-21              3   \n3000566   31-Dec-21        NaN        NaN     31-Dec-21              3   \n3000567   31-Dec-21        NaN        NaN     31-Dec-21              3   \n3000568   31-Dec-21        NaN        NaN     31-Dec-21              3   \n\n        COUNCIL_AREA_CODE  BEAT  \\\n0           Aberdeen City  AS2B   \n1           Aberdeen City  AN3B   \n2           Aberdeen City  AN7A   \n3           Aberdeenshire   S1A   \n4           Aberdeen City  AN3A   \n...                   ...   ...   \n3000564          Highland   408   \n3000565          Highland   408   \n3000566          Highland    67   \n3000567          Highland    34   \n3000568          Highland    75   \n\n                                          STATS_CLASS_CODE  GROUP  \n0                                          Serious Assault    1.0  \n1                                          Serious Assault    1.0  \n2                                          Serious Assault    1.0  \n3        Housebreaking with intent to steal - other pro...    3.0  \n4        Theft of motor vehicle & contents incl. taking...    3.0  \n...                                                    ...    ...  \n3000564                   Lighting offences, motor vehicle    7.0  \n3000565                   Lighting offences, motor vehicle    7.0  \n3000566                                 Seat Belt Offences    7.0  \n3000567                                 Seat Belt Offences    7.0  \n3000568                              Mobile Phone Offences    7.0  \n\n[2989130 rows x 9 columns]",
      "text/html": "<div>\n<style scoped>\n    .dataframe tbody tr th:only-of-type {\n        vertical-align: middle;\n    }\n\n    .dataframe tbody tr th {\n        vertical-align: top;\n    }\n\n    .dataframe thead th {\n        text-align: right;\n    }\n</style>\n<table border=\"1\" class=\"dataframe\">\n  <thead>\n    <tr style=\"text-align: right;\">\n      <th></th>\n      <th>DATE_RAISED</th>\n      <th>DATE_FROM</th>\n      <th>DATE_TO</th>\n      <th>DATE_DETECTED</th>\n      <th>DIVISION_CODE</th>\n      <th>COUNCIL_AREA_CODE</th>\n      <th>BEAT</th>\n      <th>STATS_CLASS_CODE</th>\n      <th>GROUP</th>\n    </tr>\n  </thead>\n  <tbody>\n    <tr>\n      <th>0</th>\n      <td>01-Jan-14</td>\n      <td>01-Jan-14</td>\n      <td>01-Jan-14</td>\n      <td>01-Jan-14</td>\n      <td>1</td>\n      <td>Aberdeen City</td>\n      <td>AS2B</td>\n      <td>Serious Assault</td>\n      <td>1.0</td>\n    </tr>\n    <tr>\n      <th>1</th>\n      <td>01-Jan-14</td>\n      <td>01-Jan-14</td>\n      <td>01-Jan-14</td>\n      <td>01-Jan-14</td>\n      <td>1</td>\n      <td>Aberdeen City</td>\n      <td>AN3B</td>\n      <td>Serious Assault</td>\n      <td>1.0</td>\n    </tr>\n    <tr>\n      <th>2</th>\n      <td>31-Dec-13</td>\n      <td>31-Dec-13</td>\n      <td>31-Dec-13</td>\n      <td>01-Jan-14</td>\n      <td>1</td>\n      <td>Aberdeen City</td>\n      <td>AN7A</td>\n      <td>Serious Assault</td>\n      <td>1.0</td>\n    </tr>\n    <tr>\n      <th>3</th>\n      <td>01-Jan-14</td>\n      <td>01-Jan-14</td>\n      <td>01-Jan-14</td>\n      <td>01-Jan-14</td>\n      <td>1</td>\n      <td>Aberdeenshire</td>\n      <td>S1A</td>\n      <td>Housebreaking with intent to steal - other pro...</td>\n      <td>3.0</td>\n    </tr>\n    <tr>\n      <th>4</th>\n      <td>01-Jan-14</td>\n      <td>01-Jan-14</td>\n      <td>01-Jan-14</td>\n      <td>01-Jan-14</td>\n      <td>1</td>\n      <td>Aberdeen City</td>\n      <td>AN3A</td>\n      <td>Theft of motor vehicle &amp; contents incl. taking...</td>\n      <td>3.0</td>\n    </tr>\n    <tr>\n      <th>...</th>\n      <td>...</td>\n      <td>...</td>\n      <td>...</td>\n      <td>...</td>\n      <td>...</td>\n      <td>...</td>\n      <td>...</td>\n      <td>...</td>\n      <td>...</td>\n    </tr>\n    <tr>\n      <th>3000564</th>\n      <td>30-Dec-21</td>\n      <td>NaN</td>\n      <td>NaN</td>\n      <td>31-Dec-21</td>\n      <td>3</td>\n      <td>Highland</td>\n      <td>408</td>\n      <td>Lighting offences, motor vehicle</td>\n      <td>7.0</td>\n    </tr>\n    <tr>\n      <th>3000565</th>\n      <td>30-Dec-21</td>\n      <td>NaN</td>\n      <td>NaN</td>\n      <td>31-Dec-21</td>\n      <td>3</td>\n      <td>Highland</td>\n      <td>408</td>\n      <td>Lighting offences, motor vehicle</td>\n      <td>7.0</td>\n    </tr>\n    <tr>\n      <th>3000566</th>\n      <td>31-Dec-21</td>\n      <td>NaN</td>\n      <td>NaN</td>\n      <td>31-Dec-21</td>\n      <td>3</td>\n      <td>Highland</td>\n      <td>67</td>\n      <td>Seat Belt Offences</td>\n      <td>7.0</td>\n    </tr>\n    <tr>\n      <th>3000567</th>\n      <td>31-Dec-21</td>\n      <td>NaN</td>\n      <td>NaN</td>\n      <td>31-Dec-21</td>\n      <td>3</td>\n      <td>Highland</td>\n      <td>34</td>\n      <td>Seat Belt Offences</td>\n      <td>7.0</td>\n    </tr>\n    <tr>\n      <th>3000568</th>\n      <td>31-Dec-21</td>\n      <td>NaN</td>\n      <td>NaN</td>\n      <td>31-Dec-21</td>\n      <td>3</td>\n      <td>Highland</td>\n      <td>75</td>\n      <td>Mobile Phone Offences</td>\n      <td>7.0</td>\n    </tr>\n  </tbody>\n</table>\n<p>2989130 rows × 9 columns</p>\n</div>"
     },
     "execution_count": 43,
     "metadata": {},
     "output_type": "execute_result"
    }
   ],
   "source": [
    "df"
   ],
   "metadata": {
    "collapsed": false,
    "pycharm": {
     "name": "#%%\n"
    }
   }
  },
  {
   "cell_type": "code",
   "execution_count": 44,
   "metadata": {
    "pycharm": {
     "name": "#%%\n"
    }
   },
   "outputs": [
    {
     "data": {
      "text/plain": "         DATE_RAISED  DATE_FROM    DATE_TO DATE_DETECTED  DIVISION_CODE  \\\n0        01-Jan-2014  01-Jan-14  01-Jan-14   01-Jan-2014              1   \n1        01-Jan-2014  01-Jan-14  01-Jan-14   01-Jan-2014              1   \n2        31-Dec-2013  31-Dec-13  31-Dec-13   01-Jan-2014              1   \n3        01-Jan-2014  01-Jan-14  01-Jan-14   01-Jan-2014              1   \n4        01-Jan-2014  01-Jan-14  01-Jan-14   01-Jan-2014              1   \n...              ...        ...        ...           ...            ...   \n3000564  30-Dec-2021        NaN        NaN   31-Dec-2021              3   \n3000565  30-Dec-2021        NaN        NaN   31-Dec-2021              3   \n3000566  31-Dec-2021        NaN        NaN   31-Dec-2021              3   \n3000567  31-Dec-2021        NaN        NaN   31-Dec-2021              3   \n3000568  31-Dec-2021        NaN        NaN   31-Dec-2021              3   \n\n        COUNCIL_AREA_CODE  BEAT  \\\n0           Aberdeen City  AS2B   \n1           Aberdeen City  AN3B   \n2           Aberdeen City  AN7A   \n3           Aberdeenshire   S1A   \n4           Aberdeen City  AN3A   \n...                   ...   ...   \n3000564          Highland   408   \n3000565          Highland   408   \n3000566          Highland    67   \n3000567          Highland    34   \n3000568          Highland    75   \n\n                                          STATS_CLASS_CODE  GROUP  \n0                                          Serious Assault    1.0  \n1                                          Serious Assault    1.0  \n2                                          Serious Assault    1.0  \n3        Housebreaking with intent to steal - other pro...    3.0  \n4        Theft of motor vehicle & contents incl. taking...    3.0  \n...                                                    ...    ...  \n3000564                   Lighting offences, motor vehicle    7.0  \n3000565                   Lighting offences, motor vehicle    7.0  \n3000566                                 Seat Belt Offences    7.0  \n3000567                                 Seat Belt Offences    7.0  \n3000568                              Mobile Phone Offences    7.0  \n\n[2989130 rows x 9 columns]",
      "text/html": "<div>\n<style scoped>\n    .dataframe tbody tr th:only-of-type {\n        vertical-align: middle;\n    }\n\n    .dataframe tbody tr th {\n        vertical-align: top;\n    }\n\n    .dataframe thead th {\n        text-align: right;\n    }\n</style>\n<table border=\"1\" class=\"dataframe\">\n  <thead>\n    <tr style=\"text-align: right;\">\n      <th></th>\n      <th>DATE_RAISED</th>\n      <th>DATE_FROM</th>\n      <th>DATE_TO</th>\n      <th>DATE_DETECTED</th>\n      <th>DIVISION_CODE</th>\n      <th>COUNCIL_AREA_CODE</th>\n      <th>BEAT</th>\n      <th>STATS_CLASS_CODE</th>\n      <th>GROUP</th>\n    </tr>\n  </thead>\n  <tbody>\n    <tr>\n      <th>0</th>\n      <td>01-Jan-2014</td>\n      <td>01-Jan-14</td>\n      <td>01-Jan-14</td>\n      <td>01-Jan-2014</td>\n      <td>1</td>\n      <td>Aberdeen City</td>\n      <td>AS2B</td>\n      <td>Serious Assault</td>\n      <td>1.0</td>\n    </tr>\n    <tr>\n      <th>1</th>\n      <td>01-Jan-2014</td>\n      <td>01-Jan-14</td>\n      <td>01-Jan-14</td>\n      <td>01-Jan-2014</td>\n      <td>1</td>\n      <td>Aberdeen City</td>\n      <td>AN3B</td>\n      <td>Serious Assault</td>\n      <td>1.0</td>\n    </tr>\n    <tr>\n      <th>2</th>\n      <td>31-Dec-2013</td>\n      <td>31-Dec-13</td>\n      <td>31-Dec-13</td>\n      <td>01-Jan-2014</td>\n      <td>1</td>\n      <td>Aberdeen City</td>\n      <td>AN7A</td>\n      <td>Serious Assault</td>\n      <td>1.0</td>\n    </tr>\n    <tr>\n      <th>3</th>\n      <td>01-Jan-2014</td>\n      <td>01-Jan-14</td>\n      <td>01-Jan-14</td>\n      <td>01-Jan-2014</td>\n      <td>1</td>\n      <td>Aberdeenshire</td>\n      <td>S1A</td>\n      <td>Housebreaking with intent to steal - other pro...</td>\n      <td>3.0</td>\n    </tr>\n    <tr>\n      <th>4</th>\n      <td>01-Jan-2014</td>\n      <td>01-Jan-14</td>\n      <td>01-Jan-14</td>\n      <td>01-Jan-2014</td>\n      <td>1</td>\n      <td>Aberdeen City</td>\n      <td>AN3A</td>\n      <td>Theft of motor vehicle &amp; contents incl. taking...</td>\n      <td>3.0</td>\n    </tr>\n    <tr>\n      <th>...</th>\n      <td>...</td>\n      <td>...</td>\n      <td>...</td>\n      <td>...</td>\n      <td>...</td>\n      <td>...</td>\n      <td>...</td>\n      <td>...</td>\n      <td>...</td>\n    </tr>\n    <tr>\n      <th>3000564</th>\n      <td>30-Dec-2021</td>\n      <td>NaN</td>\n      <td>NaN</td>\n      <td>31-Dec-2021</td>\n      <td>3</td>\n      <td>Highland</td>\n      <td>408</td>\n      <td>Lighting offences, motor vehicle</td>\n      <td>7.0</td>\n    </tr>\n    <tr>\n      <th>3000565</th>\n      <td>30-Dec-2021</td>\n      <td>NaN</td>\n      <td>NaN</td>\n      <td>31-Dec-2021</td>\n      <td>3</td>\n      <td>Highland</td>\n      <td>408</td>\n      <td>Lighting offences, motor vehicle</td>\n      <td>7.0</td>\n    </tr>\n    <tr>\n      <th>3000566</th>\n      <td>31-Dec-2021</td>\n      <td>NaN</td>\n      <td>NaN</td>\n      <td>31-Dec-2021</td>\n      <td>3</td>\n      <td>Highland</td>\n      <td>67</td>\n      <td>Seat Belt Offences</td>\n      <td>7.0</td>\n    </tr>\n    <tr>\n      <th>3000567</th>\n      <td>31-Dec-2021</td>\n      <td>NaN</td>\n      <td>NaN</td>\n      <td>31-Dec-2021</td>\n      <td>3</td>\n      <td>Highland</td>\n      <td>34</td>\n      <td>Seat Belt Offences</td>\n      <td>7.0</td>\n    </tr>\n    <tr>\n      <th>3000568</th>\n      <td>31-Dec-2021</td>\n      <td>NaN</td>\n      <td>NaN</td>\n      <td>31-Dec-2021</td>\n      <td>3</td>\n      <td>Highland</td>\n      <td>75</td>\n      <td>Mobile Phone Offences</td>\n      <td>7.0</td>\n    </tr>\n  </tbody>\n</table>\n<p>2989130 rows × 9 columns</p>\n</div>"
     },
     "execution_count": 44,
     "metadata": {},
     "output_type": "execute_result"
    }
   ],
   "source": [
    "# Fix Date Formatting\n",
    "cols = ['DATE_RAISED', 'DATE_DETECTED']\n",
    "\n",
    "for col in cols:\n",
    "    df[col] = np.where(df[col].str[-2:].astype(int) > 22, df[col].str[:-2] + \"19\" + df[col].str[-2:], df[col])\n",
    "    df[col] = np.where(df[col].str[-2:].astype(int) <= 22, df[col].str[:-2] + \"20\" + df[col].str[-2:], df[col])\n",
    "\n",
    "df"
   ]
  },
  {
   "cell_type": "markdown",
   "source": [
    "## Extract Target Variable"
   ],
   "metadata": {
    "collapsed": false
   }
  },
  {
   "cell_type": "code",
   "execution_count": 45,
   "metadata": {
    "pycharm": {
     "name": "#%%\n"
    }
   },
   "outputs": [
    {
     "data": {
      "text/plain": "        DATE_RAISED  DATE_FROM    DATE_TO DATE_DETECTED  DIVISION_CODE  \\\n0        2014-01-01  01-Jan-14  01-Jan-14    2014-01-01              1   \n1        2014-01-01  01-Jan-14  01-Jan-14    2014-01-01              1   \n2        2013-12-31  31-Dec-13  31-Dec-13    2014-01-01              1   \n3        2014-01-01  01-Jan-14  01-Jan-14    2014-01-01              1   \n4        2014-01-01  01-Jan-14  01-Jan-14    2014-01-01              1   \n...             ...        ...        ...           ...            ...   \n3000564  2021-12-30        NaN        NaN    2021-12-31              3   \n3000565  2021-12-30        NaN        NaN    2021-12-31              3   \n3000566  2021-12-31        NaN        NaN    2021-12-31              3   \n3000567  2021-12-31        NaN        NaN    2021-12-31              3   \n3000568  2021-12-31        NaN        NaN    2021-12-31              3   \n\n        COUNCIL_AREA_CODE  BEAT  \\\n0           Aberdeen City  AS2B   \n1           Aberdeen City  AN3B   \n2           Aberdeen City  AN7A   \n3           Aberdeenshire   S1A   \n4           Aberdeen City  AN3A   \n...                   ...   ...   \n3000564          Highland   408   \n3000565          Highland   408   \n3000566          Highland    67   \n3000567          Highland    34   \n3000568          Highland    75   \n\n                                          STATS_CLASS_CODE  GROUP  \\\n0                                          Serious Assault    1.0   \n1                                          Serious Assault    1.0   \n2                                          Serious Assault    1.0   \n3        Housebreaking with intent to steal - other pro...    3.0   \n4        Theft of motor vehicle & contents incl. taking...    3.0   \n...                                                    ...    ...   \n3000564                   Lighting offences, motor vehicle    7.0   \n3000565                   Lighting offences, motor vehicle    7.0   \n3000566                                 Seat Belt Offences    7.0   \n3000567                                 Seat Belt Offences    7.0   \n3000568                              Mobile Phone Offences    7.0   \n\n         INVESTIGATION_DURATION  \n0                             0  \n1                             0  \n2                             1  \n3                             0  \n4                             0  \n...                         ...  \n3000564                       1  \n3000565                       1  \n3000566                       0  \n3000567                       0  \n3000568                       0  \n\n[2989130 rows x 10 columns]",
      "text/html": "<div>\n<style scoped>\n    .dataframe tbody tr th:only-of-type {\n        vertical-align: middle;\n    }\n\n    .dataframe tbody tr th {\n        vertical-align: top;\n    }\n\n    .dataframe thead th {\n        text-align: right;\n    }\n</style>\n<table border=\"1\" class=\"dataframe\">\n  <thead>\n    <tr style=\"text-align: right;\">\n      <th></th>\n      <th>DATE_RAISED</th>\n      <th>DATE_FROM</th>\n      <th>DATE_TO</th>\n      <th>DATE_DETECTED</th>\n      <th>DIVISION_CODE</th>\n      <th>COUNCIL_AREA_CODE</th>\n      <th>BEAT</th>\n      <th>STATS_CLASS_CODE</th>\n      <th>GROUP</th>\n      <th>INVESTIGATION_DURATION</th>\n    </tr>\n  </thead>\n  <tbody>\n    <tr>\n      <th>0</th>\n      <td>2014-01-01</td>\n      <td>01-Jan-14</td>\n      <td>01-Jan-14</td>\n      <td>2014-01-01</td>\n      <td>1</td>\n      <td>Aberdeen City</td>\n      <td>AS2B</td>\n      <td>Serious Assault</td>\n      <td>1.0</td>\n      <td>0</td>\n    </tr>\n    <tr>\n      <th>1</th>\n      <td>2014-01-01</td>\n      <td>01-Jan-14</td>\n      <td>01-Jan-14</td>\n      <td>2014-01-01</td>\n      <td>1</td>\n      <td>Aberdeen City</td>\n      <td>AN3B</td>\n      <td>Serious Assault</td>\n      <td>1.0</td>\n      <td>0</td>\n    </tr>\n    <tr>\n      <th>2</th>\n      <td>2013-12-31</td>\n      <td>31-Dec-13</td>\n      <td>31-Dec-13</td>\n      <td>2014-01-01</td>\n      <td>1</td>\n      <td>Aberdeen City</td>\n      <td>AN7A</td>\n      <td>Serious Assault</td>\n      <td>1.0</td>\n      <td>1</td>\n    </tr>\n    <tr>\n      <th>3</th>\n      <td>2014-01-01</td>\n      <td>01-Jan-14</td>\n      <td>01-Jan-14</td>\n      <td>2014-01-01</td>\n      <td>1</td>\n      <td>Aberdeenshire</td>\n      <td>S1A</td>\n      <td>Housebreaking with intent to steal - other pro...</td>\n      <td>3.0</td>\n      <td>0</td>\n    </tr>\n    <tr>\n      <th>4</th>\n      <td>2014-01-01</td>\n      <td>01-Jan-14</td>\n      <td>01-Jan-14</td>\n      <td>2014-01-01</td>\n      <td>1</td>\n      <td>Aberdeen City</td>\n      <td>AN3A</td>\n      <td>Theft of motor vehicle &amp; contents incl. taking...</td>\n      <td>3.0</td>\n      <td>0</td>\n    </tr>\n    <tr>\n      <th>...</th>\n      <td>...</td>\n      <td>...</td>\n      <td>...</td>\n      <td>...</td>\n      <td>...</td>\n      <td>...</td>\n      <td>...</td>\n      <td>...</td>\n      <td>...</td>\n      <td>...</td>\n    </tr>\n    <tr>\n      <th>3000564</th>\n      <td>2021-12-30</td>\n      <td>NaN</td>\n      <td>NaN</td>\n      <td>2021-12-31</td>\n      <td>3</td>\n      <td>Highland</td>\n      <td>408</td>\n      <td>Lighting offences, motor vehicle</td>\n      <td>7.0</td>\n      <td>1</td>\n    </tr>\n    <tr>\n      <th>3000565</th>\n      <td>2021-12-30</td>\n      <td>NaN</td>\n      <td>NaN</td>\n      <td>2021-12-31</td>\n      <td>3</td>\n      <td>Highland</td>\n      <td>408</td>\n      <td>Lighting offences, motor vehicle</td>\n      <td>7.0</td>\n      <td>1</td>\n    </tr>\n    <tr>\n      <th>3000566</th>\n      <td>2021-12-31</td>\n      <td>NaN</td>\n      <td>NaN</td>\n      <td>2021-12-31</td>\n      <td>3</td>\n      <td>Highland</td>\n      <td>67</td>\n      <td>Seat Belt Offences</td>\n      <td>7.0</td>\n      <td>0</td>\n    </tr>\n    <tr>\n      <th>3000567</th>\n      <td>2021-12-31</td>\n      <td>NaN</td>\n      <td>NaN</td>\n      <td>2021-12-31</td>\n      <td>3</td>\n      <td>Highland</td>\n      <td>34</td>\n      <td>Seat Belt Offences</td>\n      <td>7.0</td>\n      <td>0</td>\n    </tr>\n    <tr>\n      <th>3000568</th>\n      <td>2021-12-31</td>\n      <td>NaN</td>\n      <td>NaN</td>\n      <td>2021-12-31</td>\n      <td>3</td>\n      <td>Highland</td>\n      <td>75</td>\n      <td>Mobile Phone Offences</td>\n      <td>7.0</td>\n      <td>0</td>\n    </tr>\n  </tbody>\n</table>\n<p>2989130 rows × 10 columns</p>\n</div>"
     },
     "execution_count": 45,
     "metadata": {},
     "output_type": "execute_result"
    }
   ],
   "source": [
    "# Calculate time between Report Date and Detect Date\n",
    "df[['DATE_DETECTED', 'DATE_RAISED']] = df[['DATE_DETECTED', 'DATE_RAISED']].apply(pd.to_datetime)\n",
    "df[\"INVESTIGATION_DURATION\"] = (df['DATE_DETECTED'] - df['DATE_RAISED']).dt.days\n",
    "\n",
    "df"
   ]
  },
  {
   "cell_type": "code",
   "execution_count": null,
   "outputs": [],
   "source": [
    "# Number of Negative Duration\n",
    "len(df[df['INVESTIGATION_DURATION'] < 0])"
   ],
   "metadata": {
    "collapsed": false,
    "pycharm": {
     "name": "#%%\n"
    }
   }
  },
  {
   "cell_type": "code",
   "execution_count": null,
   "outputs": [],
   "source": [
    "# Remove Rows with Negative Duration\n",
    "df = df[df['INVESTIGATION_DURATION'] >= 0]"
   ],
   "metadata": {
    "collapsed": false,
    "pycharm": {
     "name": "#%%\n"
    }
   }
  },
  {
   "cell_type": "code",
   "execution_count": null,
   "outputs": [],
   "source": [
    "# Cases with More than 365 Days\n",
    "len(df[df['INVESTIGATION_DURATION'] > 365])"
   ],
   "metadata": {
    "collapsed": false,
    "pycharm": {
     "name": "#%%\n"
    }
   }
  },
  {
   "cell_type": "code",
   "execution_count": 48,
   "outputs": [
    {
     "data": {
      "text/plain": "        DATE_RAISED  DATE_FROM    DATE_TO DATE_DETECTED  DIVISION_CODE  \\\n0        2014-01-01  01-Jan-14  01-Jan-14    2014-01-01              1   \n1        2014-01-01  01-Jan-14  01-Jan-14    2014-01-01              1   \n2        2013-12-31  31-Dec-13  31-Dec-13    2014-01-01              1   \n3        2014-01-01  01-Jan-14  01-Jan-14    2014-01-01              1   \n4        2014-01-01  01-Jan-14  01-Jan-14    2014-01-01              1   \n...             ...        ...        ...           ...            ...   \n3000564  2021-12-30        NaN        NaN    2021-12-31              3   \n3000565  2021-12-30        NaN        NaN    2021-12-31              3   \n3000566  2021-12-31        NaN        NaN    2021-12-31              3   \n3000567  2021-12-31        NaN        NaN    2021-12-31              3   \n3000568  2021-12-31        NaN        NaN    2021-12-31              3   \n\n        COUNCIL_AREA_CODE  BEAT  \\\n0           Aberdeen City  AS2B   \n1           Aberdeen City  AN3B   \n2           Aberdeen City  AN7A   \n3           Aberdeenshire   S1A   \n4           Aberdeen City  AN3A   \n...                   ...   ...   \n3000564          Highland   408   \n3000565          Highland   408   \n3000566          Highland    67   \n3000567          Highland    34   \n3000568          Highland    75   \n\n                                          STATS_CLASS_CODE  GROUP  \\\n0                                          Serious Assault    1.0   \n1                                          Serious Assault    1.0   \n2                                          Serious Assault    1.0   \n3        Housebreaking with intent to steal - other pro...    3.0   \n4        Theft of motor vehicle & contents incl. taking...    3.0   \n...                                                    ...    ...   \n3000564                   Lighting offences, motor vehicle    7.0   \n3000565                   Lighting offences, motor vehicle    7.0   \n3000566                                 Seat Belt Offences    7.0   \n3000567                                 Seat Belt Offences    7.0   \n3000568                              Mobile Phone Offences    7.0   \n\n         INVESTIGATION_DURATION  BIN_CLASS  \n0                             0          0  \n1                             0          0  \n2                             1          1  \n3                             0          0  \n4                             0          0  \n...                         ...        ...  \n3000564                       1          1  \n3000565                       1          1  \n3000566                       0          0  \n3000567                       0          0  \n3000568                       0          0  \n\n[2798128 rows x 11 columns]",
      "text/html": "<div>\n<style scoped>\n    .dataframe tbody tr th:only-of-type {\n        vertical-align: middle;\n    }\n\n    .dataframe tbody tr th {\n        vertical-align: top;\n    }\n\n    .dataframe thead th {\n        text-align: right;\n    }\n</style>\n<table border=\"1\" class=\"dataframe\">\n  <thead>\n    <tr style=\"text-align: right;\">\n      <th></th>\n      <th>DATE_RAISED</th>\n      <th>DATE_FROM</th>\n      <th>DATE_TO</th>\n      <th>DATE_DETECTED</th>\n      <th>DIVISION_CODE</th>\n      <th>COUNCIL_AREA_CODE</th>\n      <th>BEAT</th>\n      <th>STATS_CLASS_CODE</th>\n      <th>GROUP</th>\n      <th>INVESTIGATION_DURATION</th>\n      <th>BIN_CLASS</th>\n    </tr>\n  </thead>\n  <tbody>\n    <tr>\n      <th>0</th>\n      <td>2014-01-01</td>\n      <td>01-Jan-14</td>\n      <td>01-Jan-14</td>\n      <td>2014-01-01</td>\n      <td>1</td>\n      <td>Aberdeen City</td>\n      <td>AS2B</td>\n      <td>Serious Assault</td>\n      <td>1.0</td>\n      <td>0</td>\n      <td>0</td>\n    </tr>\n    <tr>\n      <th>1</th>\n      <td>2014-01-01</td>\n      <td>01-Jan-14</td>\n      <td>01-Jan-14</td>\n      <td>2014-01-01</td>\n      <td>1</td>\n      <td>Aberdeen City</td>\n      <td>AN3B</td>\n      <td>Serious Assault</td>\n      <td>1.0</td>\n      <td>0</td>\n      <td>0</td>\n    </tr>\n    <tr>\n      <th>2</th>\n      <td>2013-12-31</td>\n      <td>31-Dec-13</td>\n      <td>31-Dec-13</td>\n      <td>2014-01-01</td>\n      <td>1</td>\n      <td>Aberdeen City</td>\n      <td>AN7A</td>\n      <td>Serious Assault</td>\n      <td>1.0</td>\n      <td>1</td>\n      <td>1</td>\n    </tr>\n    <tr>\n      <th>3</th>\n      <td>2014-01-01</td>\n      <td>01-Jan-14</td>\n      <td>01-Jan-14</td>\n      <td>2014-01-01</td>\n      <td>1</td>\n      <td>Aberdeenshire</td>\n      <td>S1A</td>\n      <td>Housebreaking with intent to steal - other pro...</td>\n      <td>3.0</td>\n      <td>0</td>\n      <td>0</td>\n    </tr>\n    <tr>\n      <th>4</th>\n      <td>2014-01-01</td>\n      <td>01-Jan-14</td>\n      <td>01-Jan-14</td>\n      <td>2014-01-01</td>\n      <td>1</td>\n      <td>Aberdeen City</td>\n      <td>AN3A</td>\n      <td>Theft of motor vehicle &amp; contents incl. taking...</td>\n      <td>3.0</td>\n      <td>0</td>\n      <td>0</td>\n    </tr>\n    <tr>\n      <th>...</th>\n      <td>...</td>\n      <td>...</td>\n      <td>...</td>\n      <td>...</td>\n      <td>...</td>\n      <td>...</td>\n      <td>...</td>\n      <td>...</td>\n      <td>...</td>\n      <td>...</td>\n      <td>...</td>\n    </tr>\n    <tr>\n      <th>3000564</th>\n      <td>2021-12-30</td>\n      <td>NaN</td>\n      <td>NaN</td>\n      <td>2021-12-31</td>\n      <td>3</td>\n      <td>Highland</td>\n      <td>408</td>\n      <td>Lighting offences, motor vehicle</td>\n      <td>7.0</td>\n      <td>1</td>\n      <td>1</td>\n    </tr>\n    <tr>\n      <th>3000565</th>\n      <td>2021-12-30</td>\n      <td>NaN</td>\n      <td>NaN</td>\n      <td>2021-12-31</td>\n      <td>3</td>\n      <td>Highland</td>\n      <td>408</td>\n      <td>Lighting offences, motor vehicle</td>\n      <td>7.0</td>\n      <td>1</td>\n      <td>1</td>\n    </tr>\n    <tr>\n      <th>3000566</th>\n      <td>2021-12-31</td>\n      <td>NaN</td>\n      <td>NaN</td>\n      <td>2021-12-31</td>\n      <td>3</td>\n      <td>Highland</td>\n      <td>67</td>\n      <td>Seat Belt Offences</td>\n      <td>7.0</td>\n      <td>0</td>\n      <td>0</td>\n    </tr>\n    <tr>\n      <th>3000567</th>\n      <td>2021-12-31</td>\n      <td>NaN</td>\n      <td>NaN</td>\n      <td>2021-12-31</td>\n      <td>3</td>\n      <td>Highland</td>\n      <td>34</td>\n      <td>Seat Belt Offences</td>\n      <td>7.0</td>\n      <td>0</td>\n      <td>0</td>\n    </tr>\n    <tr>\n      <th>3000568</th>\n      <td>2021-12-31</td>\n      <td>NaN</td>\n      <td>NaN</td>\n      <td>2021-12-31</td>\n      <td>3</td>\n      <td>Highland</td>\n      <td>75</td>\n      <td>Mobile Phone Offences</td>\n      <td>7.0</td>\n      <td>0</td>\n      <td>0</td>\n    </tr>\n  </tbody>\n</table>\n<p>2798128 rows × 11 columns</p>\n</div>"
     },
     "execution_count": 48,
     "metadata": {},
     "output_type": "execute_result"
    }
   ],
   "source": [
    "# Add Field for Binary Classification\n",
    "def conv2bin(row):\n",
    "    if row['INVESTIGATION_DURATION'] > 0:\n",
    "        return 1\n",
    "    else:\n",
    "        return 0\n",
    "\n",
    "df['BIN_CLASS'] = df.apply(conv2bin, axis=1)\n",
    "df"
   ],
   "metadata": {
    "collapsed": false,
    "pycharm": {
     "name": "#%%\n"
    }
   }
  },
  {
   "cell_type": "markdown",
   "source": [
    "## Prepare for Export"
   ],
   "metadata": {
    "collapsed": false
   }
  },
  {
   "cell_type": "code",
   "execution_count": 49,
   "outputs": [
    {
     "data": {
      "text/plain": "         DIVISION_CODE COUNCIL_AREA_CODE  BEAT  \\\n0                    1     Aberdeen City  AS2B   \n1                    1     Aberdeen City  AN3B   \n2                    1     Aberdeen City  AN7A   \n3                    1     Aberdeenshire   S1A   \n4                    1     Aberdeen City  AN3A   \n...                ...               ...   ...   \n3000564              3          Highland   408   \n3000565              3          Highland   408   \n3000566              3          Highland    67   \n3000567              3          Highland    34   \n3000568              3          Highland    75   \n\n                                          STATS_CLASS_CODE  GROUP  \\\n0                                          Serious Assault    1.0   \n1                                          Serious Assault    1.0   \n2                                          Serious Assault    1.0   \n3        Housebreaking with intent to steal - other pro...    3.0   \n4        Theft of motor vehicle & contents incl. taking...    3.0   \n...                                                    ...    ...   \n3000564                   Lighting offences, motor vehicle    7.0   \n3000565                   Lighting offences, motor vehicle    7.0   \n3000566                                 Seat Belt Offences    7.0   \n3000567                                 Seat Belt Offences    7.0   \n3000568                              Mobile Phone Offences    7.0   \n\n         INVESTIGATION_DURATION  BIN_CLASS  \n0                             0          0  \n1                             0          0  \n2                             1          1  \n3                             0          0  \n4                             0          0  \n...                         ...        ...  \n3000564                       1          1  \n3000565                       1          1  \n3000566                       0          0  \n3000567                       0          0  \n3000568                       0          0  \n\n[2798128 rows x 7 columns]",
      "text/html": "<div>\n<style scoped>\n    .dataframe tbody tr th:only-of-type {\n        vertical-align: middle;\n    }\n\n    .dataframe tbody tr th {\n        vertical-align: top;\n    }\n\n    .dataframe thead th {\n        text-align: right;\n    }\n</style>\n<table border=\"1\" class=\"dataframe\">\n  <thead>\n    <tr style=\"text-align: right;\">\n      <th></th>\n      <th>DIVISION_CODE</th>\n      <th>COUNCIL_AREA_CODE</th>\n      <th>BEAT</th>\n      <th>STATS_CLASS_CODE</th>\n      <th>GROUP</th>\n      <th>INVESTIGATION_DURATION</th>\n      <th>BIN_CLASS</th>\n    </tr>\n  </thead>\n  <tbody>\n    <tr>\n      <th>0</th>\n      <td>1</td>\n      <td>Aberdeen City</td>\n      <td>AS2B</td>\n      <td>Serious Assault</td>\n      <td>1.0</td>\n      <td>0</td>\n      <td>0</td>\n    </tr>\n    <tr>\n      <th>1</th>\n      <td>1</td>\n      <td>Aberdeen City</td>\n      <td>AN3B</td>\n      <td>Serious Assault</td>\n      <td>1.0</td>\n      <td>0</td>\n      <td>0</td>\n    </tr>\n    <tr>\n      <th>2</th>\n      <td>1</td>\n      <td>Aberdeen City</td>\n      <td>AN7A</td>\n      <td>Serious Assault</td>\n      <td>1.0</td>\n      <td>1</td>\n      <td>1</td>\n    </tr>\n    <tr>\n      <th>3</th>\n      <td>1</td>\n      <td>Aberdeenshire</td>\n      <td>S1A</td>\n      <td>Housebreaking with intent to steal - other pro...</td>\n      <td>3.0</td>\n      <td>0</td>\n      <td>0</td>\n    </tr>\n    <tr>\n      <th>4</th>\n      <td>1</td>\n      <td>Aberdeen City</td>\n      <td>AN3A</td>\n      <td>Theft of motor vehicle &amp; contents incl. taking...</td>\n      <td>3.0</td>\n      <td>0</td>\n      <td>0</td>\n    </tr>\n    <tr>\n      <th>...</th>\n      <td>...</td>\n      <td>...</td>\n      <td>...</td>\n      <td>...</td>\n      <td>...</td>\n      <td>...</td>\n      <td>...</td>\n    </tr>\n    <tr>\n      <th>3000564</th>\n      <td>3</td>\n      <td>Highland</td>\n      <td>408</td>\n      <td>Lighting offences, motor vehicle</td>\n      <td>7.0</td>\n      <td>1</td>\n      <td>1</td>\n    </tr>\n    <tr>\n      <th>3000565</th>\n      <td>3</td>\n      <td>Highland</td>\n      <td>408</td>\n      <td>Lighting offences, motor vehicle</td>\n      <td>7.0</td>\n      <td>1</td>\n      <td>1</td>\n    </tr>\n    <tr>\n      <th>3000566</th>\n      <td>3</td>\n      <td>Highland</td>\n      <td>67</td>\n      <td>Seat Belt Offences</td>\n      <td>7.0</td>\n      <td>0</td>\n      <td>0</td>\n    </tr>\n    <tr>\n      <th>3000567</th>\n      <td>3</td>\n      <td>Highland</td>\n      <td>34</td>\n      <td>Seat Belt Offences</td>\n      <td>7.0</td>\n      <td>0</td>\n      <td>0</td>\n    </tr>\n    <tr>\n      <th>3000568</th>\n      <td>3</td>\n      <td>Highland</td>\n      <td>75</td>\n      <td>Mobile Phone Offences</td>\n      <td>7.0</td>\n      <td>0</td>\n      <td>0</td>\n    </tr>\n  </tbody>\n</table>\n<p>2798128 rows × 7 columns</p>\n</div>"
     },
     "execution_count": 49,
     "metadata": {},
     "output_type": "execute_result"
    }
   ],
   "source": [
    "# Remove Unwanted Columns\n",
    "expo = df[['DIVISION_CODE', 'COUNCIL_AREA_CODE', 'BEAT', 'STATS_CLASS_CODE', 'GROUP' ,'INVESTIGATION_DURATION', 'BIN_CLASS']]\n",
    "expo"
   ],
   "metadata": {
    "collapsed": false,
    "pycharm": {
     "name": "#%%\n"
    }
   }
  },
  {
   "cell_type": "code",
   "execution_count": 50,
   "outputs": [],
   "source": [
    "# Export To File\n",
    "expo.to_csv('data/sanitized_basic.csv', index=False)"
   ],
   "metadata": {
    "collapsed": false,
    "pycharm": {
     "name": "#%%\n"
    }
   }
  },
  {
   "cell_type": "markdown",
   "source": [
    "## Additional Feature Extraction"
   ],
   "metadata": {
    "collapsed": false
   }
  },
  {
   "cell_type": "code",
   "execution_count": 51,
   "outputs": [
    {
     "data": {
      "text/plain": "        DATE_RAISED  DATE_FROM    DATE_TO DATE_DETECTED  DIVISION_CODE  \\\n0        2014-01-01  01-Jan-14  01-Jan-14    2014-01-01              1   \n1        2014-01-01  01-Jan-14  01-Jan-14    2014-01-01              1   \n2        2013-12-31  31-Dec-13  31-Dec-13    2014-01-01              1   \n3        2014-01-01  01-Jan-14  01-Jan-14    2014-01-01              1   \n4        2014-01-01  01-Jan-14  01-Jan-14    2014-01-01              1   \n...             ...        ...        ...           ...            ...   \n3000521  2021-12-31  31-Dec-21  31-Dec-21    2021-12-31             10   \n3000524  2021-12-31  30-Dec-21  30-Dec-21    2021-12-31              5   \n3000525  2021-12-29  09-Nov-21  09-Nov-21    2021-12-31              1   \n3000526  2021-12-31  30-Dec-21  30-Dec-21    2021-12-31              5   \n3000527  2021-12-30  30-Dec-21  30-Dec-21    2021-12-31              1   \n\n         COUNCIL_AREA_CODE  BEAT  \\\n0            Aberdeen City  AS2B   \n1            Aberdeen City  AN3B   \n2            Aberdeen City  AN7A   \n3            Aberdeenshire   S1A   \n4            Aberdeen City  AN3A   \n...                    ...   ...   \n3000521  South Lanarkshire  QC55   \n3000524  City of Edinburgh  SE41   \n3000525      Aberdeen City  AN6C   \n3000526  City of Edinburgh  NW29   \n3000527      Aberdeen City  AN5A   \n\n                                          STATS_CLASS_CODE  GROUP  \\\n0                                          Serious Assault    1.0   \n1                                          Serious Assault    1.0   \n2                                          Serious Assault    1.0   \n3        Housebreaking with intent to steal - other pro...    3.0   \n4        Theft of motor vehicle & contents incl. taking...    3.0   \n...                                                    ...    ...   \n3000521                                 Seat Belt Offences    7.0   \n3000524                     Motor Vehicles, Other Offences    7.0   \n3000525                     Motor Vehicles, Other Offences    7.0   \n3000526                     Motor Vehicles, Other Offences    7.0   \n3000527                     Motor Vehicles, Other Offences    7.0   \n\n         INVESTIGATION_DURATION  BIN_CLASS  \n0                             0          0  \n1                             0          0  \n2                             1          1  \n3                             0          0  \n4                             0          0  \n...                         ...        ...  \n3000521                       0          0  \n3000524                       0          0  \n3000525                       2          1  \n3000526                       0          0  \n3000527                       1          1  \n\n[2625964 rows x 11 columns]",
      "text/html": "<div>\n<style scoped>\n    .dataframe tbody tr th:only-of-type {\n        vertical-align: middle;\n    }\n\n    .dataframe tbody tr th {\n        vertical-align: top;\n    }\n\n    .dataframe thead th {\n        text-align: right;\n    }\n</style>\n<table border=\"1\" class=\"dataframe\">\n  <thead>\n    <tr style=\"text-align: right;\">\n      <th></th>\n      <th>DATE_RAISED</th>\n      <th>DATE_FROM</th>\n      <th>DATE_TO</th>\n      <th>DATE_DETECTED</th>\n      <th>DIVISION_CODE</th>\n      <th>COUNCIL_AREA_CODE</th>\n      <th>BEAT</th>\n      <th>STATS_CLASS_CODE</th>\n      <th>GROUP</th>\n      <th>INVESTIGATION_DURATION</th>\n      <th>BIN_CLASS</th>\n    </tr>\n  </thead>\n  <tbody>\n    <tr>\n      <th>0</th>\n      <td>2014-01-01</td>\n      <td>01-Jan-14</td>\n      <td>01-Jan-14</td>\n      <td>2014-01-01</td>\n      <td>1</td>\n      <td>Aberdeen City</td>\n      <td>AS2B</td>\n      <td>Serious Assault</td>\n      <td>1.0</td>\n      <td>0</td>\n      <td>0</td>\n    </tr>\n    <tr>\n      <th>1</th>\n      <td>2014-01-01</td>\n      <td>01-Jan-14</td>\n      <td>01-Jan-14</td>\n      <td>2014-01-01</td>\n      <td>1</td>\n      <td>Aberdeen City</td>\n      <td>AN3B</td>\n      <td>Serious Assault</td>\n      <td>1.0</td>\n      <td>0</td>\n      <td>0</td>\n    </tr>\n    <tr>\n      <th>2</th>\n      <td>2013-12-31</td>\n      <td>31-Dec-13</td>\n      <td>31-Dec-13</td>\n      <td>2014-01-01</td>\n      <td>1</td>\n      <td>Aberdeen City</td>\n      <td>AN7A</td>\n      <td>Serious Assault</td>\n      <td>1.0</td>\n      <td>1</td>\n      <td>1</td>\n    </tr>\n    <tr>\n      <th>3</th>\n      <td>2014-01-01</td>\n      <td>01-Jan-14</td>\n      <td>01-Jan-14</td>\n      <td>2014-01-01</td>\n      <td>1</td>\n      <td>Aberdeenshire</td>\n      <td>S1A</td>\n      <td>Housebreaking with intent to steal - other pro...</td>\n      <td>3.0</td>\n      <td>0</td>\n      <td>0</td>\n    </tr>\n    <tr>\n      <th>4</th>\n      <td>2014-01-01</td>\n      <td>01-Jan-14</td>\n      <td>01-Jan-14</td>\n      <td>2014-01-01</td>\n      <td>1</td>\n      <td>Aberdeen City</td>\n      <td>AN3A</td>\n      <td>Theft of motor vehicle &amp; contents incl. taking...</td>\n      <td>3.0</td>\n      <td>0</td>\n      <td>0</td>\n    </tr>\n    <tr>\n      <th>...</th>\n      <td>...</td>\n      <td>...</td>\n      <td>...</td>\n      <td>...</td>\n      <td>...</td>\n      <td>...</td>\n      <td>...</td>\n      <td>...</td>\n      <td>...</td>\n      <td>...</td>\n      <td>...</td>\n    </tr>\n    <tr>\n      <th>3000521</th>\n      <td>2021-12-31</td>\n      <td>31-Dec-21</td>\n      <td>31-Dec-21</td>\n      <td>2021-12-31</td>\n      <td>10</td>\n      <td>South Lanarkshire</td>\n      <td>QC55</td>\n      <td>Seat Belt Offences</td>\n      <td>7.0</td>\n      <td>0</td>\n      <td>0</td>\n    </tr>\n    <tr>\n      <th>3000524</th>\n      <td>2021-12-31</td>\n      <td>30-Dec-21</td>\n      <td>30-Dec-21</td>\n      <td>2021-12-31</td>\n      <td>5</td>\n      <td>City of Edinburgh</td>\n      <td>SE41</td>\n      <td>Motor Vehicles, Other Offences</td>\n      <td>7.0</td>\n      <td>0</td>\n      <td>0</td>\n    </tr>\n    <tr>\n      <th>3000525</th>\n      <td>2021-12-29</td>\n      <td>09-Nov-21</td>\n      <td>09-Nov-21</td>\n      <td>2021-12-31</td>\n      <td>1</td>\n      <td>Aberdeen City</td>\n      <td>AN6C</td>\n      <td>Motor Vehicles, Other Offences</td>\n      <td>7.0</td>\n      <td>2</td>\n      <td>1</td>\n    </tr>\n    <tr>\n      <th>3000526</th>\n      <td>2021-12-31</td>\n      <td>30-Dec-21</td>\n      <td>30-Dec-21</td>\n      <td>2021-12-31</td>\n      <td>5</td>\n      <td>City of Edinburgh</td>\n      <td>NW29</td>\n      <td>Motor Vehicles, Other Offences</td>\n      <td>7.0</td>\n      <td>0</td>\n      <td>0</td>\n    </tr>\n    <tr>\n      <th>3000527</th>\n      <td>2021-12-30</td>\n      <td>30-Dec-21</td>\n      <td>30-Dec-21</td>\n      <td>2021-12-31</td>\n      <td>1</td>\n      <td>Aberdeen City</td>\n      <td>AN5A</td>\n      <td>Motor Vehicles, Other Offences</td>\n      <td>7.0</td>\n      <td>1</td>\n      <td>1</td>\n    </tr>\n  </tbody>\n</table>\n<p>2625964 rows × 11 columns</p>\n</div>"
     },
     "execution_count": 51,
     "metadata": {},
     "output_type": "execute_result"
    }
   ],
   "source": [
    "# Drop Missing Values for Additional Feature Extraction\n",
    "df = df.dropna()\n",
    "df"
   ],
   "metadata": {
    "collapsed": false,
    "pycharm": {
     "name": "#%%\n"
    }
   }
  },
  {
   "cell_type": "code",
   "execution_count": 52,
   "outputs": [
    {
     "data": {
      "text/plain": "        DATE_RAISED    DATE_FROM      DATE_TO DATE_DETECTED  DIVISION_CODE  \\\n0        2014-01-01  01-Jan-2014  01-Jan-2014    2014-01-01              1   \n1        2014-01-01  01-Jan-2014  01-Jan-2014    2014-01-01              1   \n2        2013-12-31  31-Dec-2013  31-Dec-2013    2014-01-01              1   \n3        2014-01-01  01-Jan-2014  01-Jan-2014    2014-01-01              1   \n4        2014-01-01  01-Jan-2014  01-Jan-2014    2014-01-01              1   \n...             ...          ...          ...           ...            ...   \n3000521  2021-12-31  31-Dec-2021  31-Dec-2021    2021-12-31             10   \n3000524  2021-12-31  30-Dec-2021  30-Dec-2021    2021-12-31              5   \n3000525  2021-12-29  09-Nov-2021  09-Nov-2021    2021-12-31              1   \n3000526  2021-12-31  30-Dec-2021  30-Dec-2021    2021-12-31              5   \n3000527  2021-12-30  30-Dec-2021  30-Dec-2021    2021-12-31              1   \n\n         COUNCIL_AREA_CODE  BEAT  \\\n0            Aberdeen City  AS2B   \n1            Aberdeen City  AN3B   \n2            Aberdeen City  AN7A   \n3            Aberdeenshire   S1A   \n4            Aberdeen City  AN3A   \n...                    ...   ...   \n3000521  South Lanarkshire  QC55   \n3000524  City of Edinburgh  SE41   \n3000525      Aberdeen City  AN6C   \n3000526  City of Edinburgh  NW29   \n3000527      Aberdeen City  AN5A   \n\n                                          STATS_CLASS_CODE  GROUP  \\\n0                                          Serious Assault    1.0   \n1                                          Serious Assault    1.0   \n2                                          Serious Assault    1.0   \n3        Housebreaking with intent to steal - other pro...    3.0   \n4        Theft of motor vehicle & contents incl. taking...    3.0   \n...                                                    ...    ...   \n3000521                                 Seat Belt Offences    7.0   \n3000524                     Motor Vehicles, Other Offences    7.0   \n3000525                     Motor Vehicles, Other Offences    7.0   \n3000526                     Motor Vehicles, Other Offences    7.0   \n3000527                     Motor Vehicles, Other Offences    7.0   \n\n         INVESTIGATION_DURATION  BIN_CLASS  \n0                             0          0  \n1                             0          0  \n2                             1          1  \n3                             0          0  \n4                             0          0  \n...                         ...        ...  \n3000521                       0          0  \n3000524                       0          0  \n3000525                       2          1  \n3000526                       0          0  \n3000527                       1          1  \n\n[2625964 rows x 11 columns]",
      "text/html": "<div>\n<style scoped>\n    .dataframe tbody tr th:only-of-type {\n        vertical-align: middle;\n    }\n\n    .dataframe tbody tr th {\n        vertical-align: top;\n    }\n\n    .dataframe thead th {\n        text-align: right;\n    }\n</style>\n<table border=\"1\" class=\"dataframe\">\n  <thead>\n    <tr style=\"text-align: right;\">\n      <th></th>\n      <th>DATE_RAISED</th>\n      <th>DATE_FROM</th>\n      <th>DATE_TO</th>\n      <th>DATE_DETECTED</th>\n      <th>DIVISION_CODE</th>\n      <th>COUNCIL_AREA_CODE</th>\n      <th>BEAT</th>\n      <th>STATS_CLASS_CODE</th>\n      <th>GROUP</th>\n      <th>INVESTIGATION_DURATION</th>\n      <th>BIN_CLASS</th>\n    </tr>\n  </thead>\n  <tbody>\n    <tr>\n      <th>0</th>\n      <td>2014-01-01</td>\n      <td>01-Jan-2014</td>\n      <td>01-Jan-2014</td>\n      <td>2014-01-01</td>\n      <td>1</td>\n      <td>Aberdeen City</td>\n      <td>AS2B</td>\n      <td>Serious Assault</td>\n      <td>1.0</td>\n      <td>0</td>\n      <td>0</td>\n    </tr>\n    <tr>\n      <th>1</th>\n      <td>2014-01-01</td>\n      <td>01-Jan-2014</td>\n      <td>01-Jan-2014</td>\n      <td>2014-01-01</td>\n      <td>1</td>\n      <td>Aberdeen City</td>\n      <td>AN3B</td>\n      <td>Serious Assault</td>\n      <td>1.0</td>\n      <td>0</td>\n      <td>0</td>\n    </tr>\n    <tr>\n      <th>2</th>\n      <td>2013-12-31</td>\n      <td>31-Dec-2013</td>\n      <td>31-Dec-2013</td>\n      <td>2014-01-01</td>\n      <td>1</td>\n      <td>Aberdeen City</td>\n      <td>AN7A</td>\n      <td>Serious Assault</td>\n      <td>1.0</td>\n      <td>1</td>\n      <td>1</td>\n    </tr>\n    <tr>\n      <th>3</th>\n      <td>2014-01-01</td>\n      <td>01-Jan-2014</td>\n      <td>01-Jan-2014</td>\n      <td>2014-01-01</td>\n      <td>1</td>\n      <td>Aberdeenshire</td>\n      <td>S1A</td>\n      <td>Housebreaking with intent to steal - other pro...</td>\n      <td>3.0</td>\n      <td>0</td>\n      <td>0</td>\n    </tr>\n    <tr>\n      <th>4</th>\n      <td>2014-01-01</td>\n      <td>01-Jan-2014</td>\n      <td>01-Jan-2014</td>\n      <td>2014-01-01</td>\n      <td>1</td>\n      <td>Aberdeen City</td>\n      <td>AN3A</td>\n      <td>Theft of motor vehicle &amp; contents incl. taking...</td>\n      <td>3.0</td>\n      <td>0</td>\n      <td>0</td>\n    </tr>\n    <tr>\n      <th>...</th>\n      <td>...</td>\n      <td>...</td>\n      <td>...</td>\n      <td>...</td>\n      <td>...</td>\n      <td>...</td>\n      <td>...</td>\n      <td>...</td>\n      <td>...</td>\n      <td>...</td>\n      <td>...</td>\n    </tr>\n    <tr>\n      <th>3000521</th>\n      <td>2021-12-31</td>\n      <td>31-Dec-2021</td>\n      <td>31-Dec-2021</td>\n      <td>2021-12-31</td>\n      <td>10</td>\n      <td>South Lanarkshire</td>\n      <td>QC55</td>\n      <td>Seat Belt Offences</td>\n      <td>7.0</td>\n      <td>0</td>\n      <td>0</td>\n    </tr>\n    <tr>\n      <th>3000524</th>\n      <td>2021-12-31</td>\n      <td>30-Dec-2021</td>\n      <td>30-Dec-2021</td>\n      <td>2021-12-31</td>\n      <td>5</td>\n      <td>City of Edinburgh</td>\n      <td>SE41</td>\n      <td>Motor Vehicles, Other Offences</td>\n      <td>7.0</td>\n      <td>0</td>\n      <td>0</td>\n    </tr>\n    <tr>\n      <th>3000525</th>\n      <td>2021-12-29</td>\n      <td>09-Nov-2021</td>\n      <td>09-Nov-2021</td>\n      <td>2021-12-31</td>\n      <td>1</td>\n      <td>Aberdeen City</td>\n      <td>AN6C</td>\n      <td>Motor Vehicles, Other Offences</td>\n      <td>7.0</td>\n      <td>2</td>\n      <td>1</td>\n    </tr>\n    <tr>\n      <th>3000526</th>\n      <td>2021-12-31</td>\n      <td>30-Dec-2021</td>\n      <td>30-Dec-2021</td>\n      <td>2021-12-31</td>\n      <td>5</td>\n      <td>City of Edinburgh</td>\n      <td>NW29</td>\n      <td>Motor Vehicles, Other Offences</td>\n      <td>7.0</td>\n      <td>0</td>\n      <td>0</td>\n    </tr>\n    <tr>\n      <th>3000527</th>\n      <td>2021-12-30</td>\n      <td>30-Dec-2021</td>\n      <td>30-Dec-2021</td>\n      <td>2021-12-31</td>\n      <td>1</td>\n      <td>Aberdeen City</td>\n      <td>AN5A</td>\n      <td>Motor Vehicles, Other Offences</td>\n      <td>7.0</td>\n      <td>1</td>\n      <td>1</td>\n    </tr>\n  </tbody>\n</table>\n<p>2625964 rows × 11 columns</p>\n</div>"
     },
     "execution_count": 52,
     "metadata": {},
     "output_type": "execute_result"
    }
   ],
   "source": [
    "# Fix Date Formatting for Remaining Dates\n",
    "cols = ['DATE_TO', 'DATE_FROM']\n",
    "\n",
    "for col in cols:\n",
    "    df[col] = np.where(df[col].str[-2:].astype(int) > 22, df[col].str[:-2] + \"19\" + df[col].str[-2:], df[col])\n",
    "    df[col] = np.where(df[col].str[-2:].astype(int) <= 22, df[col].str[:-2] + \"20\" + df[col].str[-2:], df[col])\n",
    "\n",
    "df"
   ],
   "metadata": {
    "collapsed": false,
    "pycharm": {
     "name": "#%%\n"
    }
   }
  },
  {
   "cell_type": "code",
   "execution_count": 53,
   "metadata": {
    "pycharm": {
     "name": "#%%\n"
    }
   },
   "outputs": [
    {
     "data": {
      "text/plain": "        DATE_RAISED  DATE_FROM    DATE_TO DATE_DETECTED  DIVISION_CODE  \\\n0        2014-01-01 2014-01-01 2014-01-01    2014-01-01              1   \n1        2014-01-01 2014-01-01 2014-01-01    2014-01-01              1   \n2        2013-12-31 2013-12-31 2013-12-31    2014-01-01              1   \n3        2014-01-01 2014-01-01 2014-01-01    2014-01-01              1   \n4        2014-01-01 2014-01-01 2014-01-01    2014-01-01              1   \n...             ...        ...        ...           ...            ...   \n3000521  2021-12-31 2021-12-31 2021-12-31    2021-12-31             10   \n3000524  2021-12-31 2021-12-30 2021-12-30    2021-12-31              5   \n3000525  2021-12-29 2021-11-09 2021-11-09    2021-12-31              1   \n3000526  2021-12-31 2021-12-30 2021-12-30    2021-12-31              5   \n3000527  2021-12-30 2021-12-30 2021-12-30    2021-12-31              1   \n\n         COUNCIL_AREA_CODE  BEAT  \\\n0            Aberdeen City  AS2B   \n1            Aberdeen City  AN3B   \n2            Aberdeen City  AN7A   \n3            Aberdeenshire   S1A   \n4            Aberdeen City  AN3A   \n...                    ...   ...   \n3000521  South Lanarkshire  QC55   \n3000524  City of Edinburgh  SE41   \n3000525      Aberdeen City  AN6C   \n3000526  City of Edinburgh  NW29   \n3000527      Aberdeen City  AN5A   \n\n                                          STATS_CLASS_CODE  GROUP  \\\n0                                          Serious Assault    1.0   \n1                                          Serious Assault    1.0   \n2                                          Serious Assault    1.0   \n3        Housebreaking with intent to steal - other pro...    3.0   \n4        Theft of motor vehicle & contents incl. taking...    3.0   \n...                                                    ...    ...   \n3000521                                 Seat Belt Offences    7.0   \n3000524                     Motor Vehicles, Other Offences    7.0   \n3000525                     Motor Vehicles, Other Offences    7.0   \n3000526                     Motor Vehicles, Other Offences    7.0   \n3000527                     Motor Vehicles, Other Offences    7.0   \n\n         INVESTIGATION_DURATION  BIN_CLASS  OCCUR_RANGE  \n0                             0          0            0  \n1                             0          0            0  \n2                             1          1            0  \n3                             0          0            0  \n4                             0          0            0  \n...                         ...        ...          ...  \n3000521                       0          0            0  \n3000524                       0          0            0  \n3000525                       2          1            0  \n3000526                       0          0            0  \n3000527                       1          1            0  \n\n[2625964 rows x 12 columns]",
      "text/html": "<div>\n<style scoped>\n    .dataframe tbody tr th:only-of-type {\n        vertical-align: middle;\n    }\n\n    .dataframe tbody tr th {\n        vertical-align: top;\n    }\n\n    .dataframe thead th {\n        text-align: right;\n    }\n</style>\n<table border=\"1\" class=\"dataframe\">\n  <thead>\n    <tr style=\"text-align: right;\">\n      <th></th>\n      <th>DATE_RAISED</th>\n      <th>DATE_FROM</th>\n      <th>DATE_TO</th>\n      <th>DATE_DETECTED</th>\n      <th>DIVISION_CODE</th>\n      <th>COUNCIL_AREA_CODE</th>\n      <th>BEAT</th>\n      <th>STATS_CLASS_CODE</th>\n      <th>GROUP</th>\n      <th>INVESTIGATION_DURATION</th>\n      <th>BIN_CLASS</th>\n      <th>OCCUR_RANGE</th>\n    </tr>\n  </thead>\n  <tbody>\n    <tr>\n      <th>0</th>\n      <td>2014-01-01</td>\n      <td>2014-01-01</td>\n      <td>2014-01-01</td>\n      <td>2014-01-01</td>\n      <td>1</td>\n      <td>Aberdeen City</td>\n      <td>AS2B</td>\n      <td>Serious Assault</td>\n      <td>1.0</td>\n      <td>0</td>\n      <td>0</td>\n      <td>0</td>\n    </tr>\n    <tr>\n      <th>1</th>\n      <td>2014-01-01</td>\n      <td>2014-01-01</td>\n      <td>2014-01-01</td>\n      <td>2014-01-01</td>\n      <td>1</td>\n      <td>Aberdeen City</td>\n      <td>AN3B</td>\n      <td>Serious Assault</td>\n      <td>1.0</td>\n      <td>0</td>\n      <td>0</td>\n      <td>0</td>\n    </tr>\n    <tr>\n      <th>2</th>\n      <td>2013-12-31</td>\n      <td>2013-12-31</td>\n      <td>2013-12-31</td>\n      <td>2014-01-01</td>\n      <td>1</td>\n      <td>Aberdeen City</td>\n      <td>AN7A</td>\n      <td>Serious Assault</td>\n      <td>1.0</td>\n      <td>1</td>\n      <td>1</td>\n      <td>0</td>\n    </tr>\n    <tr>\n      <th>3</th>\n      <td>2014-01-01</td>\n      <td>2014-01-01</td>\n      <td>2014-01-01</td>\n      <td>2014-01-01</td>\n      <td>1</td>\n      <td>Aberdeenshire</td>\n      <td>S1A</td>\n      <td>Housebreaking with intent to steal - other pro...</td>\n      <td>3.0</td>\n      <td>0</td>\n      <td>0</td>\n      <td>0</td>\n    </tr>\n    <tr>\n      <th>4</th>\n      <td>2014-01-01</td>\n      <td>2014-01-01</td>\n      <td>2014-01-01</td>\n      <td>2014-01-01</td>\n      <td>1</td>\n      <td>Aberdeen City</td>\n      <td>AN3A</td>\n      <td>Theft of motor vehicle &amp; contents incl. taking...</td>\n      <td>3.0</td>\n      <td>0</td>\n      <td>0</td>\n      <td>0</td>\n    </tr>\n    <tr>\n      <th>...</th>\n      <td>...</td>\n      <td>...</td>\n      <td>...</td>\n      <td>...</td>\n      <td>...</td>\n      <td>...</td>\n      <td>...</td>\n      <td>...</td>\n      <td>...</td>\n      <td>...</td>\n      <td>...</td>\n      <td>...</td>\n    </tr>\n    <tr>\n      <th>3000521</th>\n      <td>2021-12-31</td>\n      <td>2021-12-31</td>\n      <td>2021-12-31</td>\n      <td>2021-12-31</td>\n      <td>10</td>\n      <td>South Lanarkshire</td>\n      <td>QC55</td>\n      <td>Seat Belt Offences</td>\n      <td>7.0</td>\n      <td>0</td>\n      <td>0</td>\n      <td>0</td>\n    </tr>\n    <tr>\n      <th>3000524</th>\n      <td>2021-12-31</td>\n      <td>2021-12-30</td>\n      <td>2021-12-30</td>\n      <td>2021-12-31</td>\n      <td>5</td>\n      <td>City of Edinburgh</td>\n      <td>SE41</td>\n      <td>Motor Vehicles, Other Offences</td>\n      <td>7.0</td>\n      <td>0</td>\n      <td>0</td>\n      <td>0</td>\n    </tr>\n    <tr>\n      <th>3000525</th>\n      <td>2021-12-29</td>\n      <td>2021-11-09</td>\n      <td>2021-11-09</td>\n      <td>2021-12-31</td>\n      <td>1</td>\n      <td>Aberdeen City</td>\n      <td>AN6C</td>\n      <td>Motor Vehicles, Other Offences</td>\n      <td>7.0</td>\n      <td>2</td>\n      <td>1</td>\n      <td>0</td>\n    </tr>\n    <tr>\n      <th>3000526</th>\n      <td>2021-12-31</td>\n      <td>2021-12-30</td>\n      <td>2021-12-30</td>\n      <td>2021-12-31</td>\n      <td>5</td>\n      <td>City of Edinburgh</td>\n      <td>NW29</td>\n      <td>Motor Vehicles, Other Offences</td>\n      <td>7.0</td>\n      <td>0</td>\n      <td>0</td>\n      <td>0</td>\n    </tr>\n    <tr>\n      <th>3000527</th>\n      <td>2021-12-30</td>\n      <td>2021-12-30</td>\n      <td>2021-12-30</td>\n      <td>2021-12-31</td>\n      <td>1</td>\n      <td>Aberdeen City</td>\n      <td>AN5A</td>\n      <td>Motor Vehicles, Other Offences</td>\n      <td>7.0</td>\n      <td>1</td>\n      <td>1</td>\n      <td>0</td>\n    </tr>\n  </tbody>\n</table>\n<p>2625964 rows × 12 columns</p>\n</div>"
     },
     "execution_count": 53,
     "metadata": {},
     "output_type": "execute_result"
    }
   ],
   "source": [
    "# Calculate Occur Date Range - Assume Negative is Clerical Error (Use Absolute Value)\n",
    "df[['DATE_TO', 'DATE_FROM']] = df[['DATE_TO', 'DATE_FROM']].apply(pd.to_datetime)\n",
    "df['OCCUR_RANGE'] = abs((df['DATE_TO'] - df['DATE_FROM']).dt.days)\n",
    "df"
   ]
  },
  {
   "cell_type": "code",
   "execution_count": 54,
   "metadata": {
    "pycharm": {
     "name": "#%%\n"
    }
   },
   "outputs": [],
   "source": [
    "# Calculate Report Delay - Assume Negative is Clerical Error (Use Absolute Value)\n",
    "df['DATE_RAISED'] = df['DATE_RAISED'].apply(pd.to_datetime)\n",
    "df['REPORT_DELAY'] = abs((df['DATE_RAISED'] - df['DATE_FROM']).dt.days)"
   ]
  },
  {
   "cell_type": "code",
   "execution_count": 55,
   "outputs": [
    {
     "data": {
      "text/plain": "        DATE_RAISED  DATE_FROM    DATE_TO DATE_DETECTED  DIVISION_CODE  \\\n0        2014-01-01 2014-01-01 2014-01-01    2014-01-01              1   \n1        2014-01-01 2014-01-01 2014-01-01    2014-01-01              1   \n2        2013-12-31 2013-12-31 2013-12-31    2014-01-01              1   \n3        2014-01-01 2014-01-01 2014-01-01    2014-01-01              1   \n4        2014-01-01 2014-01-01 2014-01-01    2014-01-01              1   \n...             ...        ...        ...           ...            ...   \n3000521  2021-12-31 2021-12-31 2021-12-31    2021-12-31             10   \n3000524  2021-12-31 2021-12-30 2021-12-30    2021-12-31              5   \n3000525  2021-12-29 2021-11-09 2021-11-09    2021-12-31              1   \n3000526  2021-12-31 2021-12-30 2021-12-30    2021-12-31              5   \n3000527  2021-12-30 2021-12-30 2021-12-30    2021-12-31              1   \n\n         COUNCIL_AREA_CODE  BEAT  \\\n0            Aberdeen City  AS2B   \n1            Aberdeen City  AN3B   \n2            Aberdeen City  AN7A   \n3            Aberdeenshire   S1A   \n4            Aberdeen City  AN3A   \n...                    ...   ...   \n3000521  South Lanarkshire  QC55   \n3000524  City of Edinburgh  SE41   \n3000525      Aberdeen City  AN6C   \n3000526  City of Edinburgh  NW29   \n3000527      Aberdeen City  AN5A   \n\n                                          STATS_CLASS_CODE  GROUP  \\\n0                                          Serious Assault    1.0   \n1                                          Serious Assault    1.0   \n2                                          Serious Assault    1.0   \n3        Housebreaking with intent to steal - other pro...    3.0   \n4        Theft of motor vehicle & contents incl. taking...    3.0   \n...                                                    ...    ...   \n3000521                                 Seat Belt Offences    7.0   \n3000524                     Motor Vehicles, Other Offences    7.0   \n3000525                     Motor Vehicles, Other Offences    7.0   \n3000526                     Motor Vehicles, Other Offences    7.0   \n3000527                     Motor Vehicles, Other Offences    7.0   \n\n         INVESTIGATION_DURATION  BIN_CLASS  OCCUR_RANGE  REPORT_DELAY  \n0                             0          0            0             0  \n1                             0          0            0             0  \n2                             1          1            0             0  \n3                             0          0            0             0  \n4                             0          0            0             0  \n...                         ...        ...          ...           ...  \n3000521                       0          0            0             0  \n3000524                       0          0            0             1  \n3000525                       2          1            0            50  \n3000526                       0          0            0             1  \n3000527                       1          1            0             0  \n\n[2625964 rows x 13 columns]",
      "text/html": "<div>\n<style scoped>\n    .dataframe tbody tr th:only-of-type {\n        vertical-align: middle;\n    }\n\n    .dataframe tbody tr th {\n        vertical-align: top;\n    }\n\n    .dataframe thead th {\n        text-align: right;\n    }\n</style>\n<table border=\"1\" class=\"dataframe\">\n  <thead>\n    <tr style=\"text-align: right;\">\n      <th></th>\n      <th>DATE_RAISED</th>\n      <th>DATE_FROM</th>\n      <th>DATE_TO</th>\n      <th>DATE_DETECTED</th>\n      <th>DIVISION_CODE</th>\n      <th>COUNCIL_AREA_CODE</th>\n      <th>BEAT</th>\n      <th>STATS_CLASS_CODE</th>\n      <th>GROUP</th>\n      <th>INVESTIGATION_DURATION</th>\n      <th>BIN_CLASS</th>\n      <th>OCCUR_RANGE</th>\n      <th>REPORT_DELAY</th>\n    </tr>\n  </thead>\n  <tbody>\n    <tr>\n      <th>0</th>\n      <td>2014-01-01</td>\n      <td>2014-01-01</td>\n      <td>2014-01-01</td>\n      <td>2014-01-01</td>\n      <td>1</td>\n      <td>Aberdeen City</td>\n      <td>AS2B</td>\n      <td>Serious Assault</td>\n      <td>1.0</td>\n      <td>0</td>\n      <td>0</td>\n      <td>0</td>\n      <td>0</td>\n    </tr>\n    <tr>\n      <th>1</th>\n      <td>2014-01-01</td>\n      <td>2014-01-01</td>\n      <td>2014-01-01</td>\n      <td>2014-01-01</td>\n      <td>1</td>\n      <td>Aberdeen City</td>\n      <td>AN3B</td>\n      <td>Serious Assault</td>\n      <td>1.0</td>\n      <td>0</td>\n      <td>0</td>\n      <td>0</td>\n      <td>0</td>\n    </tr>\n    <tr>\n      <th>2</th>\n      <td>2013-12-31</td>\n      <td>2013-12-31</td>\n      <td>2013-12-31</td>\n      <td>2014-01-01</td>\n      <td>1</td>\n      <td>Aberdeen City</td>\n      <td>AN7A</td>\n      <td>Serious Assault</td>\n      <td>1.0</td>\n      <td>1</td>\n      <td>1</td>\n      <td>0</td>\n      <td>0</td>\n    </tr>\n    <tr>\n      <th>3</th>\n      <td>2014-01-01</td>\n      <td>2014-01-01</td>\n      <td>2014-01-01</td>\n      <td>2014-01-01</td>\n      <td>1</td>\n      <td>Aberdeenshire</td>\n      <td>S1A</td>\n      <td>Housebreaking with intent to steal - other pro...</td>\n      <td>3.0</td>\n      <td>0</td>\n      <td>0</td>\n      <td>0</td>\n      <td>0</td>\n    </tr>\n    <tr>\n      <th>4</th>\n      <td>2014-01-01</td>\n      <td>2014-01-01</td>\n      <td>2014-01-01</td>\n      <td>2014-01-01</td>\n      <td>1</td>\n      <td>Aberdeen City</td>\n      <td>AN3A</td>\n      <td>Theft of motor vehicle &amp; contents incl. taking...</td>\n      <td>3.0</td>\n      <td>0</td>\n      <td>0</td>\n      <td>0</td>\n      <td>0</td>\n    </tr>\n    <tr>\n      <th>...</th>\n      <td>...</td>\n      <td>...</td>\n      <td>...</td>\n      <td>...</td>\n      <td>...</td>\n      <td>...</td>\n      <td>...</td>\n      <td>...</td>\n      <td>...</td>\n      <td>...</td>\n      <td>...</td>\n      <td>...</td>\n      <td>...</td>\n    </tr>\n    <tr>\n      <th>3000521</th>\n      <td>2021-12-31</td>\n      <td>2021-12-31</td>\n      <td>2021-12-31</td>\n      <td>2021-12-31</td>\n      <td>10</td>\n      <td>South Lanarkshire</td>\n      <td>QC55</td>\n      <td>Seat Belt Offences</td>\n      <td>7.0</td>\n      <td>0</td>\n      <td>0</td>\n      <td>0</td>\n      <td>0</td>\n    </tr>\n    <tr>\n      <th>3000524</th>\n      <td>2021-12-31</td>\n      <td>2021-12-30</td>\n      <td>2021-12-30</td>\n      <td>2021-12-31</td>\n      <td>5</td>\n      <td>City of Edinburgh</td>\n      <td>SE41</td>\n      <td>Motor Vehicles, Other Offences</td>\n      <td>7.0</td>\n      <td>0</td>\n      <td>0</td>\n      <td>0</td>\n      <td>1</td>\n    </tr>\n    <tr>\n      <th>3000525</th>\n      <td>2021-12-29</td>\n      <td>2021-11-09</td>\n      <td>2021-11-09</td>\n      <td>2021-12-31</td>\n      <td>1</td>\n      <td>Aberdeen City</td>\n      <td>AN6C</td>\n      <td>Motor Vehicles, Other Offences</td>\n      <td>7.0</td>\n      <td>2</td>\n      <td>1</td>\n      <td>0</td>\n      <td>50</td>\n    </tr>\n    <tr>\n      <th>3000526</th>\n      <td>2021-12-31</td>\n      <td>2021-12-30</td>\n      <td>2021-12-30</td>\n      <td>2021-12-31</td>\n      <td>5</td>\n      <td>City of Edinburgh</td>\n      <td>NW29</td>\n      <td>Motor Vehicles, Other Offences</td>\n      <td>7.0</td>\n      <td>0</td>\n      <td>0</td>\n      <td>0</td>\n      <td>1</td>\n    </tr>\n    <tr>\n      <th>3000527</th>\n      <td>2021-12-30</td>\n      <td>2021-12-30</td>\n      <td>2021-12-30</td>\n      <td>2021-12-31</td>\n      <td>1</td>\n      <td>Aberdeen City</td>\n      <td>AN5A</td>\n      <td>Motor Vehicles, Other Offences</td>\n      <td>7.0</td>\n      <td>1</td>\n      <td>1</td>\n      <td>0</td>\n      <td>0</td>\n    </tr>\n  </tbody>\n</table>\n<p>2625964 rows × 13 columns</p>\n</div>"
     },
     "execution_count": 55,
     "metadata": {},
     "output_type": "execute_result"
    }
   ],
   "source": [
    "df"
   ],
   "metadata": {
    "collapsed": false,
    "pycharm": {
     "name": "#%%\n"
    }
   }
  },
  {
   "cell_type": "code",
   "execution_count": 56,
   "metadata": {
    "pycharm": {
     "name": "#%%\n"
    }
   },
   "outputs": [
    {
     "data": {
      "text/plain": "         DIVISION_CODE  COUNCIL_AREA_CODE  BEAT  \\\n0                    1      Aberdeen City  AS2B   \n1                    1      Aberdeen City  AN3B   \n2                    1      Aberdeen City  AN7A   \n3                    1      Aberdeenshire   S1A   \n4                    1      Aberdeen City  AN3A   \n...                ...                ...   ...   \n3000521             10  South Lanarkshire  QC55   \n3000524              5  City of Edinburgh  SE41   \n3000525              1      Aberdeen City  AN6C   \n3000526              5  City of Edinburgh  NW29   \n3000527              1      Aberdeen City  AN5A   \n\n                                          STATS_CLASS_CODE  GROUP  \\\n0                                          Serious Assault    1.0   \n1                                          Serious Assault    1.0   \n2                                          Serious Assault    1.0   \n3        Housebreaking with intent to steal - other pro...    3.0   \n4        Theft of motor vehicle & contents incl. taking...    3.0   \n...                                                    ...    ...   \n3000521                                 Seat Belt Offences    7.0   \n3000524                     Motor Vehicles, Other Offences    7.0   \n3000525                     Motor Vehicles, Other Offences    7.0   \n3000526                     Motor Vehicles, Other Offences    7.0   \n3000527                     Motor Vehicles, Other Offences    7.0   \n\n         OCCUR_RANGE  REPORT_DELAY  INVESTIGATION_DURATION  BIN_CLASS  \n0                  0             0                       0          0  \n1                  0             0                       0          0  \n2                  0             0                       1          1  \n3                  0             0                       0          0  \n4                  0             0                       0          0  \n...              ...           ...                     ...        ...  \n3000521            0             0                       0          0  \n3000524            0             1                       0          0  \n3000525            0            50                       2          1  \n3000526            0             1                       0          0  \n3000527            0             0                       1          1  \n\n[2625964 rows x 9 columns]",
      "text/html": "<div>\n<style scoped>\n    .dataframe tbody tr th:only-of-type {\n        vertical-align: middle;\n    }\n\n    .dataframe tbody tr th {\n        vertical-align: top;\n    }\n\n    .dataframe thead th {\n        text-align: right;\n    }\n</style>\n<table border=\"1\" class=\"dataframe\">\n  <thead>\n    <tr style=\"text-align: right;\">\n      <th></th>\n      <th>DIVISION_CODE</th>\n      <th>COUNCIL_AREA_CODE</th>\n      <th>BEAT</th>\n      <th>STATS_CLASS_CODE</th>\n      <th>GROUP</th>\n      <th>OCCUR_RANGE</th>\n      <th>REPORT_DELAY</th>\n      <th>INVESTIGATION_DURATION</th>\n      <th>BIN_CLASS</th>\n    </tr>\n  </thead>\n  <tbody>\n    <tr>\n      <th>0</th>\n      <td>1</td>\n      <td>Aberdeen City</td>\n      <td>AS2B</td>\n      <td>Serious Assault</td>\n      <td>1.0</td>\n      <td>0</td>\n      <td>0</td>\n      <td>0</td>\n      <td>0</td>\n    </tr>\n    <tr>\n      <th>1</th>\n      <td>1</td>\n      <td>Aberdeen City</td>\n      <td>AN3B</td>\n      <td>Serious Assault</td>\n      <td>1.0</td>\n      <td>0</td>\n      <td>0</td>\n      <td>0</td>\n      <td>0</td>\n    </tr>\n    <tr>\n      <th>2</th>\n      <td>1</td>\n      <td>Aberdeen City</td>\n      <td>AN7A</td>\n      <td>Serious Assault</td>\n      <td>1.0</td>\n      <td>0</td>\n      <td>0</td>\n      <td>1</td>\n      <td>1</td>\n    </tr>\n    <tr>\n      <th>3</th>\n      <td>1</td>\n      <td>Aberdeenshire</td>\n      <td>S1A</td>\n      <td>Housebreaking with intent to steal - other pro...</td>\n      <td>3.0</td>\n      <td>0</td>\n      <td>0</td>\n      <td>0</td>\n      <td>0</td>\n    </tr>\n    <tr>\n      <th>4</th>\n      <td>1</td>\n      <td>Aberdeen City</td>\n      <td>AN3A</td>\n      <td>Theft of motor vehicle &amp; contents incl. taking...</td>\n      <td>3.0</td>\n      <td>0</td>\n      <td>0</td>\n      <td>0</td>\n      <td>0</td>\n    </tr>\n    <tr>\n      <th>...</th>\n      <td>...</td>\n      <td>...</td>\n      <td>...</td>\n      <td>...</td>\n      <td>...</td>\n      <td>...</td>\n      <td>...</td>\n      <td>...</td>\n      <td>...</td>\n    </tr>\n    <tr>\n      <th>3000521</th>\n      <td>10</td>\n      <td>South Lanarkshire</td>\n      <td>QC55</td>\n      <td>Seat Belt Offences</td>\n      <td>7.0</td>\n      <td>0</td>\n      <td>0</td>\n      <td>0</td>\n      <td>0</td>\n    </tr>\n    <tr>\n      <th>3000524</th>\n      <td>5</td>\n      <td>City of Edinburgh</td>\n      <td>SE41</td>\n      <td>Motor Vehicles, Other Offences</td>\n      <td>7.0</td>\n      <td>0</td>\n      <td>1</td>\n      <td>0</td>\n      <td>0</td>\n    </tr>\n    <tr>\n      <th>3000525</th>\n      <td>1</td>\n      <td>Aberdeen City</td>\n      <td>AN6C</td>\n      <td>Motor Vehicles, Other Offences</td>\n      <td>7.0</td>\n      <td>0</td>\n      <td>50</td>\n      <td>2</td>\n      <td>1</td>\n    </tr>\n    <tr>\n      <th>3000526</th>\n      <td>5</td>\n      <td>City of Edinburgh</td>\n      <td>NW29</td>\n      <td>Motor Vehicles, Other Offences</td>\n      <td>7.0</td>\n      <td>0</td>\n      <td>1</td>\n      <td>0</td>\n      <td>0</td>\n    </tr>\n    <tr>\n      <th>3000527</th>\n      <td>1</td>\n      <td>Aberdeen City</td>\n      <td>AN5A</td>\n      <td>Motor Vehicles, Other Offences</td>\n      <td>7.0</td>\n      <td>0</td>\n      <td>0</td>\n      <td>1</td>\n      <td>1</td>\n    </tr>\n  </tbody>\n</table>\n<p>2625964 rows × 9 columns</p>\n</div>"
     },
     "execution_count": 56,
     "metadata": {},
     "output_type": "execute_result"
    }
   ],
   "source": [
    "# Remove Unwanted Rows\n",
    "df = df[['DIVISION_CODE',\n",
    "         'COUNCIL_AREA_CODE',\n",
    "         'BEAT',\n",
    "         'STATS_CLASS_CODE',\n",
    "         'GROUP',\n",
    "         'OCCUR_RANGE',\n",
    "         'REPORT_DELAY',\n",
    "         'INVESTIGATION_DURATION',\n",
    "         'BIN_CLASS']]\n",
    "\n",
    "df"
   ]
  },
  {
   "cell_type": "code",
   "execution_count": 57,
   "metadata": {
    "pycharm": {
     "name": "#%%\n"
    }
   },
   "outputs": [],
   "source": [
    "# Export To File\n",
    "df.to_csv('data/sanitized_additional.csv', index=False)"
   ]
  }
 ],
 "metadata": {
  "kernelspec": {
   "display_name": "Python 3",
   "language": "python",
   "name": "python3"
  },
  "language_info": {
   "codemirror_mode": {
    "name": "ipython",
    "version": 3
   },
   "file_extension": ".py",
   "mimetype": "text/x-python",
   "name": "python",
   "nbconvert_exporter": "python",
   "pygments_lexer": "ipython3",
   "version": "3.7.0"
  }
 },
 "nbformat": 4,
 "nbformat_minor": 1
}